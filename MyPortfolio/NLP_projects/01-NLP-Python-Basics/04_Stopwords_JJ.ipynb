{
 "cells": [
  {
   "cell_type": "code",
   "execution_count": 1,
   "metadata": {},
   "outputs": [],
   "source": [
    "import spacy\n",
    "\n",
    "nlp = spacy.load('en_core_web_sm')"
   ]
  },
  {
   "cell_type": "code",
   "execution_count": 2,
   "metadata": {},
   "outputs": [
    {
     "name": "stdout",
     "output_type": "stream",
     "text": [
      "{'him', 'via', 'whence', 'become', 'this', 'put', 'except', 'thru', 'upon', 'anywhere', 'hundred', 'last', 'herein', 'a', 'six', 'an', 'yet', 'yourself', 'amongst', 'about', 'becoming', 'too', 'thereupon', 'up', 'before', 'even', 'nowhere', 'with', 'than', 'again', 'should', 'behind', 'became', 'noone', 'these', 'sixty', 'he', 'own', 'somewhere', 'whereupon', 'three', 'thereby', 'together', 'per', 'one', 'may', 'serious', 'side', 'yours', 'also', 'everything', 'fifty', 'here', 'themselves', 'give', 'are', 'does', 'more', 'whereafter', 'regarding', 'each', 'everywhere', 'them', 'until', 'anyway', 'keep', 'all', 'twelve', 'yourselves', 'whereby', 'anyhow', 'sometime', 'becomes', 'who', 'will', 'if', 'whoever', 'almost', 'out', 'me', 'see', 'elsewhere', 'make', 'ours', 'show', 'front', 'is', 'five', 'hereupon', 'most', 'sometimes', 'whom', 'within', 'have', 'name', 'namely', 'hereby', 'beyond', 'down', 'hers', 'four', 'what', 'mostly', 'much', 'beforehand', 'wherever', 'few', 'that', 'the', 'did', 'always', 'doing', 'between', 'whenever', 'mine', 'only', 'your', 'i', 'my', 'amount', 'third', 'back', 'myself', 'nine', 'though', 'under', 'which', 'us', 'among', 'various', 'when', 'how', 'full', 'might', 'she', 'toward', 'seem', 'due', 'fifteen', 'hence', 'has', 'say', 'either', 'for', 'same', 'but', 'nobody', 'nevertheless', 'were', 'above', 'else', 'where', 'besides', 'now', 'thereafter', 'wherein', 'meanwhile', 'could', 'whither', 'seems', 'while', 'often', 'everyone', 'top', 'so', 'part', 'was', 'empty', 'former', 'less', 'off', 'on', 'had', 'just', 'anything', 'neither', 'really', 'being', 'some', 'their', 'through', 'not', 'done', 'get', 'it', 'any', 'at', 'can', 'itself', 'both', 'although', 'no', 'whereas', 'her', 'bottom', 'further', 'our', 'twenty', 'ca', 'indeed', 'throughout', 'to', 'towards', 'after', 'we', 'perhaps', 'move', 'next', 'such', 'anyone', 'once', 'least', 'quite', 'latterly', 'every', 'latter', 'they', 'whether', 'call', 'afterwards', 'from', 'moreover', 'into', 'thence', 'those', 'very', 'forty', 'seemed', 'since', 'must', 'none', 're', 'of', 'would', 'nothing', 'take', 'himself', 'otherwise', 'and', 'several', 'because', 'two', 'cannot', 'onto', 'never', 'without', 'as', 'over', 'formerly', 'therefore', 'first', 'other', 'am', 'used', 'thus', 'been', 'whose', 'against', 'his', 'you', 'already', 'rather', 'eleven', 'beside', 'below', 'using', 'please', 'still', 'therein', 'someone', 'its', 'alone', 'during', 'ten', 'by', 'eight', 'something', 'whatever', 'go', 'seeming', 'made', 'there', 'unless', 'herself', 'in', 'well', 'however', 'ourselves', 'hereafter', 'somehow', 'others', 'nor', 'whole', 'across', 'around', 'many', 'another', 'do', 'be', 'then', 'enough', 'why', 'ever', 'or', 'along'}\n"
     ]
    }
   ],
   "source": [
    "# Print default stop words\n",
    "print(nlp.Defaults.stop_words)"
   ]
  },
  {
   "cell_type": "code",
   "execution_count": 3,
   "metadata": {},
   "outputs": [
    {
     "name": "stdout",
     "output_type": "stream",
     "text": [
      "305\n"
     ]
    }
   ],
   "source": [
    "print(len(nlp.Defaults.stop_words))"
   ]
  },
  {
   "cell_type": "code",
   "execution_count": 7,
   "metadata": {},
   "outputs": [
    {
     "data": {
      "text/plain": [
       "True"
      ]
     },
     "execution_count": 7,
     "metadata": {},
     "output_type": "execute_result"
    }
   ],
   "source": [
    "# Check if a word is a stop word\n",
    "nlp.vocab['is'].is_stop"
   ]
  },
  {
   "cell_type": "code",
   "execution_count": 9,
   "metadata": {},
   "outputs": [
    {
     "data": {
      "text/plain": [
       "False"
      ]
     },
     "execution_count": 9,
     "metadata": {},
     "output_type": "execute_result"
    }
   ],
   "source": [
    "nlp.vocab['mystery'].is_stop"
   ]
  },
  {
   "cell_type": "code",
   "execution_count": 10,
   "metadata": {},
   "outputs": [
    {
     "data": {
      "text/plain": [
       "False"
      ]
     },
     "execution_count": 10,
     "metadata": {},
     "output_type": "execute_result"
    }
   ],
   "source": [
    "nlp.vocab['btw'].is_stop"
   ]
  },
  {
   "cell_type": "code",
   "execution_count": 12,
   "metadata": {},
   "outputs": [],
   "source": [
    "#Add the word btw to stop words\n",
    "\n",
    "nlp.Defaults.stop_words.add('btw')"
   ]
  },
  {
   "cell_type": "code",
   "execution_count": 14,
   "metadata": {},
   "outputs": [],
   "source": [
    "# Set the stop word tag on the lexeme\n",
    "nlp.vocab['btw'].is_stop = True"
   ]
  },
  {
   "cell_type": "code",
   "execution_count": 15,
   "metadata": {},
   "outputs": [
    {
     "data": {
      "text/plain": [
       "True"
      ]
     },
     "execution_count": 15,
     "metadata": {},
     "output_type": "execute_result"
    }
   ],
   "source": [
    "nlp.vocab['btw'].is_stop"
   ]
  },
  {
   "cell_type": "code",
   "execution_count": 20,
   "metadata": {},
   "outputs": [],
   "source": [
    "# To remove a stop word 'beyond'\n",
    "nlp.Defaults.stop_words.remove('across')"
   ]
  },
  {
   "cell_type": "code",
   "execution_count": 21,
   "metadata": {},
   "outputs": [],
   "source": [
    "nlp.vocab['across'].is_stop = False"
   ]
  },
  {
   "cell_type": "code",
   "execution_count": 22,
   "metadata": {},
   "outputs": [
    {
     "data": {
      "text/plain": [
       "False"
      ]
     },
     "execution_count": 22,
     "metadata": {},
     "output_type": "execute_result"
    }
   ],
   "source": [
    "nlp.vocab['across'].is_stop"
   ]
  },
  {
   "cell_type": "code",
   "execution_count": 23,
   "metadata": {},
   "outputs": [],
   "source": [
    "nlp.Defaults.stop_words.add('beyond')"
   ]
  },
  {
   "cell_type": "code",
   "execution_count": 24,
   "metadata": {},
   "outputs": [],
   "source": [
    "nlp.Defaults.stop_words.remove('beyond')"
   ]
  },
  {
   "cell_type": "code",
   "execution_count": 26,
   "metadata": {},
   "outputs": [],
   "source": [
    "nlp.vocab['beyond'].is_stop= False"
   ]
  },
  {
   "cell_type": "code",
   "execution_count": 27,
   "metadata": {},
   "outputs": [
    {
     "data": {
      "text/plain": [
       "False"
      ]
     },
     "execution_count": 27,
     "metadata": {},
     "output_type": "execute_result"
    }
   ],
   "source": [
    "nlp.vocab['beyond'].is_stop"
   ]
  },
  {
   "cell_type": "code",
   "execution_count": null,
   "metadata": {},
   "outputs": [],
   "source": []
  }
 ],
 "metadata": {
  "kernelspec": {
   "display_name": "Python 3",
   "language": "python",
   "name": "python3"
  },
  "language_info": {
   "codemirror_mode": {
    "name": "ipython",
    "version": 3
   },
   "file_extension": ".py",
   "mimetype": "text/x-python",
   "name": "python",
   "nbconvert_exporter": "python",
   "pygments_lexer": "ipython3",
   "version": "3.7.3"
  }
 },
 "nbformat": 4,
 "nbformat_minor": 2
}
