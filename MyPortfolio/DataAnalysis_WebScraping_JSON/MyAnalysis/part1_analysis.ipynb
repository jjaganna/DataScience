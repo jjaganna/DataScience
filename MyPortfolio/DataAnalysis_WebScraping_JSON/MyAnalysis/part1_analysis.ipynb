{
 "cells": [
  {
   "cell_type": "markdown",
   "metadata": {},
   "source": [
    "## Part 1 -- Analysis of total expenditure from 2009 to 2018"
   ]
  },
  {
   "cell_type": "code",
   "execution_count": 185,
   "metadata": {},
   "outputs": [],
   "source": [
    "import numpy as np\n",
    "import pandas as pd"
   ]
  },
  {
   "cell_type": "markdown",
   "metadata": {},
   "source": [
    "Read all the *detail.csv.  \n",
    "Renamed \"2015Q2-house-disburse-detail.csv\" to \n",
    "\"2015Q2-house-disburse-detail-old.csv\"\n",
    "Then renamed \"2015Q2-house-disburse-detail-updated.csv\" to \n",
    "\"2015Q2-house-disburse-detail.csv\".\n",
    "Then redirected all the filenames to \"filename.txt\" \n",
    "using the command:  ls  *detail.csv > filename.txt"
   ]
  },
  {
   "cell_type": "code",
   "execution_count": 186,
   "metadata": {},
   "outputs": [
    {
     "name": "stdout",
     "output_type": "stream",
     "text": [
      "['2009Q3-house-disburse-detail.csv', '2009Q4-house-disburse-detail.csv', '2010Q1-house-disburse-detail.csv', '2010Q2-house-disburse-detail.csv', '2010Q3-house-disburse-detail.csv', '2010Q4-house-disburse-detail.csv', '2011Q1-house-disburse-detail.csv', '2011Q2-house-disburse-detail.csv', '2011Q3-house-disburse-detail.csv', '2011Q4-house-disburse-detail.csv', '2012Q1-house-disburse-detail.csv', '2012Q2-house-disburse-detail.csv', '2012Q3-house-disburse-detail.csv', '2012Q4-house-disburse-detail.csv', '2013Q1-house-disburse-detail.csv', '2013Q2-house-disburse-detail.csv', '2013Q3-house-disburse-detail.csv', '2013Q4-house-disburse-detail.csv', '2014Q1-house-disburse-detail.csv', '2014Q2-house-disburse-detail.csv', '2014Q3-house-disburse-detail.csv', '2014Q4-house-disburse-detail.csv', '2015Q1-house-disburse-detail.csv', '2015Q2-house-disburse-detail.csv', '2015Q3-house-disburse-detail.csv', '2015Q4-house-disburse-detail.csv', '2016Q1-house-disburse-detail.csv', '2016Q2-house-disburse-detail.csv', '2016Q3-house-disburse-detail.csv', '2016Q4-house-disburse-detail.csv', '2017Q1-house-disburse-detail.csv', '2017Q2-house-disburse-detail.csv', '2017Q3-house-disburse-detail.csv', '2017Q4-house-disburse-detail.csv', '2018Q1-house-disburse-detail.csv']\n"
     ]
    }
   ],
   "source": [
    "# Create a list of filename called file_list\n",
    "# Strip '\\n' at the end of the filename\n",
    "#Ref: https://stackoverflow.com/questions/42488579/\n",
    "#remove-n-from-each-string-stored-in-a-python-list\n",
    "\n",
    "file_list = []\n",
    "with open('filename.txt', 'r', encoding='utf-8') as myfile:\n",
    "    for line in myfile:\n",
    "        st_line = line.rstrip()\n",
    "        file_list.append(st_line)\n",
    "print(file_list)"
   ]
  },
  {
   "cell_type": "code",
   "execution_count": 187,
   "metadata": {},
   "outputs": [
    {
     "data": {
      "text/html": [
       "<div>\n",
       "<style>\n",
       "    .dataframe thead tr:only-child th {\n",
       "        text-align: right;\n",
       "    }\n",
       "\n",
       "    .dataframe thead th {\n",
       "        text-align: left;\n",
       "    }\n",
       "\n",
       "    .dataframe tbody tr th {\n",
       "        vertical-align: top;\n",
       "    }\n",
       "</style>\n",
       "<table border=\"1\" class=\"dataframe\">\n",
       "  <thead>\n",
       "    <tr style=\"text-align: right;\">\n",
       "      <th></th>\n",
       "      <th>BIOGUIDE_ID</th>\n",
       "      <th>OFFICE</th>\n",
       "      <th>QUARTER</th>\n",
       "      <th>CATEGORY</th>\n",
       "      <th>DATE</th>\n",
       "      <th>PAYEE</th>\n",
       "      <th>START DATE</th>\n",
       "      <th>END DATE</th>\n",
       "      <th>PURPOSE</th>\n",
       "      <th>AMOUNT</th>\n",
       "      <th>YEAR</th>\n",
       "      <th>TRANSCODE</th>\n",
       "      <th>TRANSCODELONG</th>\n",
       "      <th>RECORDID</th>\n",
       "      <th>RECIP (orig.)</th>\n",
       "    </tr>\n",
       "  </thead>\n",
       "  <tbody>\n",
       "    <tr>\n",
       "      <th>0</th>\n",
       "      <td>NaN</td>\n",
       "      <td>COMMUNICATIONS</td>\n",
       "      <td>2009Q3</td>\n",
       "      <td>OTHER SERVICES</td>\n",
       "      <td>NaN</td>\n",
       "      <td>07Â­01   P2 OPR0900726A                    STR...</td>\n",
       "      <td>10/04/06</td>\n",
       "      <td>10/04/06</td>\n",
       "      <td>NON-TECHNOLOGY SERVICE CONTRCT</td>\n",
       "      <td>16,799.25</td>\n",
       "      <td>FISCAL YEAR 2009</td>\n",
       "      <td>NaN</td>\n",
       "      <td>NaN</td>\n",
       "      <td>NaN</td>\n",
       "      <td>07Â­01   P2 OPR0900726A                    STR...</td>\n",
       "    </tr>\n",
       "    <tr>\n",
       "      <th>1</th>\n",
       "      <td>NaN</td>\n",
       "      <td>COMMUNICATIONS</td>\n",
       "      <td>2009Q3</td>\n",
       "      <td>OTHER SERVICES</td>\n",
       "      <td>NaN</td>\n",
       "      <td>07Â­22   P2 OPR0900726B                       ...</td>\n",
       "      <td>10/04/06</td>\n",
       "      <td>10/04/06</td>\n",
       "      <td>NON-TECHNOLOGY SERVICE CONTRCT</td>\n",
       "      <td>3,876.75</td>\n",
       "      <td>FISCAL YEAR 2009</td>\n",
       "      <td>NaN</td>\n",
       "      <td>NaN</td>\n",
       "      <td>NaN</td>\n",
       "      <td>07Â­22   P2 OPR0900726B                       ...</td>\n",
       "    </tr>\n",
       "    <tr>\n",
       "      <th>2</th>\n",
       "      <td>NaN</td>\n",
       "      <td>COMMUNICATIONS</td>\n",
       "      <td>2009Q3</td>\n",
       "      <td>OTHER SERVICES</td>\n",
       "      <td>NaN</td>\n",
       "      <td>08Â­06   P2 FSS0000575A                    THE...</td>\n",
       "      <td>07/18/06</td>\n",
       "      <td>07/18/06</td>\n",
       "      <td>NON-TECHNOLOGY SERVICE CONTRCT</td>\n",
       "      <td>2,132.00</td>\n",
       "      <td>FISCAL YEAR 2009</td>\n",
       "      <td>NaN</td>\n",
       "      <td>NaN</td>\n",
       "      <td>NaN</td>\n",
       "      <td>08Â­06   P2 FSS0000575A                    THE...</td>\n",
       "    </tr>\n",
       "    <tr>\n",
       "      <th>3</th>\n",
       "      <td>NaN</td>\n",
       "      <td>COMMUNICATIONS</td>\n",
       "      <td>2009Q3</td>\n",
       "      <td>OTHER SERVICES</td>\n",
       "      <td>NaN</td>\n",
       "      <td>08Â­25   P2 MFP0003163                     AVAYA</td>\n",
       "      <td>05/29/09</td>\n",
       "      <td>05/29/09</td>\n",
       "      <td>NON-TECHNOLOGY SERVICE CONTRCT</td>\n",
       "      <td>888.00</td>\n",
       "      <td>FISCAL YEAR 2009</td>\n",
       "      <td>NaN</td>\n",
       "      <td>NaN</td>\n",
       "      <td>NaN</td>\n",
       "      <td>08Â­25   P2 MFP0003163                     AVAYA</td>\n",
       "    </tr>\n",
       "    <tr>\n",
       "      <th>4</th>\n",
       "      <td>NaN</td>\n",
       "      <td>COMMUNICATIONS</td>\n",
       "      <td>2009Q3</td>\n",
       "      <td>OTHER SERVICES</td>\n",
       "      <td>NaN</td>\n",
       "      <td>09Â­10   P2 OPR0900726C                    STR...</td>\n",
       "      <td>10/04/06</td>\n",
       "      <td>10/04/06</td>\n",
       "      <td>NON-TECHNOLOGY SERVICE CONTRCT</td>\n",
       "      <td>590.18</td>\n",
       "      <td>FISCAL YEAR 2009</td>\n",
       "      <td>NaN</td>\n",
       "      <td>NaN</td>\n",
       "      <td>NaN</td>\n",
       "      <td>09Â­10   P2 OPR0900726C                    STR...</td>\n",
       "    </tr>\n",
       "  </tbody>\n",
       "</table>\n",
       "</div>"
      ],
      "text/plain": [
       "  BIOGUIDE_ID          OFFICE QUARTER        CATEGORY  DATE  \\\n",
       "0         NaN  COMMUNICATIONS  2009Q3  OTHER SERVICES   NaN   \n",
       "1         NaN  COMMUNICATIONS  2009Q3  OTHER SERVICES   NaN   \n",
       "2         NaN  COMMUNICATIONS  2009Q3  OTHER SERVICES   NaN   \n",
       "3         NaN  COMMUNICATIONS  2009Q3  OTHER SERVICES   NaN   \n",
       "4         NaN  COMMUNICATIONS  2009Q3  OTHER SERVICES   NaN   \n",
       "\n",
       "                                               PAYEE START DATE  END DATE  \\\n",
       "0  07Â­01   P2 OPR0900726A                    STR...   10/04/06  10/04/06   \n",
       "1  07Â­22   P2 OPR0900726B                       ...   10/04/06  10/04/06   \n",
       "2  08Â­06   P2 FSS0000575A                    THE...   07/18/06  07/18/06   \n",
       "3   08Â­25   P2 MFP0003163                     AVAYA   05/29/09  05/29/09   \n",
       "4  09Â­10   P2 OPR0900726C                    STR...   10/04/06  10/04/06   \n",
       "\n",
       "                          PURPOSE     AMOUNT              YEAR  TRANSCODE  \\\n",
       "0  NON-TECHNOLOGY SERVICE CONTRCT  16,799.25  FISCAL YEAR 2009        NaN   \n",
       "1  NON-TECHNOLOGY SERVICE CONTRCT   3,876.75  FISCAL YEAR 2009        NaN   \n",
       "2  NON-TECHNOLOGY SERVICE CONTRCT   2,132.00  FISCAL YEAR 2009        NaN   \n",
       "3  NON-TECHNOLOGY SERVICE CONTRCT     888.00  FISCAL YEAR 2009        NaN   \n",
       "4  NON-TECHNOLOGY SERVICE CONTRCT     590.18  FISCAL YEAR 2009        NaN   \n",
       "\n",
       "   TRANSCODELONG  RECORDID                                      RECIP (orig.)  \n",
       "0            NaN       NaN  07Â­01   P2 OPR0900726A                    STR...  \n",
       "1            NaN       NaN  07Â­22   P2 OPR0900726B                       ...  \n",
       "2            NaN       NaN  08Â­06   P2 FSS0000575A                    THE...  \n",
       "3            NaN       NaN   08Â­25   P2 MFP0003163                     AVAYA  \n",
       "4            NaN       NaN  09Â­10   P2 OPR0900726C                    STR...  "
      ]
     },
     "execution_count": 187,
     "metadata": {},
     "output_type": "execute_result"
    }
   ],
   "source": [
    "# Experiment with '2009Q3-house-disburse-detail.csv'\n",
    "df1 = pd.read_csv('2009Q3-house-disburse-detail.csv')\n",
    "df1.head()"
   ]
  },
  {
   "cell_type": "code",
   "execution_count": 188,
   "metadata": {},
   "outputs": [
    {
     "name": "stdout",
     "output_type": "stream",
     "text": [
      "<class 'pandas.core.frame.DataFrame'>\n",
      "RangeIndex: 123344 entries, 0 to 123343\n",
      "Data columns (total 15 columns):\n",
      "BIOGUIDE_ID      93489 non-null object\n",
      "OFFICE           123344 non-null object\n",
      "QUARTER          123344 non-null object\n",
      "CATEGORY         123344 non-null object\n",
      "DATE             0 non-null float64\n",
      "PAYEE            123344 non-null object\n",
      "START DATE       123344 non-null object\n",
      "END DATE         123344 non-null object\n",
      "PURPOSE          123344 non-null object\n",
      "AMOUNT           123344 non-null object\n",
      "YEAR             123344 non-null object\n",
      "TRANSCODE        0 non-null float64\n",
      "TRANSCODELONG    0 non-null float64\n",
      "RECORDID         0 non-null float64\n",
      "RECIP (orig.)    123344 non-null object\n",
      "dtypes: float64(4), object(11)\n",
      "memory usage: 14.1+ MB\n"
     ]
    }
   ],
   "source": [
    "df1.info()"
   ]
  },
  {
   "cell_type": "code",
   "execution_count": 189,
   "metadata": {},
   "outputs": [
    {
     "data": {
      "text/plain": [
       "str"
      ]
     },
     "execution_count": 189,
     "metadata": {},
     "output_type": "execute_result"
    }
   ],
   "source": [
    "# Check out the datatype for the first value in 'AMOUNT' column\n",
    "type(df1['AMOUNT'][0])"
   ]
  },
  {
   "cell_type": "code",
   "execution_count": 190,
   "metadata": {},
   "outputs": [
    {
     "name": "stdout",
     "output_type": "stream",
     "text": [
      "21106798.579999823\n"
     ]
    }
   ],
   "source": [
    "df1['AMOUNT'] = pd.to_numeric(df1['AMOUNT'], errors='coerce')\n",
    "total = df1['AMOUNT'].sum()\n",
    "print(total)"
   ]
  },
  {
   "cell_type": "code",
   "execution_count": 191,
   "metadata": {},
   "outputs": [],
   "source": [
    "# Getting the expenditure from 2009Q3 to 2018Q1\n",
    "\n",
    "amount_list = []\n",
    "for file in file_list[0:31]:\n",
    "    df = pd.read_csv(file, low_memory=False)\n",
    "    df['AMOUNT'] = pd.to_numeric(df['AMOUNT'], errors='coerce')\n",
    "        \n",
    "    total_amount = df['AMOUNT'].sum()\n",
    "    amount_list.append(total_amount)"
   ]
  },
  {
   "cell_type": "code",
   "execution_count": 192,
   "metadata": {},
   "outputs": [
    {
     "name": "stdout",
     "output_type": "stream",
     "text": [
      "1160454513.4000351\n"
     ]
    }
   ],
   "source": [
    "# Read in 2017Q2-house-disburse-detail.csv.\n",
    "df_2017Q2 = pd.read_csv('2017Q2-house-disburse-detail.csv', sep=',', \n",
    "                        engine = 'python')\n",
    "df_2017Q2.columns = ['BIOGUIDE_ID', 'OFFICE', 'QUARTER', 'PROGRAM', 'CATEGORY',\n",
    "       'SORT SEQUENCE', 'DATE', 'TRANSCODE', 'PAYEE', 'START DATE',\n",
    "       'END DATE', 'PURPOSE', 'AMOUNT', 'YEAR', 'RECORDID']\n",
    "total_amount = df_2017Q2['AMOUNT'].sum()\n",
    "amount_list.append(total_amount)\n",
    "print(total_amount)"
   ]
  },
  {
   "cell_type": "code",
   "execution_count": 193,
   "metadata": {},
   "outputs": [
    {
     "name": "stdout",
     "output_type": "stream",
     "text": [
      "1179293476.280038\n"
     ]
    }
   ],
   "source": [
    "# Read in 2017Q3-house-disburse-detail.csv.\n",
    "df_2017Q3 = pd.read_csv('2017Q3-house-disburse-detail.csv', sep=',', \n",
    "                        engine = 'python')\n",
    "total_amount = df_2017Q3['AMOUNT'].sum()\n",
    "amount_list.append(total_amount)\n",
    "print(total_amount)"
   ]
  },
  {
   "cell_type": "code",
   "execution_count": 194,
   "metadata": {},
   "outputs": [
    {
     "name": "stdout",
     "output_type": "stream",
     "text": [
      "1302041804.8400435\n"
     ]
    }
   ],
   "source": [
    "# Read in 2017Q4-house-disburse-detail.csv.\n",
    "df_2017Q4 = pd.read_csv('2017Q4-house-disburse-detail.csv', sep=',', \n",
    "                        engine = 'python')\n",
    "total_amount = df_2017Q4['AMOUNT'].sum()\n",
    "amount_list.append(total_amount)\n",
    "print(total_amount)"
   ]
  },
  {
   "cell_type": "code",
   "execution_count": 195,
   "metadata": {},
   "outputs": [
    {
     "name": "stdout",
     "output_type": "stream",
     "text": [
      "837122626.8300009\n"
     ]
    }
   ],
   "source": [
    "# Read in 2018Q1-house-disburse-detail.csv.\n",
    "df_2018Q1 = pd.read_csv('2018Q1-house-disburse-detail.csv', sep=',', \n",
    "                        engine = 'python')\n",
    "total_amount = df_2018Q1['AMOUNT'].sum()\n",
    "amount_list.append(total_amount)\n",
    "print(total_amount)"
   ]
  },
  {
   "cell_type": "code",
   "execution_count": 196,
   "metadata": {},
   "outputs": [
    {
     "name": "stdout",
     "output_type": "stream",
     "text": [
      "[21106798.579999823, 18795679.940001577, 23274189.379999742, 20473905.489999417, 11928469.330000367, 15755315.770000504, 20202944.840000723, 17593418.470000517, 16881824.92000029, 16663668.07000041, 19940040.870000627, 16074186.160000311, 14809935.210000105, 14474559.37, 18471950.40000046, 15322949.1500005, 15585215.360000592, 14216408.02000044, 17641559.920000125, 15262279.150000188, 14652040.410000201, 14410929.880000083, 17597564.49999949, 15317254.269999932, 14786520.710000074, 15095511.639999656, 17675906.029999528, 15546467.34999966, 14810107.239999883, 309781664.9999927, 297071622.00999665, 1160454513.4000351, 1179293476.280038, 1302041804.8400435, 837122626.8300009]\n"
     ]
    }
   ],
   "source": [
    "print(amount_list)"
   ]
  },
  {
   "cell_type": "code",
   "execution_count": 197,
   "metadata": {},
   "outputs": [
    {
     "name": "stdout",
     "output_type": "stream",
     "text": [
      "35\n"
     ]
    }
   ],
   "source": [
    "print(len(amount_list))"
   ]
  },
  {
   "cell_type": "code",
   "execution_count": 198,
   "metadata": {},
   "outputs": [
    {
     "name": "stdout",
     "output_type": "stream",
     "text": [
      "5570133308.7901125\n"
     ]
    }
   ],
   "source": [
    "grand_total_amount = sum(amount_list)\n",
    "print(grand_total_amount)"
   ]
  },
  {
   "cell_type": "code",
   "execution_count": 199,
   "metadata": {},
   "outputs": [
    {
     "name": "stdout",
     "output_type": "stream",
     "text": [
      "['2009Q3', '2009Q4', '2010Q1', '2010Q2', '2010Q3', '2010Q4', '2011Q1', '2011Q2', '2011Q3', '2011Q4', '2012Q1', '2012Q2', '2012Q3', '2012Q4', '2013Q1', '2013Q2', '2013Q3', '2013Q4', '2014Q1', '2014Q2', '2014Q3', '2014Q4', '2015Q1', '2015Q2', '2015Q3', '2015Q4', '2016Q1', '2016Q2', '2016Q3', '2016Q4', '2017Q1', '2017Q2', '2017Q3', '2017Q4', '2018Q1']\n"
     ]
    }
   ],
   "source": [
    "#To get a list with the quarters\n",
    "quarters = []\n",
    "for file in file_list:\n",
    "    quarters.append(file[0:6])\n",
    "\n",
    "print(quarters)"
   ]
  },
  {
   "cell_type": "code",
   "execution_count": 200,
   "metadata": {},
   "outputs": [],
   "source": [
    "#Create a pandas dataframe of expenditure from the amount list & quarters \n",
    "#Ref: https://cmdlinetips.com/2018/01/\n",
    "#how-to-create-pandas-dataframe-from-multiple-lists/\n",
    "\n",
    "exp_df = pd.DataFrame({'Quarter' : quarters, 'Amount' : amount_list })"
   ]
  },
  {
   "cell_type": "code",
   "execution_count": 201,
   "metadata": {},
   "outputs": [
    {
     "data": {
      "text/html": [
       "<div>\n",
       "<style>\n",
       "    .dataframe thead tr:only-child th {\n",
       "        text-align: right;\n",
       "    }\n",
       "\n",
       "    .dataframe thead th {\n",
       "        text-align: left;\n",
       "    }\n",
       "\n",
       "    .dataframe tbody tr th {\n",
       "        vertical-align: top;\n",
       "    }\n",
       "</style>\n",
       "<table border=\"1\" class=\"dataframe\">\n",
       "  <thead>\n",
       "    <tr style=\"text-align: right;\">\n",
       "      <th></th>\n",
       "      <th>Amount</th>\n",
       "      <th>Quarter</th>\n",
       "    </tr>\n",
       "  </thead>\n",
       "  <tbody>\n",
       "    <tr>\n",
       "      <th>0</th>\n",
       "      <td>2.110680e+07</td>\n",
       "      <td>2009Q3</td>\n",
       "    </tr>\n",
       "    <tr>\n",
       "      <th>1</th>\n",
       "      <td>1.879568e+07</td>\n",
       "      <td>2009Q4</td>\n",
       "    </tr>\n",
       "    <tr>\n",
       "      <th>2</th>\n",
       "      <td>2.327419e+07</td>\n",
       "      <td>2010Q1</td>\n",
       "    </tr>\n",
       "    <tr>\n",
       "      <th>3</th>\n",
       "      <td>2.047391e+07</td>\n",
       "      <td>2010Q2</td>\n",
       "    </tr>\n",
       "    <tr>\n",
       "      <th>4</th>\n",
       "      <td>1.192847e+07</td>\n",
       "      <td>2010Q3</td>\n",
       "    </tr>\n",
       "  </tbody>\n",
       "</table>\n",
       "</div>"
      ],
      "text/plain": [
       "         Amount Quarter\n",
       "0  2.110680e+07  2009Q3\n",
       "1  1.879568e+07  2009Q4\n",
       "2  2.327419e+07  2010Q1\n",
       "3  2.047391e+07  2010Q2\n",
       "4  1.192847e+07  2010Q3"
      ]
     },
     "execution_count": 201,
     "metadata": {},
     "output_type": "execute_result"
    }
   ],
   "source": [
    "exp_df.head()"
   ]
  },
  {
   "cell_type": "code",
   "execution_count": 202,
   "metadata": {},
   "outputs": [],
   "source": [
    "#Data visualizations\n",
    "import seaborn as sns\n",
    "import matplotlib.pyplot as plt\n",
    "%matplotlib inline"
   ]
  },
  {
   "cell_type": "code",
   "execution_count": 203,
   "metadata": {},
   "outputs": [
    {
     "data": {
      "text/plain": [
       "str"
      ]
     },
     "execution_count": 203,
     "metadata": {},
     "output_type": "execute_result"
    }
   ],
   "source": [
    "type(exp_df['Quarter'][0])"
   ]
  },
  {
   "cell_type": "code",
   "execution_count": 204,
   "metadata": {},
   "outputs": [],
   "source": [
    "#Convert Quarter from datatype string to datetime\n",
    "#exp_df['Quarter'] = pd.to_datetime(exp_df['Quarter'])"
   ]
  },
  {
   "cell_type": "code",
   "execution_count": 205,
   "metadata": {},
   "outputs": [
    {
     "data": {
      "text/plain": [
       "str"
      ]
     },
     "execution_count": 205,
     "metadata": {},
     "output_type": "execute_result"
    }
   ],
   "source": [
    "type(exp_df['Quarter'][0])"
   ]
  },
  {
   "cell_type": "code",
   "execution_count": 206,
   "metadata": {},
   "outputs": [
    {
     "data": {
      "text/plain": [
       "(array([ 0,  1,  2,  3,  4,  5,  6,  7,  8,  9, 10, 11, 12, 13, 14, 15, 16,\n",
       "        17, 18, 19, 20, 21, 22, 23, 24, 25, 26, 27, 28, 29, 30, 31, 32, 33,\n",
       "        34]), <a list of 35 Text xticklabel objects>)"
      ]
     },
     "execution_count": 206,
     "metadata": {},
     "output_type": "execute_result"
    },
    {
     "data": {
      "image/png": "[encoded data removed]",
      "text/plain": [
       "<matplotlib.figure.Figure at 0x1276b73c8>"
      ]
     },
     "metadata": {
      "needs_background": "light"
     },
     "output_type": "display_data"
    }
   ],
   "source": [
    "fig = plt.figure(figsize = (12, 8))\n",
    "sns.barplot(x='Quarter', y='Amount', data=exp_df)\n",
    "plt.xticks(rotation=90)"
   ]
  },
  {
   "cell_type": "markdown",
   "metadata": {},
   "source": [
    "Observation: From 2016Q4 onwards spending has increased several times each quarter compared to the quarters from 2009Q3 to 2016Q3. This can possibly be attributed to the 2016 elections and changes in Congress. "
   ]
  },
  {
   "cell_type": "markdown",
   "metadata": {},
   "source": [
    "## Yearly spending from 2010Q1 to 2017Q4"
   ]
  },
  {
   "cell_type": "code",
   "execution_count": 208,
   "metadata": {},
   "outputs": [
    {
     "data": {
      "text/html": [
       "<div>\n",
       "<style>\n",
       "    .dataframe thead tr:only-child th {\n",
       "        text-align: right;\n",
       "    }\n",
       "\n",
       "    .dataframe thead th {\n",
       "        text-align: left;\n",
       "    }\n",
       "\n",
       "    .dataframe tbody tr th {\n",
       "        vertical-align: top;\n",
       "    }\n",
       "</style>\n",
       "<table border=\"1\" class=\"dataframe\">\n",
       "  <thead>\n",
       "    <tr style=\"text-align: right;\">\n",
       "      <th></th>\n",
       "      <th>Amount</th>\n",
       "      <th>Quarter</th>\n",
       "    </tr>\n",
       "  </thead>\n",
       "  <tbody>\n",
       "    <tr>\n",
       "      <th>0</th>\n",
       "      <td>2.110680e+07</td>\n",
       "      <td>2009Q3</td>\n",
       "    </tr>\n",
       "    <tr>\n",
       "      <th>1</th>\n",
       "      <td>1.879568e+07</td>\n",
       "      <td>2009Q4</td>\n",
       "    </tr>\n",
       "  </tbody>\n",
       "</table>\n",
       "</div>"
      ],
      "text/plain": [
       "         Amount Quarter\n",
       "0  2.110680e+07  2009Q3\n",
       "1  1.879568e+07  2009Q4"
      ]
     },
     "execution_count": 208,
     "metadata": {},
     "output_type": "execute_result"
    }
   ],
   "source": [
    "exp_df.head(2)"
   ]
  },
  {
   "cell_type": "code",
   "execution_count": 209,
   "metadata": {},
   "outputs": [
    {
     "data": {
      "text/html": [
       "<div>\n",
       "<style>\n",
       "    .dataframe thead tr:only-child th {\n",
       "        text-align: right;\n",
       "    }\n",
       "\n",
       "    .dataframe thead th {\n",
       "        text-align: left;\n",
       "    }\n",
       "\n",
       "    .dataframe tbody tr th {\n",
       "        vertical-align: top;\n",
       "    }\n",
       "</style>\n",
       "<table border=\"1\" class=\"dataframe\">\n",
       "  <thead>\n",
       "    <tr style=\"text-align: right;\">\n",
       "      <th></th>\n",
       "      <th>Amount</th>\n",
       "      <th>Quarter</th>\n",
       "    </tr>\n",
       "  </thead>\n",
       "  <tbody>\n",
       "    <tr>\n",
       "      <th>33</th>\n",
       "      <td>1.302042e+09</td>\n",
       "      <td>2017Q4</td>\n",
       "    </tr>\n",
       "    <tr>\n",
       "      <th>34</th>\n",
       "      <td>8.371226e+08</td>\n",
       "      <td>2018Q1</td>\n",
       "    </tr>\n",
       "  </tbody>\n",
       "</table>\n",
       "</div>"
      ],
      "text/plain": [
       "          Amount Quarter\n",
       "33  1.302042e+09  2017Q4\n",
       "34  8.371226e+08  2018Q1"
      ]
     },
     "execution_count": 209,
     "metadata": {},
     "output_type": "execute_result"
    }
   ],
   "source": [
    "exp_df.tail(2)"
   ]
  },
  {
   "cell_type": "code",
   "execution_count": 210,
   "metadata": {},
   "outputs": [],
   "source": [
    "# Take only full years from 2010Q1 to 2017Q4\n",
    "exp_df = exp_df[2: 34]"
   ]
  },
  {
   "cell_type": "code",
   "execution_count": 224,
   "metadata": {},
   "outputs": [],
   "source": [
    "year = 2010\n",
    "year_list = []\n",
    "annual_amount_list = []\n",
    "for i in range(8):\n",
    "    annual_amount = 0\n",
    "    annual_amount = exp_df['Amount'][4*i : 4*i + 4].sum() \n",
    "    annual_amount_list.append(annual_amount)\n",
    "    year_list.append(year)\n",
    "    year += 1\n"
   ]
  },
  {
   "cell_type": "code",
   "execution_count": 228,
   "metadata": {},
   "outputs": [
    {
     "data": {
      "text/html": [
       "<div>\n",
       "<style>\n",
       "    .dataframe thead tr:only-child th {\n",
       "        text-align: right;\n",
       "    }\n",
       "\n",
       "    .dataframe thead th {\n",
       "        text-align: left;\n",
       "    }\n",
       "\n",
       "    .dataframe tbody tr th {\n",
       "        vertical-align: top;\n",
       "    }\n",
       "</style>\n",
       "<table border=\"1\" class=\"dataframe\">\n",
       "  <thead>\n",
       "    <tr style=\"text-align: right;\">\n",
       "      <th></th>\n",
       "      <th>Annual_Amount</th>\n",
       "      <th>Year</th>\n",
       "    </tr>\n",
       "  </thead>\n",
       "  <tbody>\n",
       "    <tr>\n",
       "      <th>0</th>\n",
       "      <td>7.143188e+07</td>\n",
       "      <td>2010</td>\n",
       "    </tr>\n",
       "    <tr>\n",
       "      <th>1</th>\n",
       "      <td>7.134186e+07</td>\n",
       "      <td>2011</td>\n",
       "    </tr>\n",
       "    <tr>\n",
       "      <th>2</th>\n",
       "      <td>6.529872e+07</td>\n",
       "      <td>2012</td>\n",
       "    </tr>\n",
       "    <tr>\n",
       "      <th>3</th>\n",
       "      <td>6.359652e+07</td>\n",
       "      <td>2013</td>\n",
       "    </tr>\n",
       "    <tr>\n",
       "      <th>4</th>\n",
       "      <td>6.196681e+07</td>\n",
       "      <td>2014</td>\n",
       "    </tr>\n",
       "    <tr>\n",
       "      <th>5</th>\n",
       "      <td>6.279685e+07</td>\n",
       "      <td>2015</td>\n",
       "    </tr>\n",
       "    <tr>\n",
       "      <th>6</th>\n",
       "      <td>3.578141e+08</td>\n",
       "      <td>2016</td>\n",
       "    </tr>\n",
       "    <tr>\n",
       "      <th>7</th>\n",
       "      <td>3.938861e+09</td>\n",
       "      <td>2017</td>\n",
       "    </tr>\n",
       "  </tbody>\n",
       "</table>\n",
       "</div>"
      ],
      "text/plain": [
       "   Annual_Amount  Year\n",
       "0   7.143188e+07  2010\n",
       "1   7.134186e+07  2011\n",
       "2   6.529872e+07  2012\n",
       "3   6.359652e+07  2013\n",
       "4   6.196681e+07  2014\n",
       "5   6.279685e+07  2015\n",
       "6   3.578141e+08  2016\n",
       "7   3.938861e+09  2017"
      ]
     },
     "execution_count": 228,
     "metadata": {},
     "output_type": "execute_result"
    }
   ],
   "source": [
    "year_df = pd.DataFrame({'Year': year_list, \n",
    "                        'Annual_Amount' : annual_amount_list})\n",
    "year_df"
   ]
  },
  {
   "cell_type": "code",
   "execution_count": 231,
   "metadata": {},
   "outputs": [
    {
     "data": {
      "text/plain": [
       "<matplotlib.text.Text at 0x12dead3c8>"
      ]
     },
     "execution_count": 231,
     "metadata": {},
     "output_type": "execute_result"
    },
    {
     "data": {
      "image/png": "[encoded data removed]",
      "text/plain": [
       "<matplotlib.figure.Figure at 0x12db9da20>"
      ]
     },
     "metadata": {
      "needs_background": "light"
     },
     "output_type": "display_data"
    }
   ],
   "source": [
    "#Plot the Annual Expenditure from 2010 to 2017\n",
    "fig = plt.figure(figsize = (12, 8))\n",
    "sns.barplot(x='Year', y='Annual_Amount', data=year_df)\n",
    "plt.xticks()\n",
    "plt.title(\"Annual Expenditure from 2010 to 2017\")"
   ]
  },
  {
   "cell_type": "markdown",
   "metadata": {},
   "source": [
    "Observation: Annual Spending has become very high from 2016 onwards."
   ]
  },
  {
   "cell_type": "code",
   "execution_count": null,
   "metadata": {},
   "outputs": [],
   "source": []
  }
 ],
 "metadata": {
  "kernelspec": {
   "display_name": "Python 3",
   "language": "python",
   "name": "python3"
  },
  "language_info": {
   "codemirror_mode": {
    "name": "ipython",
    "version": 3
   },
   "file_extension": ".py",
   "mimetype": "text/x-python",
   "name": "python",
   "nbconvert_exporter": "python",
   "pygments_lexer": "ipython3",
   "version": "3.6.5"
  }
 },
 "nbformat": 4,
 "nbformat_minor": 2
}
