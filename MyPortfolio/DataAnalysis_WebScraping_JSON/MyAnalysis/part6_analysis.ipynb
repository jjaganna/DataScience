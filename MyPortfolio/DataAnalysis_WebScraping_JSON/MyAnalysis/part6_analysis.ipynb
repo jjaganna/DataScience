{
 "cells": [
  {
   "cell_type": "code",
   "execution_count": 1,
   "metadata": {},
   "outputs": [],
   "source": [
    "import numpy as np\n",
    "import pandas as pd"
   ]
  },
  {
   "cell_type": "markdown",
   "metadata": {},
   "source": [
    "Read all the *detail.csv.  \n",
    "Renamed \"2015Q2-house-disburse-detail.csv\" to \n",
    "\"2015Q2-house-disburse-detail-old.csv\"\n",
    "Then renamed \"2015Q2-house-disburse-detail-updated.csv\" to \n",
    "\"2015Q2-house-disburse-detail.csv\".\n",
    "Then redirected all the filenames to \"filename.txt\" \n",
    "using the command:  ls  *detail.csv > filename.txt"
   ]
  },
  {
   "cell_type": "code",
   "execution_count": 3,
   "metadata": {},
   "outputs": [
    {
     "name": "stdout",
     "output_type": "stream",
     "text": [
      "['2010Q1-house-disburse-detail.csv', '2010Q2-house-disburse-detail.csv', '2010Q3-house-disburse-detail.csv', '2010Q4-house-disburse-detail.csv', '2011Q1-house-disburse-detail.csv', '2011Q2-house-disburse-detail.csv', '2011Q3-house-disburse-detail.csv', '2011Q4-house-disburse-detail.csv', '2012Q1-house-disburse-detail.csv', '2012Q2-house-disburse-detail.csv', '2012Q3-house-disburse-detail.csv', '2012Q4-house-disburse-detail.csv', '2013Q1-house-disburse-detail.csv', '2013Q2-house-disburse-detail.csv', '2013Q3-house-disburse-detail.csv', '2013Q4-house-disburse-detail.csv', '2014Q1-house-disburse-detail.csv', '2014Q2-house-disburse-detail.csv', '2014Q3-house-disburse-detail.csv', '2014Q4-house-disburse-detail.csv', '2015Q1-house-disburse-detail.csv', '2015Q2-house-disburse-detail.csv', '2015Q3-house-disburse-detail.csv', '2015Q4-house-disburse-detail.csv', '2016Q1-house-disburse-detail.csv', '2016Q2-house-disburse-detail.csv', '2016Q3-house-disburse-detail.csv', '2016Q4-house-disburse-detail.csv']\n"
     ]
    }
   ],
   "source": [
    "# Create a list of filename called file_list\n",
    "# Strip '\\n' at the end of the filename\n",
    "#Ref: https://stackoverflow.com/questions/42488579/\n",
    "#remove-n-from-each-string-stored-in-a-python-list\n",
    "\n",
    "file_list = []\n",
    "with open('filename.txt', 'r', encoding='utf-8') as myfile:\n",
    "    for line in myfile:\n",
    "        st_line = line.rstrip()\n",
    "        file_list.append(st_line)\n",
    "file_list = file_list[2:30]\n",
    "print(file_list)"
   ]
  },
  {
   "cell_type": "code",
   "execution_count": 19,
   "metadata": {},
   "outputs": [],
   "source": [
    "year = 2010\n",
    "combined_df = pd.DataFrame(columns = ['BIOGUIDE_ID', 'YEAR'])\n",
    "for i in range(0, 7):  # represent the years from 2010 to 2016\n",
    "#Create a dataframe for each of 2016 quarter files and concatenate the 4 dataframes\n",
    "    df1 = pd.read_csv(file_list[4*i], low_memory = False)\n",
    "    df2 = pd.read_csv(file_list[4*i + 1], low_memory = False)\n",
    "    df3 = pd.read_csv(file_list[4*i + 2], low_memory = False)\n",
    "    df4 = pd.read_csv(file_list[4*i + 3], low_memory = False)\n",
    "    df = pd.concat([df1, df2, df3, df4])\n",
    "    #print(year)\n",
    "    #Get rows that have only at 'PERSONNEL COMPENSATION' value in 'CATEGORY' column.\n",
    "    df = df[df['CATEGORY'] == 'PERSONNEL COMPENSATION']\n",
    "    #Remove all the rows with 'BIOGUIDE_ID' = NaN\n",
    "    df = df[df['BIOGUIDE_ID'].notnull()]\n",
    "    #We want only columns 'BIOGUIDE_ID', 'PAYEE'\n",
    "    rep_df = df[['BIOGUIDE_ID', 'PAYEE']]\n",
    "    groupby_rep_df = rep_df.groupby('BIOGUIDE_ID').count()\n",
    "    # Get the representative who have at staff size of 5 at least\n",
    "    groupby_rep_df = groupby_rep_df[groupby_rep_df['PAYEE'] >= 5]\n",
    "    rep_list = groupby_rep_df.index\n",
    "    #Create a new dataframe with rep_list and year\n",
    "    new_df = pd.DataFrame({'BIOGUIDE_ID': rep_list })\n",
    "    new_df['YEAR'] = year\n",
    "    year = year + 1 #increment year\n",
    "    #print(new_df)\n",
    "    combined_df = pd.concat([combined_df, new_df])"
   ]
  },
  {
   "cell_type": "code",
   "execution_count": 20,
   "metadata": {},
   "outputs": [
    {
     "name": "stdout",
     "output_type": "stream",
     "text": [
      "<class 'pandas.core.frame.DataFrame'>\n",
      "Int64Index: 3344 entries, 0 to 443\n",
      "Data columns (total 2 columns):\n",
      "BIOGUIDE_ID    3344 non-null object\n",
      "YEAR           3344 non-null object\n",
      "dtypes: object(2)\n",
      "memory usage: 78.4+ KB\n"
     ]
    }
   ],
   "source": [
    "combined_df.info()"
   ]
  },
  {
   "cell_type": "code",
   "execution_count": 28,
   "metadata": {},
   "outputs": [],
   "source": [
    "#Find how many years the representative served\n",
    "groupby_rep = combined_df.groupby('BIOGUIDE_ID')\n",
    "groupby_rep_count = groupby_rep.count()"
   ]
  },
  {
   "cell_type": "code",
   "execution_count": 29,
   "metadata": {},
   "outputs": [
    {
     "data": {
      "text/html": [
       "<div>\n",
       "<style>\n",
       "    .dataframe thead tr:only-child th {\n",
       "        text-align: right;\n",
       "    }\n",
       "\n",
       "    .dataframe thead th {\n",
       "        text-align: left;\n",
       "    }\n",
       "\n",
       "    .dataframe tbody tr th {\n",
       "        vertical-align: top;\n",
       "    }\n",
       "</style>\n",
       "<table border=\"1\" class=\"dataframe\">\n",
       "  <thead>\n",
       "    <tr style=\"text-align: right;\">\n",
       "      <th></th>\n",
       "      <th>YEAR</th>\n",
       "    </tr>\n",
       "    <tr>\n",
       "      <th>BIOGUIDE_ID</th>\n",
       "      <th></th>\n",
       "    </tr>\n",
       "  </thead>\n",
       "  <tbody>\n",
       "    <tr>\n",
       "      <th>A000014</th>\n",
       "      <td>1</td>\n",
       "    </tr>\n",
       "    <tr>\n",
       "      <th>A000022</th>\n",
       "      <td>4</td>\n",
       "    </tr>\n",
       "    <tr>\n",
       "      <th>A000055</th>\n",
       "      <td>7</td>\n",
       "    </tr>\n",
       "    <tr>\n",
       "      <th>A000210</th>\n",
       "      <td>5</td>\n",
       "    </tr>\n",
       "    <tr>\n",
       "      <th>A000358</th>\n",
       "      <td>4</td>\n",
       "    </tr>\n",
       "  </tbody>\n",
       "</table>\n",
       "</div>"
      ],
      "text/plain": [
       "             YEAR\n",
       "BIOGUIDE_ID      \n",
       "A000014         1\n",
       "A000022         4\n",
       "A000055         7\n",
       "A000210         5\n",
       "A000358         4"
      ]
     },
     "execution_count": 29,
     "metadata": {},
     "output_type": "execute_result"
    }
   ],
   "source": [
    "groupby_rep_count.head()"
   ]
  },
  {
   "cell_type": "code",
   "execution_count": 30,
   "metadata": {},
   "outputs": [
    {
     "data": {
      "text/plain": [
       "Index(['YEAR'], dtype='object')"
      ]
     },
     "execution_count": 30,
     "metadata": {},
     "output_type": "execute_result"
    }
   ],
   "source": [
    "groupby_rep_count.columns"
   ]
  },
  {
   "cell_type": "code",
   "execution_count": 38,
   "metadata": {},
   "outputs": [
    {
     "data": {
      "text/plain": [
       "BIOGUIDE_ID    700\n",
       "dtype: int64"
      ]
     },
     "execution_count": 38,
     "metadata": {},
     "output_type": "execute_result"
    }
   ],
   "source": [
    "groupby_rep_count.count()"
   ]
  },
  {
   "cell_type": "code",
   "execution_count": 56,
   "metadata": {},
   "outputs": [
    {
     "name": "stdout",
     "output_type": "stream",
     "text": [
      "<class 'pandas.core.frame.DataFrame'>\n",
      "Index: 700 entries, A000014 to Z000018\n",
      "Data columns (total 1 columns):\n",
      "BIOGUIDE_ID    700 non-null int64\n",
      "dtypes: int64(1)\n",
      "memory usage: 10.9+ KB\n"
     ]
    }
   ],
   "source": [
    "groupby_rep_count.info()"
   ]
  },
  {
   "cell_type": "code",
   "execution_count": 57,
   "metadata": {},
   "outputs": [
    {
     "data": {
      "text/plain": [
       "Index(['A000014', 'A000022', 'A000055', 'A000210', 'A000358', 'A000361',\n",
       "       'A000362', 'A000363', 'A000364', 'A000365',\n",
       "       ...\n",
       "       'W000822', 'Y000031', 'Y000033', 'Y000062', 'Y000063', 'Y000064',\n",
       "       'Y000065', 'Y000066', 'Z000017', 'Z000018'],\n",
       "      dtype='object', name='BIOGUIDE_ID', length=700)"
      ]
     },
     "execution_count": 57,
     "metadata": {},
     "output_type": "execute_result"
    }
   ],
   "source": [
    "groupby_rep_count.index"
   ]
  },
  {
   "cell_type": "code",
   "execution_count": 61,
   "metadata": {},
   "outputs": [
    {
     "data": {
      "text/plain": [
       "BIOGUIDE_ID    int64\n",
       "dtype: object"
      ]
     },
     "execution_count": 61,
     "metadata": {},
     "output_type": "execute_result"
    }
   ],
   "source": [
    "groupby_rep_count.dtypes\n"
   ]
  },
  {
   "cell_type": "code",
   "execution_count": 64,
   "metadata": {},
   "outputs": [
    {
     "data": {
      "text/plain": [
       "Index(['A000014', 'A000022', 'A000055', 'A000210', 'A000358', 'A000361',\n",
       "       'A000362', 'A000363', 'A000364', 'A000365',\n",
       "       ...\n",
       "       'W000822', 'Y000031', 'Y000033', 'Y000062', 'Y000063', 'Y000064',\n",
       "       'Y000065', 'Y000066', 'Z000017', 'Z000018'],\n",
       "      dtype='object', name='BIOGUIDE_ID', length=700)"
      ]
     },
     "execution_count": 64,
     "metadata": {},
     "output_type": "execute_result"
    }
   ],
   "source": [
    "groupby_rep_count = groupby_rep_count.rename(index=str, columns = {\"BIOGUIDE_ID\": \"YEARS_SERVED\"})\n",
    "groupby_rep_count.index"
   ]
  },
  {
   "cell_type": "code",
   "execution_count": 65,
   "metadata": {},
   "outputs": [
    {
     "name": "stdout",
     "output_type": "stream",
     "text": [
      "<class 'pandas.core.frame.DataFrame'>\n",
      "Index: 700 entries, A000014 to Z000018\n",
      "Data columns (total 1 columns):\n",
      "YEARS_SERVED    700 non-null int64\n",
      "dtypes: int64(1)\n",
      "memory usage: 10.9+ KB\n"
     ]
    }
   ],
   "source": [
    "groupby_rep_count.info()"
   ]
  },
  {
   "cell_type": "code",
   "execution_count": 74,
   "metadata": {},
   "outputs": [
    {
     "name": "stdout",
     "output_type": "stream",
     "text": [
      "<class 'pandas.core.frame.DataFrame'>\n",
      "Index: 360 entries, A000055 to Y000064\n",
      "Data columns (total 1 columns):\n",
      "YEARS_SERVED    360 non-null int64\n",
      "dtypes: int64(1)\n",
      "memory usage: 5.6+ KB\n"
     ]
    }
   ],
   "source": [
    "groupby_rep_count = groupby_rep_count[groupby_rep_count['YEARS_SERVED'] >= 4]\n",
    "groupby_rep_count.info()"
   ]
  },
  {
   "cell_type": "code",
   "execution_count": 75,
   "metadata": {},
   "outputs": [
    {
     "name": "stdout",
     "output_type": "stream",
     "text": [
      "360\n"
     ]
    }
   ],
   "source": [
    "#Create a list of representatives who have served at least 4 years and had \n",
    "#a staff of at least 5 every year they served\n",
    "rep_list = groupby_rep_count.index\n",
    "print(len(rep_list))"
   ]
  },
  {
   "cell_type": "code",
   "execution_count": 80,
   "metadata": {},
   "outputs": [
    {
     "name": "stderr",
     "output_type": "stream",
     "text": [
      "/Users/Jayashri/anaconda/lib/python3.6/site-packages/ipykernel_launcher.py:19: SettingWithCopyWarning: \n",
      "A value is trying to be set on a copy of a slice from a DataFrame.\n",
      "Try using .loc[row_indexer,col_indexer] = value instead\n",
      "\n",
      "See the caveats in the documentation: http://pandas.pydata.org/pandas-docs/stable/indexing.html#indexing-view-versus-copy\n"
     ]
    }
   ],
   "source": [
    "year = 2010\n",
    "final_df = pd.DataFrame(columns = ['BIOGUIDE_ID', 'PAYEE', 'YEAR'])\n",
    "for i in range(0, 7):  # represent the years from 2010 to 2016\n",
    "#Create a dataframe for each of 2016 quarter files and concatenate the 4 dataframes\n",
    "    df11 = pd.read_csv(file_list[4*i], low_memory = False)\n",
    "    df12 = pd.read_csv(file_list[4*i + 1], low_memory = False)\n",
    "    df13 = pd.read_csv(file_list[4*i + 2], low_memory = False)\n",
    "    df14 = pd.read_csv(file_list[4*i + 3], low_memory = False)\n",
    "    df_concat = pd.concat([df11, df12, df13, df14])\n",
    "\n",
    "    #Get rows that have only at 'PERSONNEL COMPENSATION' value in 'CATEGORY' column.\n",
    "    df_concat = df_concat[df_concat['CATEGORY'] == 'PERSONNEL COMPENSATION']\n",
    "    #Remove all the rows with 'BIOGUIDE_ID' = NaN and PAYEE = Nan\n",
    "    df_concat = df_concat[df_concat['BIOGUIDE_ID'].notnull()]\n",
    "    df_concat = df_concat[df_concat['PAYEE'].notnull()]\n",
    "\n",
    "    #We want only columns 'BIOGUIDE_ID', 'PAYEE'\n",
    "    rep_payee_df = df_concat[['BIOGUIDE_ID', 'PAYEE']]\n",
    "    rep_payee_df['YEAR'] = year\n",
    "    year = year + 1\n",
    "    rep_payee_df = rep_payee_df.loc[rep_payee_df['BIOGUIDE_ID'].isin(rep_list)]\n",
    "    final_df = pd.concat([final_df, rep_payee_df])"
   ]
  },
  {
   "cell_type": "code",
   "execution_count": 81,
   "metadata": {},
   "outputs": [
    {
     "data": {
      "text/html": [
       "<div>\n",
       "<style>\n",
       "    .dataframe thead tr:only-child th {\n",
       "        text-align: right;\n",
       "    }\n",
       "\n",
       "    .dataframe thead th {\n",
       "        text-align: left;\n",
       "    }\n",
       "\n",
       "    .dataframe tbody tr th {\n",
       "        vertical-align: top;\n",
       "    }\n",
       "</style>\n",
       "<table border=\"1\" class=\"dataframe\">\n",
       "  <thead>\n",
       "    <tr style=\"text-align: right;\">\n",
       "      <th></th>\n",
       "      <th>BIOGUIDE_ID</th>\n",
       "      <th>PAYEE</th>\n",
       "      <th>YEAR</th>\n",
       "    </tr>\n",
       "  </thead>\n",
       "  <tbody>\n",
       "    <tr>\n",
       "      <th>7969</th>\n",
       "      <td>A000055</td>\n",
       "      <td>ABERNATHY, PAMELA M</td>\n",
       "      <td>2010</td>\n",
       "    </tr>\n",
       "    <tr>\n",
       "      <th>7970</th>\n",
       "      <td>A000055</td>\n",
       "      <td>BIESZKA,MARK J</td>\n",
       "      <td>2010</td>\n",
       "    </tr>\n",
       "    <tr>\n",
       "      <th>7971</th>\n",
       "      <td>A000055</td>\n",
       "      <td>BOWLING,WILSON J</td>\n",
       "      <td>2010</td>\n",
       "    </tr>\n",
       "    <tr>\n",
       "      <th>7972</th>\n",
       "      <td>A000055</td>\n",
       "      <td>BROWN,STEPHANIE</td>\n",
       "      <td>2010</td>\n",
       "    </tr>\n",
       "    <tr>\n",
       "      <th>7973</th>\n",
       "      <td>A000055</td>\n",
       "      <td>BUSCHING,MARK</td>\n",
       "      <td>2010</td>\n",
       "    </tr>\n",
       "  </tbody>\n",
       "</table>\n",
       "</div>"
      ],
      "text/plain": [
       "     BIOGUIDE_ID                PAYEE  YEAR\n",
       "7969     A000055  ABERNATHY, PAMELA M  2010\n",
       "7970     A000055       BIESZKA,MARK J  2010\n",
       "7971     A000055     BOWLING,WILSON J  2010\n",
       "7972     A000055      BROWN,STEPHANIE  2010\n",
       "7973     A000055        BUSCHING,MARK  2010"
      ]
     },
     "execution_count": 81,
     "metadata": {},
     "output_type": "execute_result"
    }
   ],
   "source": [
    "final_df.head()"
   ]
  },
  {
   "cell_type": "code",
   "execution_count": 82,
   "metadata": {},
   "outputs": [
    {
     "name": "stdout",
     "output_type": "stream",
     "text": [
      "<class 'pandas.core.frame.DataFrame'>\n",
      "Int64Index: 225077 entries, 7969 to 76391\n",
      "Data columns (total 3 columns):\n",
      "BIOGUIDE_ID    225077 non-null object\n",
      "PAYEE          225077 non-null object\n",
      "YEAR           225077 non-null object\n",
      "dtypes: object(3)\n",
      "memory usage: 6.9+ MB\n"
     ]
    }
   ],
   "source": [
    "final_df.info()"
   ]
  },
  {
   "cell_type": "code",
   "execution_count": 86,
   "metadata": {},
   "outputs": [
    {
     "data": {
      "text/html": [
       "<div>\n",
       "<style>\n",
       "    .dataframe thead tr:only-child th {\n",
       "        text-align: right;\n",
       "    }\n",
       "\n",
       "    .dataframe thead th {\n",
       "        text-align: left;\n",
       "    }\n",
       "\n",
       "    .dataframe tbody tr th {\n",
       "        vertical-align: top;\n",
       "    }\n",
       "</style>\n",
       "<table border=\"1\" class=\"dataframe\">\n",
       "  <thead>\n",
       "    <tr style=\"text-align: right;\">\n",
       "      <th></th>\n",
       "      <th>PAYEE</th>\n",
       "      <th>YEAR</th>\n",
       "    </tr>\n",
       "  </thead>\n",
       "  <tbody>\n",
       "    <tr>\n",
       "      <th>7969</th>\n",
       "      <td>ABERNATHY, PAMELA M</td>\n",
       "      <td>2010</td>\n",
       "    </tr>\n",
       "    <tr>\n",
       "      <th>7970</th>\n",
       "      <td>BIESZKA,MARK J</td>\n",
       "      <td>2010</td>\n",
       "    </tr>\n",
       "    <tr>\n",
       "      <th>7971</th>\n",
       "      <td>BOWLING,WILSON J</td>\n",
       "      <td>2010</td>\n",
       "    </tr>\n",
       "    <tr>\n",
       "      <th>7972</th>\n",
       "      <td>BROWN,STEPHANIE</td>\n",
       "      <td>2010</td>\n",
       "    </tr>\n",
       "    <tr>\n",
       "      <th>7973</th>\n",
       "      <td>BUSCHING,MARK</td>\n",
       "      <td>2010</td>\n",
       "    </tr>\n",
       "  </tbody>\n",
       "</table>\n",
       "</div>"
      ],
      "text/plain": [
       "                    PAYEE  YEAR\n",
       "7969  ABERNATHY, PAMELA M  2010\n",
       "7970       BIESZKA,MARK J  2010\n",
       "7971     BOWLING,WILSON J  2010\n",
       "7972      BROWN,STEPHANIE  2010\n",
       "7973        BUSCHING,MARK  2010"
      ]
     },
     "execution_count": 86,
     "metadata": {},
     "output_type": "execute_result"
    }
   ],
   "source": [
    "final_df = final_df[['PAYEE', 'YEAR']]\n",
    "final_df.head()"
   ]
  },
  {
   "cell_type": "code",
   "execution_count": 89,
   "metadata": {},
   "outputs": [
    {
     "data": {
      "text/html": [
       "<div>\n",
       "<style>\n",
       "    .dataframe thead tr:only-child th {\n",
       "        text-align: right;\n",
       "    }\n",
       "\n",
       "    .dataframe thead th {\n",
       "        text-align: left;\n",
       "    }\n",
       "\n",
       "    .dataframe tbody tr th {\n",
       "        vertical-align: top;\n",
       "    }\n",
       "</style>\n",
       "<table border=\"1\" class=\"dataframe\">\n",
       "  <thead>\n",
       "    <tr style=\"text-align: right;\">\n",
       "      <th></th>\n",
       "      <th>PAYEE</th>\n",
       "      <th>YEAR</th>\n",
       "    </tr>\n",
       "  </thead>\n",
       "  <tbody>\n",
       "    <tr>\n",
       "      <th>count</th>\n",
       "      <td>225077</td>\n",
       "      <td>225077</td>\n",
       "    </tr>\n",
       "    <tr>\n",
       "      <th>unique</th>\n",
       "      <td>21621</td>\n",
       "      <td>7</td>\n",
       "    </tr>\n",
       "    <tr>\n",
       "      <th>top</th>\n",
       "      <td>ANFINSON, SUSAN</td>\n",
       "      <td>2012</td>\n",
       "    </tr>\n",
       "    <tr>\n",
       "      <th>freq</th>\n",
       "      <td>719</td>\n",
       "      <td>35610</td>\n",
       "    </tr>\n",
       "  </tbody>\n",
       "</table>\n",
       "</div>"
      ],
      "text/plain": [
       "                  PAYEE    YEAR\n",
       "count            225077  225077\n",
       "unique            21621       7\n",
       "top     ANFINSON, SUSAN    2012\n",
       "freq                719   35610"
      ]
     },
     "execution_count": 89,
     "metadata": {},
     "output_type": "execute_result"
    }
   ],
   "source": [
    "final_df.describe()"
   ]
  },
  {
   "cell_type": "code",
   "execution_count": 110,
   "metadata": {},
   "outputs": [],
   "source": [
    "payee_set_count_list = []  #Number of payees for each year from 2011 to 2016\n",
    "payee_set_diff_list = []   #Number of payees who left each year from 2011 to 2016\n",
    "year_list = []\n",
    "for year in range(2011, 2017):\n",
    "    # For previous year, i.e. year - 1\n",
    "    final_df1 = final_df[final_df['YEAR'] == year - 1]\n",
    "    payee_list1 = final_df1['PAYEE'].tolist()\n",
    "    payee_set1 =  set(payee_list1)\n",
    "    # For next year, i.e. year\n",
    "    final_df2 = final_df[final_df['YEAR'] == year]\n",
    "    payee_list2 = final_df2['PAYEE'].tolist()\n",
    "    payee_set2 =  set(payee_list2)\n",
    "    payee_set_count_list.append(len(payee_set2))\n",
    "    payee_set_diff_list.append(len(payee_set1 - payee_set2))\n",
    "    year_list.append(year)\n",
    "    "
   ]
  },
  {
   "cell_type": "code",
   "execution_count": 111,
   "metadata": {},
   "outputs": [
    {
     "name": "stdout",
     "output_type": "stream",
     "text": [
      "[7922, 7528, 7596, 7222, 7082, 10866]\n",
      "[1358, 1982, 1721, 1955, 1731, 2242]\n",
      "[2011, 2012, 2013, 2014, 2015, 2016]\n"
     ]
    }
   ],
   "source": [
    "print(payee_set_count_list)\n",
    "print(payee_set_diff_list)\n",
    "print(year_list)"
   ]
  },
  {
   "cell_type": "code",
   "execution_count": 112,
   "metadata": {},
   "outputs": [
    {
     "data": {
      "text/html": [
       "<div>\n",
       "<style>\n",
       "    .dataframe thead tr:only-child th {\n",
       "        text-align: right;\n",
       "    }\n",
       "\n",
       "    .dataframe thead th {\n",
       "        text-align: left;\n",
       "    }\n",
       "\n",
       "    .dataframe tbody tr th {\n",
       "        vertical-align: top;\n",
       "    }\n",
       "</style>\n",
       "<table border=\"1\" class=\"dataframe\">\n",
       "  <thead>\n",
       "    <tr style=\"text-align: right;\">\n",
       "      <th></th>\n",
       "      <th>payee_count</th>\n",
       "      <th>payee_left</th>\n",
       "      <th>year</th>\n",
       "    </tr>\n",
       "  </thead>\n",
       "  <tbody>\n",
       "    <tr>\n",
       "      <th>0</th>\n",
       "      <td>7922</td>\n",
       "      <td>1358</td>\n",
       "      <td>2011</td>\n",
       "    </tr>\n",
       "    <tr>\n",
       "      <th>1</th>\n",
       "      <td>7528</td>\n",
       "      <td>1982</td>\n",
       "      <td>2012</td>\n",
       "    </tr>\n",
       "    <tr>\n",
       "      <th>2</th>\n",
       "      <td>7596</td>\n",
       "      <td>1721</td>\n",
       "      <td>2013</td>\n",
       "    </tr>\n",
       "    <tr>\n",
       "      <th>3</th>\n",
       "      <td>7222</td>\n",
       "      <td>1955</td>\n",
       "      <td>2014</td>\n",
       "    </tr>\n",
       "    <tr>\n",
       "      <th>4</th>\n",
       "      <td>7082</td>\n",
       "      <td>1731</td>\n",
       "      <td>2015</td>\n",
       "    </tr>\n",
       "    <tr>\n",
       "      <th>5</th>\n",
       "      <td>10866</td>\n",
       "      <td>2242</td>\n",
       "      <td>2016</td>\n",
       "    </tr>\n",
       "  </tbody>\n",
       "</table>\n",
       "</div>"
      ],
      "text/plain": [
       "   payee_count  payee_left  year\n",
       "0         7922        1358  2011\n",
       "1         7528        1982  2012\n",
       "2         7596        1721  2013\n",
       "3         7222        1955  2014\n",
       "4         7082        1731  2015\n",
       "5        10866        2242  2016"
      ]
     },
     "execution_count": 112,
     "metadata": {},
     "output_type": "execute_result"
    }
   ],
   "source": [
    "# Create a dataframe called turnover_df with columns -- year, payee_count, payee_left\n",
    "turnover_df = pd.DataFrame({'year' : year_list, 'payee_count' : payee_set_count_list,\n",
    "                             'payee_left' : payee_set_diff_list})\n",
    "turnover_df"
   ]
  },
  {
   "cell_type": "code",
   "execution_count": 114,
   "metadata": {},
   "outputs": [
    {
     "data": {
      "text/html": [
       "<div>\n",
       "<style>\n",
       "    .dataframe thead tr:only-child th {\n",
       "        text-align: right;\n",
       "    }\n",
       "\n",
       "    .dataframe thead th {\n",
       "        text-align: left;\n",
       "    }\n",
       "\n",
       "    .dataframe tbody tr th {\n",
       "        vertical-align: top;\n",
       "    }\n",
       "</style>\n",
       "<table border=\"1\" class=\"dataframe\">\n",
       "  <thead>\n",
       "    <tr style=\"text-align: right;\">\n",
       "      <th></th>\n",
       "      <th>payee_count</th>\n",
       "      <th>payee_left</th>\n",
       "      <th>year</th>\n",
       "      <th>turnover_rate</th>\n",
       "    </tr>\n",
       "  </thead>\n",
       "  <tbody>\n",
       "    <tr>\n",
       "      <th>0</th>\n",
       "      <td>7922</td>\n",
       "      <td>1358</td>\n",
       "      <td>2011</td>\n",
       "      <td>0.171421</td>\n",
       "    </tr>\n",
       "    <tr>\n",
       "      <th>1</th>\n",
       "      <td>7528</td>\n",
       "      <td>1982</td>\n",
       "      <td>2012</td>\n",
       "      <td>0.263284</td>\n",
       "    </tr>\n",
       "    <tr>\n",
       "      <th>2</th>\n",
       "      <td>7596</td>\n",
       "      <td>1721</td>\n",
       "      <td>2013</td>\n",
       "      <td>0.226567</td>\n",
       "    </tr>\n",
       "    <tr>\n",
       "      <th>3</th>\n",
       "      <td>7222</td>\n",
       "      <td>1955</td>\n",
       "      <td>2014</td>\n",
       "      <td>0.270701</td>\n",
       "    </tr>\n",
       "    <tr>\n",
       "      <th>4</th>\n",
       "      <td>7082</td>\n",
       "      <td>1731</td>\n",
       "      <td>2015</td>\n",
       "      <td>0.244422</td>\n",
       "    </tr>\n",
       "    <tr>\n",
       "      <th>5</th>\n",
       "      <td>10866</td>\n",
       "      <td>2242</td>\n",
       "      <td>2016</td>\n",
       "      <td>0.206332</td>\n",
       "    </tr>\n",
       "  </tbody>\n",
       "</table>\n",
       "</div>"
      ],
      "text/plain": [
       "   payee_count  payee_left  year  turnover_rate\n",
       "0         7922        1358  2011       0.171421\n",
       "1         7528        1982  2012       0.263284\n",
       "2         7596        1721  2013       0.226567\n",
       "3         7222        1955  2014       0.270701\n",
       "4         7082        1731  2015       0.244422\n",
       "5        10866        2242  2016       0.206332"
      ]
     },
     "execution_count": 114,
     "metadata": {},
     "output_type": "execute_result"
    }
   ],
   "source": [
    "turnover_df['turnover_rate'] = turnover_df['payee_left']/turnover_df['payee_count']\n",
    "turnover_df"
   ]
  },
  {
   "cell_type": "code",
   "execution_count": 115,
   "metadata": {},
   "outputs": [
    {
     "name": "stdout",
     "output_type": "stream",
     "text": [
      "0.23549454676646503\n"
     ]
    }
   ],
   "source": [
    "#Get median of turnover_rate column\n",
    "median_rate = turnover_df['turnover_rate'].median()\n",
    "print(median_rate)"
   ]
  },
  {
   "cell_type": "code",
   "execution_count": null,
   "metadata": {},
   "outputs": [],
   "source": []
  }
 ],
 "metadata": {
  "kernelspec": {
   "display_name": "Python 3",
   "language": "python",
   "name": "python3"
  },
  "language_info": {
   "codemirror_mode": {
    "name": "ipython",
    "version": 3
   },
   "file_extension": ".py",
   "mimetype": "text/x-python",
   "name": "python",
   "nbconvert_exporter": "python",
   "pygments_lexer": "ipython3",
   "version": "3.6.5"
  }
 },
 "nbformat": 4,
 "nbformat_minor": 2
}
