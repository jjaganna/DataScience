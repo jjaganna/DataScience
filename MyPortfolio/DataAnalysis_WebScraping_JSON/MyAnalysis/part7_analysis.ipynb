{
 "cells": [
  {
   "cell_type": "code",
   "execution_count": 6,
   "metadata": {},
   "outputs": [],
   "source": [
    "import numpy as np\n",
    "import pandas as pd"
   ]
  },
  {
   "cell_type": "markdown",
   "metadata": {},
   "source": [
    "Read all the *detail.csv.  \n",
    "Renamed \"2015Q2-house-disburse-detail.csv\" to \n",
    "\"2015Q2-house-disburse-detail-old.csv\"\n",
    "Then renamed \"2015Q2-house-disburse-detail-updated.csv\" to \n",
    "\"2015Q2-house-disburse-detail.csv\".\n",
    "Then redirected all the filenames to \"filename.txt\" \n",
    "using the command:  ls  *detail.csv > filename.txt"
   ]
  },
  {
   "cell_type": "code",
   "execution_count": 7,
   "metadata": {},
   "outputs": [
    {
     "name": "stdout",
     "output_type": "stream",
     "text": [
      "['2016Q1-house-disburse-detail.csv', '2016Q2-house-disburse-detail.csv', '2016Q3-house-disburse-detail.csv', '2016Q4-house-disburse-detail.csv']\n"
     ]
    }
   ],
   "source": [
    "# Create a list of filename called file_list\n",
    "# Strip '\\n' at the end of the filename\n",
    "#Ref: https://stackoverflow.com/questions/42488579/\n",
    "#remove-n-from-each-string-stored-in-a-python-list\n",
    "\n",
    "file_list = []\n",
    "with open('filename.txt', 'r', encoding='utf-8') as myfile:\n",
    "    for line in myfile:\n",
    "        st_line = line.rstrip()\n",
    "        file_list.append(st_line)\n",
    "file_list=file_list[26:30]  #Slicing 2016 files\n",
    "print(file_list)"
   ]
  },
  {
   "cell_type": "code",
   "execution_count": 8,
   "metadata": {},
   "outputs": [],
   "source": [
    "#Create a dataframe for each of 2016 quarter files and concatenate the 4 dataframes\n",
    "df1 = pd.read_csv('2016Q1-house-disburse-detail.csv', low_memory = False)\n",
    "df2 = pd.read_csv('2016Q2-house-disburse-detail.csv', low_memory = False)\n",
    "df3 = pd.read_csv('2016Q3-house-disburse-detail.csv', low_memory = False)\n",
    "df4 = pd.read_csv('2016Q4-house-disburse-detail.csv', low_memory = False)"
   ]
  },
  {
   "cell_type": "code",
   "execution_count": 9,
   "metadata": {},
   "outputs": [],
   "source": [
    "df = pd.concat([df1, df2, df3, df4])"
   ]
  },
  {
   "cell_type": "code",
   "execution_count": 10,
   "metadata": {},
   "outputs": [
    {
     "name": "stdout",
     "output_type": "stream",
     "text": [
      "<class 'pandas.core.frame.DataFrame'>\n",
      "Int64Index: 385613 entries, 0 to 90674\n",
      "Data columns (total 16 columns):\n",
      "AMOUNT           385613 non-null object\n",
      "BIOGUIDE_ID      306557 non-null object\n",
      "CATEGORY         385613 non-null object\n",
      "DATE             328689 non-null object\n",
      "END DATE         385612 non-null object\n",
      "OFFICE           385613 non-null object\n",
      "PAYEE            334724 non-null object\n",
      "PROGRAM          90675 non-null object\n",
      "PURPOSE          385611 non-null object\n",
      "QUARTER          385613 non-null object\n",
      "RECIP (orig.)    334724 non-null object\n",
      "RECORDID         328690 non-null object\n",
      "START DATE       385612 non-null object\n",
      "TRANSCODE        328692 non-null object\n",
      "TRANSCODELONG    250648 non-null object\n",
      "YEAR             385613 non-null object\n",
      "dtypes: object(16)\n",
      "memory usage: 50.0+ MB\n"
     ]
    }
   ],
   "source": [
    "df.info()"
   ]
  },
  {
   "cell_type": "code",
   "execution_count": 11,
   "metadata": {},
   "outputs": [
    {
     "data": {
      "text/html": [
       "<div>\n",
       "<style>\n",
       "    .dataframe thead tr:only-child th {\n",
       "        text-align: right;\n",
       "    }\n",
       "\n",
       "    .dataframe thead th {\n",
       "        text-align: left;\n",
       "    }\n",
       "\n",
       "    .dataframe tbody tr th {\n",
       "        vertical-align: top;\n",
       "    }\n",
       "</style>\n",
       "<table border=\"1\" class=\"dataframe\">\n",
       "  <thead>\n",
       "    <tr style=\"text-align: right;\">\n",
       "      <th></th>\n",
       "      <th>AMOUNT</th>\n",
       "      <th>BIOGUIDE_ID</th>\n",
       "      <th>CATEGORY</th>\n",
       "      <th>DATE</th>\n",
       "      <th>END DATE</th>\n",
       "      <th>OFFICE</th>\n",
       "      <th>PAYEE</th>\n",
       "      <th>PROGRAM</th>\n",
       "      <th>PURPOSE</th>\n",
       "      <th>QUARTER</th>\n",
       "      <th>RECIP (orig.)</th>\n",
       "      <th>RECORDID</th>\n",
       "      <th>START DATE</th>\n",
       "      <th>TRANSCODE</th>\n",
       "      <th>TRANSCODELONG</th>\n",
       "      <th>YEAR</th>\n",
       "    </tr>\n",
       "  </thead>\n",
       "  <tbody>\n",
       "    <tr>\n",
       "      <th>0</th>\n",
       "      <td>380.00</td>\n",
       "      <td>NaN</td>\n",
       "      <td>SUPPLIES AND MATERIALS</td>\n",
       "      <td>03-18</td>\n",
       "      <td>02/28/16</td>\n",
       "      <td>OFFICE OF THE SPEAKER</td>\n",
       "      <td>CITI PCARD-GALLERIA FLORIST</td>\n",
       "      <td>NaN</td>\n",
       "      <td>HABITATION EXPENSE</td>\n",
       "      <td>2016Q1</td>\n",
       "      <td>CITI PCARD-GALLERIA FLORIST</td>\n",
       "      <td>00849255</td>\n",
       "      <td>01/29/16</td>\n",
       "      <td>AP</td>\n",
       "      <td>Accounts payable</td>\n",
       "      <td>2016</td>\n",
       "    </tr>\n",
       "    <tr>\n",
       "      <th>1</th>\n",
       "      <td>6,666.67</td>\n",
       "      <td>NaN</td>\n",
       "      <td>PERSONNEL COMPENSATION</td>\n",
       "      <td>NaN</td>\n",
       "      <td>03/31/16</td>\n",
       "      <td>OFFICE OF THE SPEAKER</td>\n",
       "      <td>ALTHOUSE,JOSHUA S</td>\n",
       "      <td>NaN</td>\n",
       "      <td>CONSERV COALITION OUTREACH COR</td>\n",
       "      <td>2016Q1</td>\n",
       "      <td>ALTHOUSE,JOSHUA S</td>\n",
       "      <td>NaN</td>\n",
       "      <td>02/01/16</td>\n",
       "      <td>NaN</td>\n",
       "      <td>NaN</td>\n",
       "      <td>2016</td>\n",
       "    </tr>\n",
       "    <tr>\n",
       "      <th>2</th>\n",
       "      <td>25,666.67</td>\n",
       "      <td>NaN</td>\n",
       "      <td>PERSONNEL COMPENSATION</td>\n",
       "      <td>NaN</td>\n",
       "      <td>03/31/16</td>\n",
       "      <td>OFFICE OF THE SPEAKER</td>\n",
       "      <td>ANDRES,DOUGLAS R</td>\n",
       "      <td>NaN</td>\n",
       "      <td>PRESS SECRETARY</td>\n",
       "      <td>2016Q1</td>\n",
       "      <td>ANDRES,DOUGLAS R</td>\n",
       "      <td>NaN</td>\n",
       "      <td>01/03/16</td>\n",
       "      <td>NaN</td>\n",
       "      <td>NaN</td>\n",
       "      <td>2016</td>\n",
       "    </tr>\n",
       "    <tr>\n",
       "      <th>3</th>\n",
       "      <td>18,333.33</td>\n",
       "      <td>NaN</td>\n",
       "      <td>PERSONNEL COMPENSATION</td>\n",
       "      <td>NaN</td>\n",
       "      <td>03/31/16</td>\n",
       "      <td>OFFICE OF THE SPEAKER</td>\n",
       "      <td>ANDREWS,THOMAS S</td>\n",
       "      <td>NaN</td>\n",
       "      <td>MEMBER SERVICES COORDINATOR</td>\n",
       "      <td>2016Q1</td>\n",
       "      <td>ANDREWS,THOMAS S</td>\n",
       "      <td>NaN</td>\n",
       "      <td>01/03/16</td>\n",
       "      <td>NaN</td>\n",
       "      <td>NaN</td>\n",
       "      <td>2016</td>\n",
       "    </tr>\n",
       "    <tr>\n",
       "      <th>4</th>\n",
       "      <td>26,250.00</td>\n",
       "      <td>NaN</td>\n",
       "      <td>PERSONNEL COMPENSATION</td>\n",
       "      <td>NaN</td>\n",
       "      <td>03/31/16</td>\n",
       "      <td>OFFICE OF THE SPEAKER</td>\n",
       "      <td>ANTELL,GEOFFREY</td>\n",
       "      <td>NaN</td>\n",
       "      <td>ASST TO THE SPEAKER FOR POLICY</td>\n",
       "      <td>2016Q1</td>\n",
       "      <td>ANTELL,GEOFFREY</td>\n",
       "      <td>NaN</td>\n",
       "      <td>01/28/16</td>\n",
       "      <td>NaN</td>\n",
       "      <td>NaN</td>\n",
       "      <td>2016</td>\n",
       "    </tr>\n",
       "  </tbody>\n",
       "</table>\n",
       "</div>"
      ],
      "text/plain": [
       "      AMOUNT BIOGUIDE_ID                CATEGORY   DATE  END DATE  \\\n",
       "0     380.00         NaN  SUPPLIES AND MATERIALS  03-18  02/28/16   \n",
       "1   6,666.67         NaN  PERSONNEL COMPENSATION    NaN  03/31/16   \n",
       "2  25,666.67         NaN  PERSONNEL COMPENSATION    NaN  03/31/16   \n",
       "3  18,333.33         NaN  PERSONNEL COMPENSATION    NaN  03/31/16   \n",
       "4  26,250.00         NaN  PERSONNEL COMPENSATION    NaN  03/31/16   \n",
       "\n",
       "                  OFFICE                        PAYEE PROGRAM  \\\n",
       "0  OFFICE OF THE SPEAKER  CITI PCARD-GALLERIA FLORIST     NaN   \n",
       "1  OFFICE OF THE SPEAKER            ALTHOUSE,JOSHUA S     NaN   \n",
       "2  OFFICE OF THE SPEAKER             ANDRES,DOUGLAS R     NaN   \n",
       "3  OFFICE OF THE SPEAKER             ANDREWS,THOMAS S     NaN   \n",
       "4  OFFICE OF THE SPEAKER              ANTELL,GEOFFREY     NaN   \n",
       "\n",
       "                          PURPOSE QUARTER                RECIP (orig.)  \\\n",
       "0              HABITATION EXPENSE  2016Q1  CITI PCARD-GALLERIA FLORIST   \n",
       "1  CONSERV COALITION OUTREACH COR  2016Q1            ALTHOUSE,JOSHUA S   \n",
       "2                 PRESS SECRETARY  2016Q1             ANDRES,DOUGLAS R   \n",
       "3     MEMBER SERVICES COORDINATOR  2016Q1             ANDREWS,THOMAS S   \n",
       "4  ASST TO THE SPEAKER FOR POLICY  2016Q1              ANTELL,GEOFFREY   \n",
       "\n",
       "   RECORDID START DATE TRANSCODE     TRANSCODELONG  YEAR  \n",
       "0  00849255   01/29/16        AP  Accounts payable  2016  \n",
       "1       NaN   02/01/16       NaN               NaN  2016  \n",
       "2       NaN   01/03/16       NaN               NaN  2016  \n",
       "3       NaN   01/03/16       NaN               NaN  2016  \n",
       "4       NaN   01/28/16       NaN               NaN  2016  "
      ]
     },
     "execution_count": 11,
     "metadata": {},
     "output_type": "execute_result"
    }
   ],
   "source": [
    "df.head()"
   ]
  },
  {
   "cell_type": "code",
   "execution_count": 12,
   "metadata": {},
   "outputs": [
    {
     "data": {
      "text/plain": [
       "['BIOGUIDE_ID',\n",
       " 'DATE',\n",
       " 'END DATE',\n",
       " 'PAYEE',\n",
       " 'PROGRAM',\n",
       " 'PURPOSE',\n",
       " 'RECIP (orig.)',\n",
       " 'RECORDID',\n",
       " 'START DATE',\n",
       " 'TRANSCODE',\n",
       " 'TRANSCODELONG']"
      ]
     },
     "execution_count": 12,
     "metadata": {},
     "output_type": "execute_result"
    }
   ],
   "source": [
    "#Check if any column has null values\n",
    "\n",
    "df.columns[df.isnull().any()].tolist()"
   ]
  },
  {
   "cell_type": "code",
   "execution_count": 13,
   "metadata": {},
   "outputs": [
    {
     "data": {
      "text/plain": [
       "pandas.core.series.Series"
      ]
     },
     "execution_count": 13,
     "metadata": {},
     "output_type": "execute_result"
    }
   ],
   "source": [
    "type(df['START DATE'])"
   ]
  },
  {
   "cell_type": "code",
   "execution_count": 14,
   "metadata": {},
   "outputs": [
    {
     "name": "stdout",
     "output_type": "stream",
     "text": [
      "0    01/29/16\n",
      "1    02/01/16\n",
      "2    01/03/16\n",
      "3    01/03/16\n",
      "4    01/28/16\n",
      "Name: START DATE, dtype: object\n"
     ]
    }
   ],
   "source": [
    "print(df['START DATE'].head())"
   ]
  },
  {
   "cell_type": "code",
   "execution_count": 15,
   "metadata": {},
   "outputs": [],
   "source": [
    "# Create a column called \"START YEAR\"\n",
    "df['START YEAR'] = df['START DATE'].apply(lambda x : str(x)[-2: ])"
   ]
  },
  {
   "cell_type": "code",
   "execution_count": 16,
   "metadata": {},
   "outputs": [
    {
     "data": {
      "text/plain": [
       "0    16\n",
       "1    16\n",
       "2    16\n",
       "3    16\n",
       "4    16\n",
       "Name: START YEAR, dtype: object"
      ]
     },
     "execution_count": 16,
     "metadata": {},
     "output_type": "execute_result"
    }
   ],
   "source": [
    "df['START YEAR'].head()"
   ]
  },
  {
   "cell_type": "code",
   "execution_count": 17,
   "metadata": {},
   "outputs": [
    {
     "name": "stdout",
     "output_type": "stream",
     "text": [
      "<class 'pandas.core.frame.DataFrame'>\n",
      "Int64Index: 358703 entries, 0 to 90674\n",
      "Data columns (total 17 columns):\n",
      "AMOUNT           358703 non-null object\n",
      "BIOGUIDE_ID      283807 non-null object\n",
      "CATEGORY         358703 non-null object\n",
      "DATE             302654 non-null object\n",
      "END DATE         358703 non-null object\n",
      "OFFICE           358703 non-null object\n",
      "PAYEE            310562 non-null object\n",
      "PROGRAM          89744 non-null object\n",
      "PURPOSE          358701 non-null object\n",
      "QUARTER          358703 non-null object\n",
      "RECIP (orig.)    310562 non-null object\n",
      "RECORDID         302654 non-null object\n",
      "START DATE       358703 non-null object\n",
      "TRANSCODE        302655 non-null object\n",
      "TRANSCODELONG    225539 non-null object\n",
      "YEAR             358703 non-null object\n",
      "START YEAR       358703 non-null object\n",
      "dtypes: object(17)\n",
      "memory usage: 49.3+ MB\n"
     ]
    }
   ],
   "source": [
    "#Consider only data with 'START DATE' in 2016\n",
    "df = df[df['START YEAR'] == '16']\n",
    "df.info()"
   ]
  },
  {
   "cell_type": "code",
   "execution_count": 18,
   "metadata": {},
   "outputs": [
    {
     "name": "stdout",
     "output_type": "stream",
     "text": [
      "<class 'numpy.float64'>\n"
     ]
    }
   ],
   "source": [
    "# AMOUNT is a string column. Convert to a float.\n",
    "\n",
    "df['AMOUNT'] = pd.to_numeric(df['AMOUNT'], errors='coerce')\n",
    "print(type(df['AMOUNT'].iloc[0]))"
   ]
  },
  {
   "cell_type": "code",
   "execution_count": 25,
   "metadata": {},
   "outputs": [],
   "source": [
    "#Ref: https://stackoverflow.com/questions/27018622/pandas-groupby-sort-descending-order\n",
    "group_by_rep_df = df.groupby(df['BIOGUIDE_ID'])['AMOUNT'].sum().sort_values(ascending = False)\n",
    "top_20_spenders = group_by_rep_df.head(20)"
   ]
  },
  {
   "cell_type": "code",
   "execution_count": 31,
   "metadata": {},
   "outputs": [
    {
     "name": "stdout",
     "output_type": "stream",
     "text": [
      "Index(['C001103', 'K000376', 'K000362', 'N000181', 'V000132', 'L000571',\n",
      "       'A000374', 'Z000018', 'C001036', 'V000129', 'Y000033', 'B001278',\n",
      "       'P000606', 'B000287', 'T000193', 'C001049', 'B001248', 'R000580',\n",
      "       'L000576', 'P000596'],\n",
      "      dtype='object', name='BIOGUIDE_ID')\n"
     ]
    }
   ],
   "source": [
    "top_20_list = top_20_spenders.index\n",
    "print(top_20_list)"
   ]
  },
  {
   "cell_type": "code",
   "execution_count": 33,
   "metadata": {},
   "outputs": [
    {
     "data": {
      "text/plain": [
       "pandas.core.indexes.base.Index"
      ]
     },
     "execution_count": 33,
     "metadata": {},
     "output_type": "execute_result"
    }
   ],
   "source": [
    "type(top_20_spenders.index)"
   ]
  },
  {
   "cell_type": "code",
   "execution_count": 34,
   "metadata": {},
   "outputs": [
    {
     "data": {
      "text/plain": [
       "'K000362'"
      ]
     },
     "execution_count": 34,
     "metadata": {},
     "output_type": "execute_result"
    }
   ],
   "source": [
    "top_20_spenders.index[2]"
   ]
  },
  {
   "cell_type": "code",
   "execution_count": 37,
   "metadata": {},
   "outputs": [],
   "source": [
    "with open('top_20_file.csv', 'w', encoding = 'utf-8') as top_file:\n",
    "    for rep in top_20_list:\n",
    "        top_file.write(\"{}\\n\".format(rep))\n",
    "        "
   ]
  },
  {
   "cell_type": "code",
   "execution_count": 54,
   "metadata": {},
   "outputs": [],
   "source": [
    "import json\n",
    "\n",
    "party_list = []\n",
    "for rep in top_20_list:\n",
    "    filename = rep + \".json\"\n",
    "    with open(filename, 'r') as f:\n",
    "        rep_dict = json.load(f)\n",
    "        \n",
    "    party = rep_dict['results'][0]['current_party']\n",
    "    party_list.append(party)"
   ]
  },
  {
   "cell_type": "code",
   "execution_count": 55,
   "metadata": {},
   "outputs": [
    {
     "name": "stdout",
     "output_type": "stream",
     "text": [
      "['R', 'R', 'R', 'R', 'D', 'R', 'R', 'R', 'D', 'R', 'R', 'D', 'R', 'D', 'D', 'D', 'R', 'R', 'R', 'D']\n"
     ]
    }
   ],
   "source": [
    "print(party_list)"
   ]
  },
  {
   "cell_type": "code",
   "execution_count": 56,
   "metadata": {},
   "outputs": [
    {
     "name": "stdout",
     "output_type": "stream",
     "text": [
      "20\n"
     ]
    }
   ],
   "source": [
    "print(len(party_list))"
   ]
  },
  {
   "cell_type": "code",
   "execution_count": 58,
   "metadata": {},
   "outputs": [
    {
     "name": "stdout",
     "output_type": "stream",
     "text": [
      "7\n"
     ]
    }
   ],
   "source": [
    "count_democrats = 0\n",
    "for item in party_list:\n",
    "    if item == 'D':\n",
    "        count_democrats += 1\n",
    "print(count_democrats)"
   ]
  },
  {
   "cell_type": "code",
   "execution_count": 61,
   "metadata": {},
   "outputs": [
    {
     "name": "stdout",
     "output_type": "stream",
     "text": [
      "35.0\n"
     ]
    }
   ],
   "source": [
    "dem_party_percent =  100 * count_democrats/len(party_list)\n",
    "print(dem_party_percent)"
   ]
  },
  {
   "cell_type": "code",
   "execution_count": null,
   "metadata": {},
   "outputs": [],
   "source": []
  }
 ],
 "metadata": {
  "kernelspec": {
   "display_name": "Python 3",
   "language": "python",
   "name": "python3"
  },
  "language_info": {
   "codemirror_mode": {
    "name": "ipython",
    "version": 3
   },
   "file_extension": ".py",
   "mimetype": "text/x-python",
   "name": "python",
   "nbconvert_exporter": "python",
   "pygments_lexer": "ipython3",
   "version": "3.6.5"
  }
 },
 "nbformat": 4,
 "nbformat_minor": 2
}
