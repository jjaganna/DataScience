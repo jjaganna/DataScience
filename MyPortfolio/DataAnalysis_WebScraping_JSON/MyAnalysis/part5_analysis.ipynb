{
 "cells": [
  {
   "cell_type": "markdown",
   "metadata": {},
   "source": [
    "## PART 5 -- Highest Average Staff Salary in 2016"
   ]
  },
  {
   "cell_type": "code",
   "execution_count": 7,
   "metadata": {},
   "outputs": [],
   "source": [
    "import numpy as np\n",
    "import pandas as pd"
   ]
  },
  {
   "cell_type": "markdown",
   "metadata": {},
   "source": [
    "Read all the *detail.csv.  \n",
    "Renamed \"2015Q2-house-disburse-detail.csv\" to \n",
    "\"2015Q2-house-disburse-detail-old.csv\"\n",
    "Then renamed \"2015Q2-house-disburse-detail-updated.csv\" to \n",
    "\"2015Q2-house-disburse-detail.csv\".\n",
    "Then redirected all the filenames to \"filename.txt\" \n",
    "using the command:  ls  *detail.csv > filename.txt"
   ]
  },
  {
   "cell_type": "code",
   "execution_count": 8,
   "metadata": {},
   "outputs": [
    {
     "name": "stdout",
     "output_type": "stream",
     "text": [
      "['2016Q1-house-disburse-detail.csv', '2016Q2-house-disburse-detail.csv', '2016Q3-house-disburse-detail.csv', '2016Q4-house-disburse-detail.csv']\n"
     ]
    }
   ],
   "source": [
    "# Create a list of filename called file_list\n",
    "# Strip '\\n' at the end of the filename\n",
    "#Ref: https://stackoverflow.com/questions/42488579/\n",
    "#remove-n-from-each-string-stored-in-a-python-list\n",
    "\n",
    "file_list = []\n",
    "with open('filename.txt', 'r', encoding='utf-8') as myfile:\n",
    "    for line in myfile:\n",
    "        st_line = line.rstrip()\n",
    "        file_list.append(st_line)\n",
    "file_list=file_list[26:30]  #Slicing 2016 files\n",
    "print(file_list)"
   ]
  },
  {
   "cell_type": "code",
   "execution_count": 9,
   "metadata": {},
   "outputs": [],
   "source": [
    "#Create a dataframe for each of 2016 quarter files and concatenate the 4 dataframes\n",
    "df1 = pd.read_csv('2016Q1-house-disburse-detail.csv', low_memory = False)\n",
    "df2 = pd.read_csv('2016Q2-house-disburse-detail.csv', low_memory = False)\n",
    "df3 = pd.read_csv('2016Q3-house-disburse-detail.csv', low_memory = False)\n",
    "df4 = pd.read_csv('2016Q4-house-disburse-detail.csv', low_memory = False)"
   ]
  },
  {
   "cell_type": "code",
   "execution_count": 10,
   "metadata": {},
   "outputs": [],
   "source": [
    "df = pd.concat([df1, df2, df3, df4])"
   ]
  },
  {
   "cell_type": "code",
   "execution_count": 11,
   "metadata": {},
   "outputs": [
    {
     "name": "stdout",
     "output_type": "stream",
     "text": [
      "<class 'pandas.core.frame.DataFrame'>\n",
      "Int64Index: 385613 entries, 0 to 90674\n",
      "Data columns (total 16 columns):\n",
      "AMOUNT           385613 non-null object\n",
      "BIOGUIDE_ID      306557 non-null object\n",
      "CATEGORY         385613 non-null object\n",
      "DATE             328689 non-null object\n",
      "END DATE         385612 non-null object\n",
      "OFFICE           385613 non-null object\n",
      "PAYEE            334724 non-null object\n",
      "PROGRAM          90675 non-null object\n",
      "PURPOSE          385611 non-null object\n",
      "QUARTER          385613 non-null object\n",
      "RECIP (orig.)    334724 non-null object\n",
      "RECORDID         328690 non-null object\n",
      "START DATE       385612 non-null object\n",
      "TRANSCODE        328692 non-null object\n",
      "TRANSCODELONG    250648 non-null object\n",
      "YEAR             385613 non-null object\n",
      "dtypes: object(16)\n",
      "memory usage: 50.0+ MB\n"
     ]
    }
   ],
   "source": [
    "df.info()"
   ]
  },
  {
   "cell_type": "code",
   "execution_count": 12,
   "metadata": {},
   "outputs": [
    {
     "data": {
      "text/html": [
       "<div>\n",
       "<style>\n",
       "    .dataframe thead tr:only-child th {\n",
       "        text-align: right;\n",
       "    }\n",
       "\n",
       "    .dataframe thead th {\n",
       "        text-align: left;\n",
       "    }\n",
       "\n",
       "    .dataframe tbody tr th {\n",
       "        vertical-align: top;\n",
       "    }\n",
       "</style>\n",
       "<table border=\"1\" class=\"dataframe\">\n",
       "  <thead>\n",
       "    <tr style=\"text-align: right;\">\n",
       "      <th></th>\n",
       "      <th>AMOUNT</th>\n",
       "      <th>BIOGUIDE_ID</th>\n",
       "      <th>CATEGORY</th>\n",
       "      <th>DATE</th>\n",
       "      <th>END DATE</th>\n",
       "      <th>OFFICE</th>\n",
       "      <th>PAYEE</th>\n",
       "      <th>PROGRAM</th>\n",
       "      <th>PURPOSE</th>\n",
       "      <th>QUARTER</th>\n",
       "      <th>RECIP (orig.)</th>\n",
       "      <th>RECORDID</th>\n",
       "      <th>START DATE</th>\n",
       "      <th>TRANSCODE</th>\n",
       "      <th>TRANSCODELONG</th>\n",
       "      <th>YEAR</th>\n",
       "    </tr>\n",
       "  </thead>\n",
       "  <tbody>\n",
       "    <tr>\n",
       "      <th>0</th>\n",
       "      <td>380.00</td>\n",
       "      <td>NaN</td>\n",
       "      <td>SUPPLIES AND MATERIALS</td>\n",
       "      <td>03-18</td>\n",
       "      <td>02/28/16</td>\n",
       "      <td>OFFICE OF THE SPEAKER</td>\n",
       "      <td>CITI PCARD-GALLERIA FLORIST</td>\n",
       "      <td>NaN</td>\n",
       "      <td>HABITATION EXPENSE</td>\n",
       "      <td>2016Q1</td>\n",
       "      <td>CITI PCARD-GALLERIA FLORIST</td>\n",
       "      <td>00849255</td>\n",
       "      <td>01/29/16</td>\n",
       "      <td>AP</td>\n",
       "      <td>Accounts payable</td>\n",
       "      <td>2016</td>\n",
       "    </tr>\n",
       "    <tr>\n",
       "      <th>1</th>\n",
       "      <td>6,666.67</td>\n",
       "      <td>NaN</td>\n",
       "      <td>PERSONNEL COMPENSATION</td>\n",
       "      <td>NaN</td>\n",
       "      <td>03/31/16</td>\n",
       "      <td>OFFICE OF THE SPEAKER</td>\n",
       "      <td>ALTHOUSE,JOSHUA S</td>\n",
       "      <td>NaN</td>\n",
       "      <td>CONSERV COALITION OUTREACH COR</td>\n",
       "      <td>2016Q1</td>\n",
       "      <td>ALTHOUSE,JOSHUA S</td>\n",
       "      <td>NaN</td>\n",
       "      <td>02/01/16</td>\n",
       "      <td>NaN</td>\n",
       "      <td>NaN</td>\n",
       "      <td>2016</td>\n",
       "    </tr>\n",
       "    <tr>\n",
       "      <th>2</th>\n",
       "      <td>25,666.67</td>\n",
       "      <td>NaN</td>\n",
       "      <td>PERSONNEL COMPENSATION</td>\n",
       "      <td>NaN</td>\n",
       "      <td>03/31/16</td>\n",
       "      <td>OFFICE OF THE SPEAKER</td>\n",
       "      <td>ANDRES,DOUGLAS R</td>\n",
       "      <td>NaN</td>\n",
       "      <td>PRESS SECRETARY</td>\n",
       "      <td>2016Q1</td>\n",
       "      <td>ANDRES,DOUGLAS R</td>\n",
       "      <td>NaN</td>\n",
       "      <td>01/03/16</td>\n",
       "      <td>NaN</td>\n",
       "      <td>NaN</td>\n",
       "      <td>2016</td>\n",
       "    </tr>\n",
       "    <tr>\n",
       "      <th>3</th>\n",
       "      <td>18,333.33</td>\n",
       "      <td>NaN</td>\n",
       "      <td>PERSONNEL COMPENSATION</td>\n",
       "      <td>NaN</td>\n",
       "      <td>03/31/16</td>\n",
       "      <td>OFFICE OF THE SPEAKER</td>\n",
       "      <td>ANDREWS,THOMAS S</td>\n",
       "      <td>NaN</td>\n",
       "      <td>MEMBER SERVICES COORDINATOR</td>\n",
       "      <td>2016Q1</td>\n",
       "      <td>ANDREWS,THOMAS S</td>\n",
       "      <td>NaN</td>\n",
       "      <td>01/03/16</td>\n",
       "      <td>NaN</td>\n",
       "      <td>NaN</td>\n",
       "      <td>2016</td>\n",
       "    </tr>\n",
       "    <tr>\n",
       "      <th>4</th>\n",
       "      <td>26,250.00</td>\n",
       "      <td>NaN</td>\n",
       "      <td>PERSONNEL COMPENSATION</td>\n",
       "      <td>NaN</td>\n",
       "      <td>03/31/16</td>\n",
       "      <td>OFFICE OF THE SPEAKER</td>\n",
       "      <td>ANTELL,GEOFFREY</td>\n",
       "      <td>NaN</td>\n",
       "      <td>ASST TO THE SPEAKER FOR POLICY</td>\n",
       "      <td>2016Q1</td>\n",
       "      <td>ANTELL,GEOFFREY</td>\n",
       "      <td>NaN</td>\n",
       "      <td>01/28/16</td>\n",
       "      <td>NaN</td>\n",
       "      <td>NaN</td>\n",
       "      <td>2016</td>\n",
       "    </tr>\n",
       "  </tbody>\n",
       "</table>\n",
       "</div>"
      ],
      "text/plain": [
       "      AMOUNT BIOGUIDE_ID                CATEGORY   DATE  END DATE  \\\n",
       "0     380.00         NaN  SUPPLIES AND MATERIALS  03-18  02/28/16   \n",
       "1   6,666.67         NaN  PERSONNEL COMPENSATION    NaN  03/31/16   \n",
       "2  25,666.67         NaN  PERSONNEL COMPENSATION    NaN  03/31/16   \n",
       "3  18,333.33         NaN  PERSONNEL COMPENSATION    NaN  03/31/16   \n",
       "4  26,250.00         NaN  PERSONNEL COMPENSATION    NaN  03/31/16   \n",
       "\n",
       "                  OFFICE                        PAYEE PROGRAM  \\\n",
       "0  OFFICE OF THE SPEAKER  CITI PCARD-GALLERIA FLORIST     NaN   \n",
       "1  OFFICE OF THE SPEAKER            ALTHOUSE,JOSHUA S     NaN   \n",
       "2  OFFICE OF THE SPEAKER             ANDRES,DOUGLAS R     NaN   \n",
       "3  OFFICE OF THE SPEAKER             ANDREWS,THOMAS S     NaN   \n",
       "4  OFFICE OF THE SPEAKER              ANTELL,GEOFFREY     NaN   \n",
       "\n",
       "                          PURPOSE QUARTER                RECIP (orig.)  \\\n",
       "0              HABITATION EXPENSE  2016Q1  CITI PCARD-GALLERIA FLORIST   \n",
       "1  CONSERV COALITION OUTREACH COR  2016Q1            ALTHOUSE,JOSHUA S   \n",
       "2                 PRESS SECRETARY  2016Q1             ANDRES,DOUGLAS R   \n",
       "3     MEMBER SERVICES COORDINATOR  2016Q1             ANDREWS,THOMAS S   \n",
       "4  ASST TO THE SPEAKER FOR POLICY  2016Q1              ANTELL,GEOFFREY   \n",
       "\n",
       "   RECORDID START DATE TRANSCODE     TRANSCODELONG  YEAR  \n",
       "0  00849255   01/29/16        AP  Accounts payable  2016  \n",
       "1       NaN   02/01/16       NaN               NaN  2016  \n",
       "2       NaN   01/03/16       NaN               NaN  2016  \n",
       "3       NaN   01/03/16       NaN               NaN  2016  \n",
       "4       NaN   01/28/16       NaN               NaN  2016  "
      ]
     },
     "execution_count": 12,
     "metadata": {},
     "output_type": "execute_result"
    }
   ],
   "source": [
    "df.head()"
   ]
  },
  {
   "cell_type": "code",
   "execution_count": 13,
   "metadata": {},
   "outputs": [
    {
     "data": {
      "text/plain": [
       "['BIOGUIDE_ID',\n",
       " 'DATE',\n",
       " 'END DATE',\n",
       " 'PAYEE',\n",
       " 'PROGRAM',\n",
       " 'PURPOSE',\n",
       " 'RECIP (orig.)',\n",
       " 'RECORDID',\n",
       " 'START DATE',\n",
       " 'TRANSCODE',\n",
       " 'TRANSCODELONG']"
      ]
     },
     "execution_count": 13,
     "metadata": {},
     "output_type": "execute_result"
    }
   ],
   "source": [
    "#Check if any column has null values\n",
    "\n",
    "df.columns[df.isnull().any()].tolist()"
   ]
  },
  {
   "cell_type": "code",
   "execution_count": 21,
   "metadata": {},
   "outputs": [
    {
     "name": "stdout",
     "output_type": "stream",
     "text": [
      "<class 'pandas.core.frame.DataFrame'>\n",
      "Int64Index: 56863 entries, 1 to 90165\n",
      "Data columns (total 16 columns):\n",
      "AMOUNT           56863 non-null object\n",
      "BIOGUIDE_ID      42306 non-null object\n",
      "CATEGORY         56863 non-null object\n",
      "DATE             36 non-null object\n",
      "END DATE         56863 non-null object\n",
      "OFFICE           56863 non-null object\n",
      "PAYEE            56858 non-null object\n",
      "PROGRAM          12616 non-null object\n",
      "PURPOSE          56861 non-null object\n",
      "QUARTER          56863 non-null object\n",
      "RECIP (orig.)    56858 non-null object\n",
      "RECORDID         36 non-null object\n",
      "START DATE       56863 non-null object\n",
      "TRANSCODE        38 non-null object\n",
      "TRANSCODELONG    31 non-null object\n",
      "YEAR             56863 non-null object\n",
      "dtypes: object(16)\n",
      "memory usage: 7.4+ MB\n"
     ]
    }
   ],
   "source": [
    "#Look only at 'PERSONNEL COMPENSATION' value in 'CATEGORY' column.\n",
    "df = df[df['CATEGORY'] == 'PERSONNEL COMPENSATION']\n",
    "df.info()"
   ]
  },
  {
   "cell_type": "code",
   "execution_count": 22,
   "metadata": {},
   "outputs": [
    {
     "data": {
      "text/plain": [
       "444"
      ]
     },
     "execution_count": 22,
     "metadata": {},
     "output_type": "execute_result"
    }
   ],
   "source": [
    "df['BIOGUIDE_ID'].nunique()"
   ]
  },
  {
   "cell_type": "code",
   "execution_count": 33,
   "metadata": {},
   "outputs": [
    {
     "name": "stdout",
     "output_type": "stream",
     "text": [
      "<class 'pandas.core.frame.DataFrame'>\n",
      "Int64Index: 22710 entries, 16 to 90165\n",
      "Data columns (total 16 columns):\n",
      "AMOUNT           22710 non-null float64\n",
      "BIOGUIDE_ID      17353 non-null object\n",
      "CATEGORY         22710 non-null object\n",
      "DATE             15 non-null object\n",
      "END DATE         22710 non-null object\n",
      "OFFICE           22710 non-null object\n",
      "PAYEE            22707 non-null object\n",
      "PROGRAM          12555 non-null object\n",
      "PURPOSE          22710 non-null object\n",
      "QUARTER          22710 non-null object\n",
      "RECIP (orig.)    22707 non-null object\n",
      "RECORDID         15 non-null object\n",
      "START DATE       22710 non-null object\n",
      "TRANSCODE        15 non-null object\n",
      "TRANSCODELONG    13 non-null object\n",
      "YEAR             22710 non-null object\n",
      "dtypes: float64(1), object(15)\n",
      "memory usage: 2.9+ MB\n"
     ]
    },
    {
     "name": "stderr",
     "output_type": "stream",
     "text": [
      "/Users/Jayashri/anaconda/lib/python3.6/site-packages/ipykernel_launcher.py:2: SettingWithCopyWarning: \n",
      "A value is trying to be set on a copy of a slice from a DataFrame.\n",
      "Try using .loc[row_indexer,col_indexer] = value instead\n",
      "\n",
      "See the caveats in the documentation: http://pandas.pydata.org/pandas-docs/stable/indexing.html#indexing-view-versus-copy\n",
      "  \n"
     ]
    }
   ],
   "source": [
    "#Convert AMOUNT from a string to a float and check if the AMOUNT is positive.\n",
    "df['AMOUNT'] = pd.to_numeric(df['AMOUNT'], errors='coerce')\n",
    "df = df[df['AMOUNT'] > 0]\n",
    "df.info()\n"
   ]
  },
  {
   "cell_type": "code",
   "execution_count": 36,
   "metadata": {},
   "outputs": [
    {
     "data": {
      "text/html": [
       "<div>\n",
       "<style>\n",
       "    .dataframe thead tr:only-child th {\n",
       "        text-align: right;\n",
       "    }\n",
       "\n",
       "    .dataframe thead th {\n",
       "        text-align: left;\n",
       "    }\n",
       "\n",
       "    .dataframe tbody tr th {\n",
       "        vertical-align: top;\n",
       "    }\n",
       "</style>\n",
       "<table border=\"1\" class=\"dataframe\">\n",
       "  <thead>\n",
       "    <tr style=\"text-align: right;\">\n",
       "      <th></th>\n",
       "      <th>BIOGUIDE_ID</th>\n",
       "      <th>PAYEE</th>\n",
       "      <th>AMOUNT</th>\n",
       "    </tr>\n",
       "  </thead>\n",
       "  <tbody>\n",
       "    <tr>\n",
       "      <th>16</th>\n",
       "      <td>NaN</td>\n",
       "      <td>CASTINE,PETER L</td>\n",
       "      <td>416.46</td>\n",
       "    </tr>\n",
       "    <tr>\n",
       "      <th>30</th>\n",
       "      <td>NaN</td>\n",
       "      <td>GILLESPIE,JAMES M</td>\n",
       "      <td>25.24</td>\n",
       "    </tr>\n",
       "    <tr>\n",
       "      <th>40</th>\n",
       "      <td>NaN</td>\n",
       "      <td>JORDON,BENJAMIN D</td>\n",
       "      <td>194.44</td>\n",
       "    </tr>\n",
       "    <tr>\n",
       "      <th>41</th>\n",
       "      <td>NaN</td>\n",
       "      <td>KITTLE,ALLIE M</td>\n",
       "      <td>408.33</td>\n",
       "    </tr>\n",
       "    <tr>\n",
       "      <th>46</th>\n",
       "      <td>NaN</td>\n",
       "      <td>MARROLETTI,CHRISTOPHER V</td>\n",
       "      <td>832.92</td>\n",
       "    </tr>\n",
       "  </tbody>\n",
       "</table>\n",
       "</div>"
      ],
      "text/plain": [
       "   BIOGUIDE_ID                     PAYEE  AMOUNT\n",
       "16         NaN           CASTINE,PETER L  416.46\n",
       "30         NaN         GILLESPIE,JAMES M   25.24\n",
       "40         NaN         JORDON,BENJAMIN D  194.44\n",
       "41         NaN            KITTLE,ALLIE M  408.33\n",
       "46         NaN  MARROLETTI,CHRISTOPHER V  832.92"
      ]
     },
     "execution_count": 36,
     "metadata": {},
     "output_type": "execute_result"
    }
   ],
   "source": [
    "#Columns we want are  BIOGUIDE_ID, PAYEE and AMOUNT\n",
    "rep_df = df[['BIOGUIDE_ID', 'PAYEE', 'AMOUNT']]\n",
    "rep_df.head()"
   ]
  },
  {
   "cell_type": "code",
   "execution_count": 38,
   "metadata": {},
   "outputs": [
    {
     "data": {
      "text/html": [
       "<div>\n",
       "<style>\n",
       "    .dataframe thead tr:only-child th {\n",
       "        text-align: right;\n",
       "    }\n",
       "\n",
       "    .dataframe thead th {\n",
       "        text-align: left;\n",
       "    }\n",
       "\n",
       "    .dataframe tbody tr th {\n",
       "        vertical-align: top;\n",
       "    }\n",
       "</style>\n",
       "<table border=\"1\" class=\"dataframe\">\n",
       "  <thead>\n",
       "    <tr style=\"text-align: right;\">\n",
       "      <th></th>\n",
       "      <th>BIOGUIDE_ID</th>\n",
       "      <th>PAYEE</th>\n",
       "      <th>AMOUNT</th>\n",
       "    </tr>\n",
       "  </thead>\n",
       "  <tbody>\n",
       "    <tr>\n",
       "      <th>5393</th>\n",
       "      <td>A000374</td>\n",
       "      <td>ARNOLD,EMILY M</td>\n",
       "      <td>200.00</td>\n",
       "    </tr>\n",
       "    <tr>\n",
       "      <th>5405</th>\n",
       "      <td>A000374</td>\n",
       "      <td>PIERCE,ANN S</td>\n",
       "      <td>666.67</td>\n",
       "    </tr>\n",
       "    <tr>\n",
       "      <th>5565</th>\n",
       "      <td>A000374</td>\n",
       "      <td>ARNOLD,EMILY M</td>\n",
       "      <td>204.17</td>\n",
       "    </tr>\n",
       "    <tr>\n",
       "      <th>5566</th>\n",
       "      <td>A000374</td>\n",
       "      <td>AVERY,ROBERT C</td>\n",
       "      <td>379.17</td>\n",
       "    </tr>\n",
       "    <tr>\n",
       "      <th>5567</th>\n",
       "      <td>A000374</td>\n",
       "      <td>BOIES,LILIA C</td>\n",
       "      <td>233.33</td>\n",
       "    </tr>\n",
       "  </tbody>\n",
       "</table>\n",
       "</div>"
      ],
      "text/plain": [
       "     BIOGUIDE_ID           PAYEE  AMOUNT\n",
       "5393     A000374  ARNOLD,EMILY M  200.00\n",
       "5405     A000374    PIERCE,ANN S  666.67\n",
       "5565     A000374  ARNOLD,EMILY M  204.17\n",
       "5566     A000374  AVERY,ROBERT C  379.17\n",
       "5567     A000374   BOIES,LILIA C  233.33"
      ]
     },
     "execution_count": 38,
     "metadata": {},
     "output_type": "execute_result"
    }
   ],
   "source": [
    "#Remove all rows with NaN entries for BIOGUIDE_ID\n",
    "rep_df = rep_df[rep_df['BIOGUIDE_ID'].notnull()]\n",
    "rep_df.head()"
   ]
  },
  {
   "cell_type": "code",
   "execution_count": 46,
   "metadata": {},
   "outputs": [
    {
     "data": {
      "text/html": [
       "<div>\n",
       "<style>\n",
       "    .dataframe thead tr:only-child th {\n",
       "        text-align: right;\n",
       "    }\n",
       "\n",
       "    .dataframe thead th {\n",
       "        text-align: left;\n",
       "    }\n",
       "\n",
       "    .dataframe tbody tr th {\n",
       "        vertical-align: top;\n",
       "    }\n",
       "</style>\n",
       "<table border=\"1\" class=\"dataframe\">\n",
       "  <thead>\n",
       "    <tr style=\"text-align: right;\">\n",
       "      <th></th>\n",
       "      <th>AMOUNT</th>\n",
       "    </tr>\n",
       "    <tr>\n",
       "      <th>BIOGUIDE_ID</th>\n",
       "      <th></th>\n",
       "    </tr>\n",
       "  </thead>\n",
       "  <tbody>\n",
       "    <tr>\n",
       "      <th>A000055</th>\n",
       "      <td>278080.62</td>\n",
       "    </tr>\n",
       "    <tr>\n",
       "      <th>A000367</th>\n",
       "      <td>283904.27</td>\n",
       "    </tr>\n",
       "    <tr>\n",
       "      <th>A000369</th>\n",
       "      <td>287807.81</td>\n",
       "    </tr>\n",
       "    <tr>\n",
       "      <th>A000370</th>\n",
       "      <td>246273.94</td>\n",
       "    </tr>\n",
       "    <tr>\n",
       "      <th>A000371</th>\n",
       "      <td>257840.80</td>\n",
       "    </tr>\n",
       "  </tbody>\n",
       "</table>\n",
       "</div>"
      ],
      "text/plain": [
       "                AMOUNT\n",
       "BIOGUIDE_ID           \n",
       "A000055      278080.62\n",
       "A000367      283904.27\n",
       "A000369      287807.81\n",
       "A000370      246273.94\n",
       "A000371      257840.80"
      ]
     },
     "execution_count": 46,
     "metadata": {},
     "output_type": "execute_result"
    }
   ],
   "source": [
    "groupby_rep = rep_df.groupby(['BIOGUIDE_ID']).sum()\n",
    "groupby_rep.head()"
   ]
  },
  {
   "cell_type": "code",
   "execution_count": 52,
   "metadata": {},
   "outputs": [
    {
     "data": {
      "text/html": [
       "<div>\n",
       "<style>\n",
       "    .dataframe thead tr:only-child th {\n",
       "        text-align: right;\n",
       "    }\n",
       "\n",
       "    .dataframe thead th {\n",
       "        text-align: left;\n",
       "    }\n",
       "\n",
       "    .dataframe tbody tr th {\n",
       "        vertical-align: top;\n",
       "    }\n",
       "</style>\n",
       "<table border=\"1\" class=\"dataframe\">\n",
       "  <thead>\n",
       "    <tr style=\"text-align: right;\">\n",
       "      <th></th>\n",
       "      <th></th>\n",
       "      <th>AMOUNT</th>\n",
       "    </tr>\n",
       "    <tr>\n",
       "      <th>BIOGUIDE_ID</th>\n",
       "      <th>PAYEE</th>\n",
       "      <th></th>\n",
       "    </tr>\n",
       "  </thead>\n",
       "  <tbody>\n",
       "    <tr>\n",
       "      <th rowspan=\"3\" valign=\"top\">A000055</th>\n",
       "      <th>ABERNATHY PAMELA M.</th>\n",
       "      <td>17354.40</td>\n",
       "    </tr>\n",
       "    <tr>\n",
       "      <th>CLARK CARSON G</th>\n",
       "      <td>17874.99</td>\n",
       "    </tr>\n",
       "    <tr>\n",
       "      <th>DAWSON MARK E.</th>\n",
       "      <td>6000.00</td>\n",
       "    </tr>\n",
       "  </tbody>\n",
       "</table>\n",
       "</div>"
      ],
      "text/plain": [
       "                                   AMOUNT\n",
       "BIOGUIDE_ID PAYEE                        \n",
       "A000055     ABERNATHY PAMELA M.  17354.40\n",
       "            CLARK CARSON G       17874.99\n",
       "            DAWSON MARK E.        6000.00"
      ]
     },
     "execution_count": 52,
     "metadata": {},
     "output_type": "execute_result"
    }
   ],
   "source": [
    "groupby_rep_payee = rep_df.groupby(['BIOGUIDE_ID', 'PAYEE']).sum()\n",
    "groupby_rep_payee.head(3)"
   ]
  },
  {
   "cell_type": "code",
   "execution_count": 55,
   "metadata": {},
   "outputs": [
    {
     "data": {
      "text/html": [
       "<div>\n",
       "<style>\n",
       "    .dataframe thead tr:only-child th {\n",
       "        text-align: right;\n",
       "    }\n",
       "\n",
       "    .dataframe thead th {\n",
       "        text-align: left;\n",
       "    }\n",
       "\n",
       "    .dataframe tbody tr th {\n",
       "        vertical-align: top;\n",
       "    }\n",
       "</style>\n",
       "<table border=\"1\" class=\"dataframe\">\n",
       "  <thead>\n",
       "    <tr style=\"text-align: right;\">\n",
       "      <th></th>\n",
       "      <th>AMOUNT</th>\n",
       "    </tr>\n",
       "    <tr>\n",
       "      <th>BIOGUIDE_ID</th>\n",
       "      <th></th>\n",
       "    </tr>\n",
       "  </thead>\n",
       "  <tbody>\n",
       "    <tr>\n",
       "      <th>A000055</th>\n",
       "      <td>278080.62</td>\n",
       "    </tr>\n",
       "    <tr>\n",
       "      <th>A000367</th>\n",
       "      <td>283904.27</td>\n",
       "    </tr>\n",
       "    <tr>\n",
       "      <th>A000369</th>\n",
       "      <td>287807.81</td>\n",
       "    </tr>\n",
       "    <tr>\n",
       "      <th>A000370</th>\n",
       "      <td>246273.94</td>\n",
       "    </tr>\n",
       "    <tr>\n",
       "      <th>A000371</th>\n",
       "      <td>257840.80</td>\n",
       "    </tr>\n",
       "  </tbody>\n",
       "</table>\n",
       "</div>"
      ],
      "text/plain": [
       "                AMOUNT\n",
       "BIOGUIDE_ID           \n",
       "A000055      278080.62\n",
       "A000367      283904.27\n",
       "A000369      287807.81\n",
       "A000370      246273.94\n",
       "A000371      257840.80"
      ]
     },
     "execution_count": 55,
     "metadata": {},
     "output_type": "execute_result"
    }
   ],
   "source": [
    "groupby_rep_sum = rep_df.groupby(['BIOGUIDE_ID']).sum()\n",
    "groupby_rep_sum.head()"
   ]
  },
  {
   "cell_type": "code",
   "execution_count": 67,
   "metadata": {},
   "outputs": [
    {
     "data": {
      "text/html": [
       "<div>\n",
       "<style>\n",
       "    .dataframe thead tr:only-child th {\n",
       "        text-align: right;\n",
       "    }\n",
       "\n",
       "    .dataframe thead th {\n",
       "        text-align: left;\n",
       "    }\n",
       "\n",
       "    .dataframe tbody tr th {\n",
       "        vertical-align: top;\n",
       "    }\n",
       "</style>\n",
       "<table border=\"1\" class=\"dataframe\">\n",
       "  <thead>\n",
       "    <tr style=\"text-align: right;\">\n",
       "      <th></th>\n",
       "      <th>AMOUNT</th>\n",
       "      <th>PAYEE_COUNT</th>\n",
       "    </tr>\n",
       "    <tr>\n",
       "      <th>BIOGUIDE_ID</th>\n",
       "      <th></th>\n",
       "      <th></th>\n",
       "    </tr>\n",
       "  </thead>\n",
       "  <tbody>\n",
       "    <tr>\n",
       "      <th>A000055</th>\n",
       "      <td>278080.62</td>\n",
       "      <td>22</td>\n",
       "    </tr>\n",
       "    <tr>\n",
       "      <th>A000367</th>\n",
       "      <td>283904.27</td>\n",
       "      <td>33</td>\n",
       "    </tr>\n",
       "    <tr>\n",
       "      <th>A000369</th>\n",
       "      <td>287807.81</td>\n",
       "      <td>36</td>\n",
       "    </tr>\n",
       "    <tr>\n",
       "      <th>A000370</th>\n",
       "      <td>246273.94</td>\n",
       "      <td>23</td>\n",
       "    </tr>\n",
       "    <tr>\n",
       "      <th>A000371</th>\n",
       "      <td>257840.80</td>\n",
       "      <td>33</td>\n",
       "    </tr>\n",
       "  </tbody>\n",
       "</table>\n",
       "</div>"
      ],
      "text/plain": [
       "                AMOUNT  PAYEE_COUNT\n",
       "BIOGUIDE_ID                        \n",
       "A000055      278080.62           22\n",
       "A000367      283904.27           33\n",
       "A000369      287807.81           36\n",
       "A000370      246273.94           23\n",
       "A000371      257840.80           33"
      ]
     },
     "execution_count": 67,
     "metadata": {},
     "output_type": "execute_result"
    }
   ],
   "source": [
    "groupby_rep_sum['PAYEE_COUNT'] = rep_df.groupby('BIOGUIDE_ID')['PAYEE'].nunique()\n",
    "groupby_rep_sum.head()"
   ]
  },
  {
   "cell_type": "code",
   "execution_count": 77,
   "metadata": {},
   "outputs": [
    {
     "data": {
      "text/html": [
       "<div>\n",
       "<style>\n",
       "    .dataframe thead tr:only-child th {\n",
       "        text-align: right;\n",
       "    }\n",
       "\n",
       "    .dataframe thead th {\n",
       "        text-align: left;\n",
       "    }\n",
       "\n",
       "    .dataframe tbody tr th {\n",
       "        vertical-align: top;\n",
       "    }\n",
       "</style>\n",
       "<table border=\"1\" class=\"dataframe\">\n",
       "  <thead>\n",
       "    <tr style=\"text-align: right;\">\n",
       "      <th></th>\n",
       "      <th>AMOUNT</th>\n",
       "      <th>PAYEE_COUNT</th>\n",
       "      <th>AVG SALARY</th>\n",
       "    </tr>\n",
       "    <tr>\n",
       "      <th>BIOGUIDE_ID</th>\n",
       "      <th></th>\n",
       "      <th></th>\n",
       "      <th></th>\n",
       "    </tr>\n",
       "  </thead>\n",
       "  <tbody>\n",
       "    <tr>\n",
       "      <th>B001278</th>\n",
       "      <td>367105.55</td>\n",
       "      <td>21</td>\n",
       "      <td>17481.216667</td>\n",
       "    </tr>\n",
       "    <tr>\n",
       "      <th>D000626</th>\n",
       "      <td>231240.00</td>\n",
       "      <td>15</td>\n",
       "      <td>15416.000000</td>\n",
       "    </tr>\n",
       "    <tr>\n",
       "      <th>E000215</th>\n",
       "      <td>224578.49</td>\n",
       "      <td>15</td>\n",
       "      <td>14971.899333</td>\n",
       "    </tr>\n",
       "    <tr>\n",
       "      <th>H001070</th>\n",
       "      <td>267979.13</td>\n",
       "      <td>19</td>\n",
       "      <td>14104.164737</td>\n",
       "    </tr>\n",
       "    <tr>\n",
       "      <th>H001059</th>\n",
       "      <td>224223.08</td>\n",
       "      <td>16</td>\n",
       "      <td>14013.942500</td>\n",
       "    </tr>\n",
       "  </tbody>\n",
       "</table>\n",
       "</div>"
      ],
      "text/plain": [
       "                AMOUNT  PAYEE_COUNT    AVG SALARY\n",
       "BIOGUIDE_ID                                      \n",
       "B001278      367105.55           21  17481.216667\n",
       "D000626      231240.00           15  15416.000000\n",
       "E000215      224578.49           15  14971.899333\n",
       "H001070      267979.13           19  14104.164737\n",
       "H001059      224223.08           16  14013.942500"
      ]
     },
     "execution_count": 77,
     "metadata": {},
     "output_type": "execute_result"
    }
   ],
   "source": [
    "groupby_rep_sum['AVG SALARY'] = groupby_rep_sum['AMOUNT']/groupby_rep_sum['PAYEE_COUNT']\n",
    "groupby_rep_sum.sort_values(by='AVG SALARY', ascending = False).head()"
   ]
  },
  {
   "cell_type": "markdown",
   "metadata": {},
   "source": [
    "Highest Average Staff Salary is $17,481.22"
   ]
  },
  {
   "cell_type": "code",
   "execution_count": null,
   "metadata": {},
   "outputs": [],
   "source": []
  }
 ],
 "metadata": {
  "kernelspec": {
   "display_name": "Python 3",
   "language": "python",
   "name": "python3"
  },
  "language_info": {
   "codemirror_mode": {
    "name": "ipython",
    "version": 3
   },
   "file_extension": ".py",
   "mimetype": "text/x-python",
   "name": "python",
   "nbconvert_exporter": "python",
   "pygments_lexer": "ipython3",
   "version": "3.6.5"
  }
 },
 "nbformat": 4,
 "nbformat_minor": 2
}
