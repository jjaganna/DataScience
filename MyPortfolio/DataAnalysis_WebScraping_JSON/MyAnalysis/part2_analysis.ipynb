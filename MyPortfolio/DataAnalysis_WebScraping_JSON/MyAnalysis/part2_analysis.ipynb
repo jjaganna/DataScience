{
 "cells": [
  {
   "cell_type": "markdown",
   "metadata": {},
   "source": [
    "## Calculation of stddev of COVERAGE PERIOD"
   ]
  },
  {
   "cell_type": "code",
   "execution_count": 1,
   "metadata": {},
   "outputs": [],
   "source": [
    "import numpy as np\n",
    "import pandas as pd"
   ]
  },
  {
   "cell_type": "markdown",
   "metadata": {},
   "source": [
    "Read all the *detail.csv.  \n",
    "Renamed \"2015Q2-house-disburse-detail.csv\" to \n",
    "\"2015Q2-house-disburse-detail-old.csv\"\n",
    "Then renamed \"2015Q2-house-disburse-detail-updated.csv\" to \n",
    "\"2015Q2-house-disburse-detail.csv\".\n",
    "Then redirected all the filenames to \"filename.txt\" \n",
    "using the command:  ls  *detail.csv > filename.txt"
   ]
  },
  {
   "cell_type": "code",
   "execution_count": 2,
   "metadata": {},
   "outputs": [
    {
     "name": "stdout",
     "output_type": "stream",
     "text": [
      "['2009Q3-house-disburse-detail.csv', '2009Q4-house-disburse-detail.csv', '2010Q1-house-disburse-detail.csv', '2010Q2-house-disburse-detail.csv', '2010Q3-house-disburse-detail.csv', '2010Q4-house-disburse-detail.csv', '2011Q1-house-disburse-detail.csv', '2011Q2-house-disburse-detail.csv', '2011Q3-house-disburse-detail.csv', '2011Q4-house-disburse-detail.csv', '2012Q1-house-disburse-detail.csv', '2012Q2-house-disburse-detail.csv', '2012Q3-house-disburse-detail.csv', '2012Q4-house-disburse-detail.csv', '2013Q1-house-disburse-detail.csv', '2013Q2-house-disburse-detail.csv', '2013Q3-house-disburse-detail.csv', '2013Q4-house-disburse-detail.csv', '2014Q1-house-disburse-detail.csv', '2014Q2-house-disburse-detail.csv', '2014Q3-house-disburse-detail.csv', '2014Q4-house-disburse-detail.csv', '2015Q1-house-disburse-detail.csv', '2015Q2-house-disburse-detail.csv', '2015Q3-house-disburse-detail.csv', '2015Q4-house-disburse-detail.csv', '2016Q1-house-disburse-detail.csv', '2016Q2-house-disburse-detail.csv', '2016Q3-house-disburse-detail.csv', '2016Q4-house-disburse-detail.csv', '2017Q1-house-disburse-detail.csv', '2017Q2-house-disburse-detail.csv', '2017Q3-house-disburse-detail.csv', '2017Q4-house-disburse-detail.csv', '2018Q1-house-disburse-detail.csv']\n"
     ]
    }
   ],
   "source": [
    "# Create a list of filename called file_list\n",
    "# Strip '\\n' at the end of the filename\n",
    "#Ref: https://stackoverflow.com/questions/42488579/\n",
    "#remove-n-from-each-string-stored-in-a-python-list\n",
    "\n",
    "file_list = []\n",
    "with open('filename.txt', 'r', encoding='utf-8') as myfile:\n",
    "    for line in myfile:\n",
    "        st_line = line.rstrip()\n",
    "        file_list.append(st_line)\n",
    "print(file_list)"
   ]
  },
  {
   "cell_type": "code",
   "execution_count": 3,
   "metadata": {},
   "outputs": [
    {
     "data": {
      "text/html": [
       "<div>\n",
       "<style>\n",
       "    .dataframe thead tr:only-child th {\n",
       "        text-align: right;\n",
       "    }\n",
       "\n",
       "    .dataframe thead th {\n",
       "        text-align: left;\n",
       "    }\n",
       "\n",
       "    .dataframe tbody tr th {\n",
       "        vertical-align: top;\n",
       "    }\n",
       "</style>\n",
       "<table border=\"1\" class=\"dataframe\">\n",
       "  <thead>\n",
       "    <tr style=\"text-align: right;\">\n",
       "      <th></th>\n",
       "      <th>BIOGUIDE_ID</th>\n",
       "      <th>OFFICE</th>\n",
       "      <th>QUARTER</th>\n",
       "      <th>CATEGORY</th>\n",
       "      <th>DATE</th>\n",
       "      <th>PAYEE</th>\n",
       "      <th>START DATE</th>\n",
       "      <th>END DATE</th>\n",
       "      <th>PURPOSE</th>\n",
       "      <th>AMOUNT</th>\n",
       "      <th>YEAR</th>\n",
       "      <th>TRANSCODE</th>\n",
       "      <th>TRANSCODELONG</th>\n",
       "      <th>RECORDID</th>\n",
       "      <th>RECIP (orig.)</th>\n",
       "    </tr>\n",
       "  </thead>\n",
       "  <tbody>\n",
       "    <tr>\n",
       "      <th>3</th>\n",
       "      <td>NaN</td>\n",
       "      <td>COMMUNICATIONS</td>\n",
       "      <td>2009Q3</td>\n",
       "      <td>OTHER SERVICES</td>\n",
       "      <td>NaN</td>\n",
       "      <td>08Â­25   P2 MFP0003163                     AVAYA</td>\n",
       "      <td>05/29/09</td>\n",
       "      <td>05/29/09</td>\n",
       "      <td>NON-TECHNOLOGY SERVICE CONTRCT</td>\n",
       "      <td>888.00</td>\n",
       "      <td>FISCAL YEAR 2009</td>\n",
       "      <td>NaN</td>\n",
       "      <td>NaN</td>\n",
       "      <td>NaN</td>\n",
       "      <td>08Â­25   P2 MFP0003163                     AVAYA</td>\n",
       "    </tr>\n",
       "    <tr>\n",
       "      <th>4</th>\n",
       "      <td>NaN</td>\n",
       "      <td>COMMUNICATIONS</td>\n",
       "      <td>2009Q3</td>\n",
       "      <td>OTHER SERVICES</td>\n",
       "      <td>NaN</td>\n",
       "      <td>09Â­10   P2 OPR0900726C                    STR...</td>\n",
       "      <td>10/04/06</td>\n",
       "      <td>10/04/06</td>\n",
       "      <td>NON-TECHNOLOGY SERVICE CONTRCT</td>\n",
       "      <td>590.18</td>\n",
       "      <td>FISCAL YEAR 2009</td>\n",
       "      <td>NaN</td>\n",
       "      <td>NaN</td>\n",
       "      <td>NaN</td>\n",
       "      <td>09Â­10   P2 OPR0900726C                    STR...</td>\n",
       "    </tr>\n",
       "    <tr>\n",
       "      <th>5</th>\n",
       "      <td>NaN</td>\n",
       "      <td>COMMUNICATIONS</td>\n",
       "      <td>2009Q3</td>\n",
       "      <td>OTHER SERVICES</td>\n",
       "      <td>NaN</td>\n",
       "      <td>09Â­10   P2 OPR0900726C                       ...</td>\n",
       "      <td>10/04/06</td>\n",
       "      <td>10/04/06</td>\n",
       "      <td>NON-TECHNOLOGY SERVICE CONTRCT</td>\n",
       "      <td>590.18</td>\n",
       "      <td>FISCAL YEAR 2009</td>\n",
       "      <td>NaN</td>\n",
       "      <td>NaN</td>\n",
       "      <td>NaN</td>\n",
       "      <td>09Â­10   P2 OPR0900726C                       ...</td>\n",
       "    </tr>\n",
       "    <tr>\n",
       "      <th>7</th>\n",
       "      <td>NaN</td>\n",
       "      <td>COMMUNICATIONS</td>\n",
       "      <td>2009Q3</td>\n",
       "      <td>SUPPLIES AND MATERIALS</td>\n",
       "      <td>NaN</td>\n",
       "      <td>07Â­31   S1 DY090700018</td>\n",
       "      <td>07/01/09</td>\n",
       "      <td>07/31/09</td>\n",
       "      <td>OFFICE SUPPLY (TRANSFER)</td>\n",
       "      <td>179.87</td>\n",
       "      <td>FISCAL YEAR 2009</td>\n",
       "      <td>NaN</td>\n",
       "      <td>NaN</td>\n",
       "      <td>NaN</td>\n",
       "      <td>07Â­31   S1 DY090700018</td>\n",
       "    </tr>\n",
       "    <tr>\n",
       "      <th>8</th>\n",
       "      <td>NaN</td>\n",
       "      <td>COMMUNICATIONS</td>\n",
       "      <td>2009Q3</td>\n",
       "      <td>SUPPLIES AND MATERIALS</td>\n",
       "      <td>NaN</td>\n",
       "      <td>08Â­31   S1 DY090800017</td>\n",
       "      <td>08/01/09</td>\n",
       "      <td>08/31/09</td>\n",
       "      <td>OFFICE SUPPLY (TRANSFER)</td>\n",
       "      <td>184.45</td>\n",
       "      <td>FISCAL YEAR 2009</td>\n",
       "      <td>NaN</td>\n",
       "      <td>NaN</td>\n",
       "      <td>NaN</td>\n",
       "      <td>08Â­31   S1 DY090800017</td>\n",
       "    </tr>\n",
       "  </tbody>\n",
       "</table>\n",
       "</div>"
      ],
      "text/plain": [
       "  BIOGUIDE_ID          OFFICE QUARTER                CATEGORY  DATE  \\\n",
       "3         NaN  COMMUNICATIONS  2009Q3          OTHER SERVICES   NaN   \n",
       "4         NaN  COMMUNICATIONS  2009Q3          OTHER SERVICES   NaN   \n",
       "5         NaN  COMMUNICATIONS  2009Q3          OTHER SERVICES   NaN   \n",
       "7         NaN  COMMUNICATIONS  2009Q3  SUPPLIES AND MATERIALS   NaN   \n",
       "8         NaN  COMMUNICATIONS  2009Q3  SUPPLIES AND MATERIALS   NaN   \n",
       "\n",
       "                                               PAYEE START DATE  END DATE  \\\n",
       "3   08Â­25   P2 MFP0003163                     AVAYA   05/29/09  05/29/09   \n",
       "4  09Â­10   P2 OPR0900726C                    STR...   10/04/06  10/04/06   \n",
       "5  09Â­10   P2 OPR0900726C                       ...   10/04/06  10/04/06   \n",
       "7                            07Â­31   S1 DY090700018   07/01/09  07/31/09   \n",
       "8                            08Â­31   S1 DY090800017   08/01/09  08/31/09   \n",
       "\n",
       "                          PURPOSE  AMOUNT              YEAR  TRANSCODE  \\\n",
       "3  NON-TECHNOLOGY SERVICE CONTRCT  888.00  FISCAL YEAR 2009        NaN   \n",
       "4  NON-TECHNOLOGY SERVICE CONTRCT  590.18  FISCAL YEAR 2009        NaN   \n",
       "5  NON-TECHNOLOGY SERVICE CONTRCT  590.18  FISCAL YEAR 2009        NaN   \n",
       "7        OFFICE SUPPLY (TRANSFER)  179.87  FISCAL YEAR 2009        NaN   \n",
       "8        OFFICE SUPPLY (TRANSFER)  184.45  FISCAL YEAR 2009        NaN   \n",
       "\n",
       "   TRANSCODELONG  RECORDID                                      RECIP (orig.)  \n",
       "3            NaN       NaN   08Â­25   P2 MFP0003163                     AVAYA  \n",
       "4            NaN       NaN  09Â­10   P2 OPR0900726C                    STR...  \n",
       "5            NaN       NaN  09Â­10   P2 OPR0900726C                       ...  \n",
       "7            NaN       NaN                            07Â­31   S1 DY090700018  \n",
       "8            NaN       NaN                            08Â­31   S1 DY090800017  "
      ]
     },
     "execution_count": 3,
     "metadata": {},
     "output_type": "execute_result"
    }
   ],
   "source": [
    "#Try for first file\n",
    "df = pd.read_csv('2009Q3-house-disburse-detail.csv', sep=',', engine = 'python')\n",
    "\n",
    "df['AMOUNT'] = df['AMOUNT'].apply(pd.to_numeric, errors='coerce') \n",
    "df = df[df['AMOUNT'] > 0]\n",
    "df.head()\n",
    "    "
   ]
  },
  {
   "cell_type": "code",
   "execution_count": 4,
   "metadata": {},
   "outputs": [
    {
     "data": {
      "text/plain": [
       "Index(['BIOGUIDE_ID', 'OFFICE', 'QUARTER', 'CATEGORY', 'DATE', 'PAYEE',\n",
       "       'START DATE', 'END DATE', 'PURPOSE', 'AMOUNT', 'YEAR', 'TRANSCODE',\n",
       "       'TRANSCODELONG', 'RECORDID', 'RECIP (orig.)'],\n",
       "      dtype='object')"
      ]
     },
     "execution_count": 4,
     "metadata": {},
     "output_type": "execute_result"
    }
   ],
   "source": [
    "df.columns"
   ]
  },
  {
   "cell_type": "code",
   "execution_count": 5,
   "metadata": {},
   "outputs": [
    {
     "data": {
      "text/plain": [
       "str"
      ]
     },
     "execution_count": 5,
     "metadata": {},
     "output_type": "execute_result"
    }
   ],
   "source": [
    "type(df['START DATE'][3])"
   ]
  },
  {
   "cell_type": "code",
   "execution_count": 6,
   "metadata": {},
   "outputs": [
    {
     "data": {
      "text/plain": [
       "str"
      ]
     },
     "execution_count": 6,
     "metadata": {},
     "output_type": "execute_result"
    }
   ],
   "source": [
    "type(df['END DATE'][3])"
   ]
  },
  {
   "cell_type": "code",
   "execution_count": 7,
   "metadata": {},
   "outputs": [
    {
     "name": "stdout",
     "output_type": "stream",
     "text": [
      "97921\n"
     ]
    }
   ],
   "source": [
    "from datetime import datetime\n",
    "df['COVERAGE PERIOD'] = pd.to_datetime(df['END DATE']) - pd.to_datetime(df['START DATE'])\n",
    "df['COVERAGE PERIOD'].head()\n",
    "num_rows = df['COVERAGE PERIOD'].count()\n",
    "print(num_rows)"
   ]
  },
  {
   "cell_type": "code",
   "execution_count": 8,
   "metadata": {},
   "outputs": [
    {
     "data": {
      "text/plain": [
       "Timedelta('20 days 21:39:53.909375')"
      ]
     },
     "execution_count": 8,
     "metadata": {},
     "output_type": "execute_result"
    }
   ],
   "source": [
    "df['COVERAGE PERIOD'].mean()"
   ]
  },
  {
   "cell_type": "code",
   "execution_count": 9,
   "metadata": {},
   "outputs": [
    {
     "name": "stdout",
     "output_type": "stream",
     "text": [
      "51 days 11:15:38.422354\n"
     ]
    }
   ],
   "source": [
    "std_dev = df['COVERAGE PERIOD'].std()\n",
    "print(std_dev)"
   ]
  },
  {
   "cell_type": "code",
   "execution_count": 10,
   "metadata": {},
   "outputs": [
    {
     "name": "stdout",
     "output_type": "stream",
     "text": [
      "51.0\n"
     ]
    }
   ],
   "source": [
    "sdev = float(str(std_dev).split()[0])\n",
    "print(sdev)"
   ]
  },
  {
   "cell_type": "code",
   "execution_count": 11,
   "metadata": {},
   "outputs": [
    {
     "data": {
      "text/plain": [
       "float"
      ]
     },
     "execution_count": 11,
     "metadata": {},
     "output_type": "execute_result"
    }
   ],
   "source": [
    "type(sdev)"
   ]
  },
  {
   "cell_type": "code",
   "execution_count": 12,
   "metadata": {},
   "outputs": [],
   "source": [
    "#Now start processing all files\n",
    "\n",
    "stddev_list = []\n",
    "count_rows_list = []\n",
    "for file in file_list[0:31]:\n",
    "    df = pd.read_csv(file, low_memory=False)\n",
    "    df['AMOUNT'] = df['AMOUNT'].apply(pd.to_numeric, errors='coerce') \n",
    "    df = df[df['AMOUNT'] > 0]\n",
    "    df['COVERAGE PERIOD'] = pd.to_datetime(df['END DATE']) - pd.to_datetime(df['START DATE'])\n",
    "    df['COVERAGE PERIOD'].head()\n",
    "    num_rows = df['COVERAGE PERIOD'].count()\n",
    "    std_dev = df['COVERAGE PERIOD'].std()\n",
    "    sdev = float(str(std_dev).split()[0])\n",
    "    stddev_list.append(sdev)\n",
    "    count_rows_list.append(num_rows)"
   ]
  },
  {
   "cell_type": "code",
   "execution_count": 13,
   "metadata": {},
   "outputs": [
    {
     "name": "stdout",
     "output_type": "stream",
     "text": [
      "[51.0, 54.0, 62.0, 55.0, 49.0, 61.0, 72.0, 55.0, 83.0, 53.0, 64.0, 48.0, 47.0, 63.0, 83.0, 55.0, 44.0, 55.0, 61.0, 47.0, 50.0, 59.0, 69.0, 47.0, 67.0, 47.0, 46.0, 50.0, 41.0, 72.0, 71.0]\n",
      "[97921, 90880, 105953, 99111, 53019, 74561, 89867, 84987, 79959, 76252, 90660, 77859, 69043, 66164, 80609, 71774, 72977, 64777, 76593, 71041, 67134, 67256, 76788, 71419, 67947, 70847, 78037, 75425, 69490, 87786, 99822]\n"
     ]
    }
   ],
   "source": [
    "print(stddev_list)\n",
    "print(count_rows_list)"
   ]
  },
  {
   "cell_type": "code",
   "execution_count": 14,
   "metadata": {},
   "outputs": [
    {
     "name": "stdout",
     "output_type": "stream",
     "text": [
      "31\n",
      "31\n"
     ]
    }
   ],
   "source": [
    "print(len(stddev_list))\n",
    "print(len(count_rows_list))"
   ]
  },
  {
   "cell_type": "code",
   "execution_count": 15,
   "metadata": {},
   "outputs": [
    {
     "name": "stdout",
     "output_type": "stream",
     "text": [
      "  BIOGUIDE_ID                      OFFICE QUARTER               PROGRAM  \\\n",
      "0         NaN  2017 OFFICE OF THE SPEAKER  2017Q2  GENERAL EXPENDITURES   \n",
      "1         NaN  2017 OFFICE OF THE SPEAKER  2017Q2  GENERAL EXPENDITURES   \n",
      "2         NaN  2017 OFFICE OF THE SPEAKER  2017Q2  GENERAL EXPENDITURES   \n",
      "3         NaN  2017 OFFICE OF THE SPEAKER  2017Q2  GENERAL EXPENDITURES   \n",
      "4         NaN  2017 OFFICE OF THE SPEAKER  2017Q2  GENERAL EXPENDITURES   \n",
      "\n",
      "                 CATEGORY SORT SEQUENCE DATE TRANSCODE                PAYEE  \\\n",
      "0  PERSONNEL COMPENSATION                                 ALTHOUSE JOSHUA S   \n",
      "1  PERSONNEL COMPENSATION                                  ANDRES DOUGLAS R   \n",
      "2  PERSONNEL COMPENSATION                                  ANDREWS THOMAS S   \n",
      "3  PERSONNEL COMPENSATION                                   ANTELL GEOFFREY   \n",
      "4  PERSONNEL COMPENSATION                               BENJAMIN WILLIAM C.   \n",
      "\n",
      "  START DATE END DATE                         PURPOSE    AMOUNT  YEAR  \\\n",
      "0     4/1/17  6/30/17  CONSERVATIVE OUTREACH DIRECTOR  20000.01  2017   \n",
      "1     4/1/17  6/30/17                 PRESS SECRETARY  27500.01  2017   \n",
      "2     4/1/17  6/30/17        MEMBER SERVICES DIRECTOR  32500.00  2017   \n",
      "3     4/1/17  6/30/17  ASST TO THE SPEAKER FOR POLICY  41250.00  2017   \n",
      "4     4/1/17  6/30/17            SYSTEM ADMINISTRATOR  13250.01  2017   \n",
      "\n",
      "   RECORDID COVERAGE PERIOD  \n",
      "0       NaN        177 days  \n",
      "1       NaN        177 days  \n",
      "2       NaN        177 days  \n",
      "3       NaN        177 days  \n",
      "4       NaN        177 days  \n",
      "0   177 days\n",
      "1   177 days\n",
      "2   177 days\n",
      "3   177 days\n",
      "4   177 days\n",
      "Name: COVERAGE PERIOD, dtype: timedelta64[ns]\n",
      "[51.0, 54.0, 62.0, 55.0, 49.0, 61.0, 72.0, 55.0, 83.0, 53.0, 64.0, 48.0, 47.0, 63.0, 83.0, 55.0, 44.0, 55.0, 61.0, 47.0, 50.0, 59.0, 69.0, 47.0, 67.0, 47.0, 46.0, 50.0, 41.0, 72.0, 71.0, 93.0]\n",
      "[97921, 90880, 105953, 99111, 53019, 74561, 89867, 84987, 79959, 76252, 90660, 77859, 69043, 66164, 80609, 71774, 72977, 64777, 76593, 71041, 67134, 67256, 76788, 71419, 67947, 70847, 78037, 75425, 69490, 87786, 99822, 95431]\n",
      "32\n",
      "32\n"
     ]
    }
   ],
   "source": [
    "df = pd.read_csv('2017Q2-house-disburse-detail.csv', sep=',', engine = 'python')\n",
    "df.columns = ['BIOGUIDE_ID', 'OFFICE', 'QUARTER', 'PROGRAM', 'CATEGORY',\n",
    "       'SORT SEQUENCE', 'DATE', 'TRANSCODE', 'PAYEE', 'START DATE',\n",
    "       'END DATE', 'PURPOSE', 'AMOUNT', 'YEAR', 'RECORDID']\n",
    "df['AMOUNT'] = df['AMOUNT'].apply(pd.to_numeric, errors='coerce') \n",
    "df = df[df['AMOUNT'] > 0]  # Make sure payment is positive\n",
    "#print(df['START DATE'].head())\n",
    "#print(\"\\n\")\n",
    "#print(df['END DATE'].head())\n",
    "df['COVERAGE PERIOD'] = pd.to_datetime(df['END DATE'], dayfirst = True, errors = 'coerce') - pd.to_datetime(\n",
    "    df['START DATE'], dayfirst = True, errors='coerce')\n",
    "print(df.head())\n",
    "df = df[df['COVERAGE PERIOD'].notnull()]\n",
    "print(df['COVERAGE PERIOD'].head())\n",
    "num_rows = df['COVERAGE PERIOD'].count()\n",
    "std_dev = df['COVERAGE PERIOD'].std()\n",
    "sdev = str(std_dev).split()[0]\n",
    "#print(sdev)\n",
    "stddev_list.append(float(sdev))\n",
    "count_rows_list.append(num_rows)\n",
    "    \n",
    "print(stddev_list)\n",
    "print(count_rows_list)\n",
    "print(len(stddev_list))\n",
    "print(len(count_rows_list))\n"
   ]
  },
  {
   "cell_type": "code",
   "execution_count": 16,
   "metadata": {},
   "outputs": [
    {
     "name": "stdout",
     "output_type": "stream",
     "text": [
      "sdev =  93.0\n",
      "num_rows =  94826\n"
     ]
    }
   ],
   "source": [
    "for file in file_list[32:33 ]:\n",
    "    df = pd.read_csv(file, sep=',', engine = 'python')\n",
    "    #print(df.head())\n",
    "    #print(df.describe())\n",
    "    df['AMOUNT'] = df['AMOUNT'].apply(pd.to_numeric, errors='coerce') \n",
    "    df = df[df['AMOUNT'] > 0]\n",
    "    df['COVERAGE PERIOD'] = pd.to_datetime(df['END DATE'], dayfirst = True, errors = 'coerce') - pd.to_datetime(\n",
    "    df['START DATE'], dayfirst = True, errors='coerce')\n",
    "    #df['COVERAGE PERIOD'].head()\n",
    "    num_rows = df['COVERAGE PERIOD'].count()\n",
    "    #std_dev = df['COVERAGE PERIOD'].std()\n",
    "    sdev = float(str(std_dev).split()[0])\n",
    "    print(\"sdev = \", sdev)\n",
    "    print(\"num_rows = \", num_rows)\n",
    "    stddev_list.append(sdev)\n",
    "    count_rows_list.append(num_rows)"
   ]
  },
  {
   "cell_type": "code",
   "execution_count": 17,
   "metadata": {},
   "outputs": [
    {
     "name": "stdout",
     "output_type": "stream",
     "text": [
      "[51.0, 54.0, 62.0, 55.0, 49.0, 61.0, 72.0, 55.0, 83.0, 53.0, 64.0, 48.0, 47.0, 63.0, 83.0, 55.0, 44.0, 55.0, 61.0, 47.0, 50.0, 59.0, 69.0, 47.0, 67.0, 47.0, 46.0, 50.0, 41.0, 72.0, 71.0, 93.0, 93.0]\n",
      "[97921, 90880, 105953, 99111, 53019, 74561, 89867, 84987, 79959, 76252, 90660, 77859, 69043, 66164, 80609, 71774, 72977, 64777, 76593, 71041, 67134, 67256, 76788, 71419, 67947, 70847, 78037, 75425, 69490, 87786, 99822, 95431, 94826]\n",
      "33\n",
      "33\n"
     ]
    }
   ],
   "source": [
    "print(stddev_list)\n",
    "print(count_rows_list)\n",
    "print(len(stddev_list))\n",
    "print(len(count_rows_list))\n",
    "\n"
   ]
  },
  {
   "cell_type": "code",
   "execution_count": 18,
   "metadata": {},
   "outputs": [
    {
     "name": "stdout",
     "output_type": "stream",
     "text": [
      "sdev =  93.0\n",
      "num_rows =  91104\n",
      "sdev =  93.0\n",
      "num_rows =  68421\n"
     ]
    }
   ],
   "source": [
    "for file in file_list[33: ]:\n",
    "    df = pd.read_csv(file, sep=',', engine = 'python')\n",
    "    #print(df.head())\n",
    "    #print(df.describe())\n",
    "    df['AMOUNT'] = df['AMOUNT'].apply(pd.to_numeric, errors='coerce') \n",
    "    df = df[df['AMOUNT'] > 0]\n",
    "    df['COVERAGE PERIOD'] = pd.to_datetime(df['END DATE'], dayfirst = True, errors = 'coerce') - pd.to_datetime(\n",
    "    df['START DATE'], dayfirst = True, errors='coerce')\n",
    "    #df['COVERAGE PERIOD'].head()\n",
    "    num_rows = df['COVERAGE PERIOD'].count()\n",
    "    #std_dev = df['COVERAGE PERIOD'].std()\n",
    "    sdev = float(str(std_dev).split()[0])\n",
    "    print(\"sdev = \", sdev)\n",
    "    print(\"num_rows = \", num_rows)\n",
    "    stddev_list.append(sdev)\n",
    "    count_rows_list.append(num_rows)"
   ]
  },
  {
   "cell_type": "code",
   "execution_count": 19,
   "metadata": {},
   "outputs": [
    {
     "name": "stdout",
     "output_type": "stream",
     "text": [
      "[51.0, 54.0, 62.0, 55.0, 49.0, 61.0, 72.0, 55.0, 83.0, 53.0, 64.0, 48.0, 47.0, 63.0, 83.0, 55.0, 44.0, 55.0, 61.0, 47.0, 50.0, 59.0, 69.0, 47.0, 67.0, 47.0, 46.0, 50.0, 41.0, 72.0, 71.0, 93.0, 93.0, 93.0, 93.0]\n",
      "[97921, 90880, 105953, 99111, 53019, 74561, 89867, 84987, 79959, 76252, 90660, 77859, 69043, 66164, 80609, 71774, 72977, 64777, 76593, 71041, 67134, 67256, 76788, 71419, 67947, 70847, 78037, 75425, 69490, 87786, 99822, 95431, 94826, 91104, 68421]\n",
      "35\n",
      "35\n"
     ]
    }
   ],
   "source": [
    "print(stddev_list)\n",
    "print(count_rows_list)\n",
    "print(len(stddev_list))\n",
    "print(len(count_rows_list))"
   ]
  },
  {
   "cell_type": "code",
   "execution_count": 20,
   "metadata": {},
   "outputs": [
    {
     "name": "stdout",
     "output_type": "stream",
     "text": [
      "4135.057162414594\n",
      "64.30441013192325\n"
     ]
    }
   ],
   "source": [
    "numerator = 0\n",
    "for i in range(35):\n",
    "    numerator += (count_rows_list[i] - 1) * (stddev_list[i] ** 2)\n",
    "    \n",
    "denominator = sum(count_rows_list)  - 35\n",
    "pooled_variance = numerator/denominator\n",
    "print(pooled_variance)\n",
    "pooled_stddev = pooled_variance ** 0.5\n",
    "print(pooled_stddev)"
   ]
  },
  {
   "cell_type": "markdown",
   "metadata": {},
   "source": [
    "#### The standard deviation of COVERAGE in days is 64.30441013192325 "
   ]
  },
  {
   "cell_type": "code",
   "execution_count": null,
   "metadata": {},
   "outputs": [],
   "source": []
  },
  {
   "cell_type": "code",
   "execution_count": null,
   "metadata": {},
   "outputs": [],
   "source": []
  },
  {
   "cell_type": "code",
   "execution_count": null,
   "metadata": {},
   "outputs": [],
   "source": []
  }
 ],
 "metadata": {
  "kernelspec": {
   "display_name": "Python 3",
   "language": "python",
   "name": "python3"
  },
  "language_info": {
   "codemirror_mode": {
    "name": "ipython",
    "version": 3
   },
   "file_extension": ".py",
   "mimetype": "text/x-python",
   "name": "python",
   "nbconvert_exporter": "python",
   "pygments_lexer": "ipython3",
   "version": "3.6.5"
  }
 },
 "nbformat": 4,
 "nbformat_minor": 2
}
