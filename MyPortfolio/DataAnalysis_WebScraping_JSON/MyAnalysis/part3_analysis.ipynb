{
 "cells": [
  {
   "cell_type": "markdown",
   "metadata": {},
   "source": [
    "## PART 3"
   ]
  },
  {
   "cell_type": "markdown",
   "metadata": {},
   "source": [
    "import numpy as np\n",
    "import pandas as pd"
   ]
  },
  {
   "cell_type": "markdown",
   "metadata": {},
   "source": [
    "Read all the *detail.csv.  \n",
    "Renamed \"2015Q2-house-disburse-detail.csv\" to \n",
    "\"2015Q2-house-disburse-detail-old.csv\"\n",
    "Then renamed \"2015Q2-house-disburse-detail-updated.csv\" to \n",
    "\"2015Q2-house-disburse-detail.csv\".\n",
    "Then redirected all the filenames to \"filename.txt\" \n",
    "using the command:  ls  *detail.csv > filename.txt"
   ]
  },
  {
   "cell_type": "code",
   "execution_count": 3,
   "metadata": {},
   "outputs": [
    {
     "name": "stdout",
     "output_type": "stream",
     "text": [
      "['2010Q1-house-disburse-detail.csv', '2010Q2-house-disburse-detail.csv', '2010Q3-house-disburse-detail.csv', '2010Q4-house-disburse-detail.csv', '2011Q1-house-disburse-detail.csv', '2011Q2-house-disburse-detail.csv', '2011Q3-house-disburse-detail.csv', '2011Q4-house-disburse-detail.csv', '2012Q1-house-disburse-detail.csv', '2012Q2-house-disburse-detail.csv', '2012Q3-house-disburse-detail.csv', '2012Q4-house-disburse-detail.csv', '2013Q1-house-disburse-detail.csv', '2013Q2-house-disburse-detail.csv', '2013Q3-house-disburse-detail.csv', '2013Q4-house-disburse-detail.csv', '2014Q1-house-disburse-detail.csv', '2014Q2-house-disburse-detail.csv', '2014Q3-house-disburse-detail.csv', '2014Q4-house-disburse-detail.csv', '2015Q1-house-disburse-detail.csv', '2015Q2-house-disburse-detail.csv', '2015Q3-house-disburse-detail.csv', '2015Q4-house-disburse-detail.csv', '2016Q1-house-disburse-detail.csv', '2016Q2-house-disburse-detail.csv', '2016Q3-house-disburse-detail.csv', '2016Q4-house-disburse-detail.csv']\n"
     ]
    }
   ],
   "source": [
    "# Create a list of filename called file_list\n",
    "# Strip '\\n' at the end of the filename\n",
    "#Ref: https://stackoverflow.com/questions/42488579/\n",
    "#remove-n-from-each-string-stored-in-a-python-list\n",
    "\n",
    "file_list = []\n",
    "with open('filename.txt', 'r', encoding='utf-8') as myfile:\n",
    "    for line in myfile:\n",
    "        st_line = line.rstrip()\n",
    "        file_list.append(st_line)\n",
    "file_list=file_list[2:30]  #Slicing from 2010 to 2016\n",
    "print(file_list)"
   ]
  },
  {
   "cell_type": "code",
   "execution_count": 6,
   "metadata": {},
   "outputs": [],
   "source": [
    "amount_list = []\n",
    "for file in file_list:\n",
    "    df = pd.read_csv(file, low_memory = False)\n",
    "    df['AMOUNT'] = pd.to_numeric(df['AMOUNT'], errors='coerce')\n",
    "    df = df[df['AMOUNT'] > 0]   #Payments with strictly positive amounts  \n",
    "    total_amount = df['AMOUNT'].sum()\n",
    "    amount_list.append(total_amount)"
   ]
  },
  {
   "cell_type": "code",
   "execution_count": 7,
   "metadata": {},
   "outputs": [
    {
     "name": "stdout",
     "output_type": "stream",
     "text": [
      "[23274189.379999742, 20473905.489999417, 11928469.330000367, 16126607.750000488, 20667333.30000059, 18099930.380000446, 17329735.740000386, 17159937.41000038, 20509959.85000069, 16507160.980000306, 15347008.68000013, 14808434.920000004, 19067215.48000038, 15774856.980000492, 16017849.590000592, 14529240.030000445, 18151408.070000086, 15672857.920000175, 14999926.81000014, 14739370.070000054, 18027704.599999435, 15734175.649999926, 15137542.720000027, 15422167.35999958, 18128189.489999525, 15976360.179999676, 15172697.669999834, 317499758.1699913]\n"
     ]
    }
   ],
   "source": [
    "print(amount_list)"
   ]
  },
  {
   "cell_type": "code",
   "execution_count": 8,
   "metadata": {},
   "outputs": [
    {
     "name": "stdout",
     "output_type": "stream",
     "text": [
      "28\n"
     ]
    }
   ],
   "source": [
    "print(len(amount_list))"
   ]
  },
  {
   "cell_type": "code",
   "execution_count": 11,
   "metadata": {},
   "outputs": [
    {
     "name": "stdout",
     "output_type": "stream",
     "text": [
      "Total =  772283993.9999946\n",
      "Average Annual Expenditure =  110326284.85714209\n"
     ]
    }
   ],
   "source": [
    "total = sum(amount_list)\n",
    "avg_annual_expenditure = total/7\n",
    "print(\"Total = \", total)\n",
    "print(\"Average Annual Expenditure = \", avg_annual_expenditure)"
   ]
  },
  {
   "cell_type": "code",
   "execution_count": null,
   "metadata": {},
   "outputs": [],
   "source": []
  }
 ],
 "metadata": {
  "kernelspec": {
   "display_name": "Python 3",
   "language": "python",
   "name": "python3"
  },
  "language_info": {
   "codemirror_mode": {
    "name": "ipython",
    "version": 3
   },
   "file_extension": ".py",
   "mimetype": "text/x-python",
   "name": "python",
   "nbconvert_exporter": "python",
   "pygments_lexer": "ipython3",
   "version": "3.6.5"
  }
 },
 "nbformat": 4,
 "nbformat_minor": 2
}
