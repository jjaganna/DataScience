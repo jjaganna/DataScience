{
 "cells": [
  {
   "cell_type": "markdown",
   "metadata": {},
   "source": [
    "##  Chronus Data Analysis"
   ]
  },
  {
   "cell_type": "code",
   "execution_count": 1,
   "metadata": {},
   "outputs": [],
   "source": [
    "import numpy as np\n",
    "import pandas as pd\n",
    "import matplotlib.pyplot as plt\n",
    "import seaborn as sns\n",
    "%matplotlib inline\n",
    "import os"
   ]
  },
  {
   "cell_type": "code",
   "execution_count": 2,
   "metadata": {},
   "outputs": [],
   "source": [
    "\n",
    "# Read the data for cell A\n",
    "\n",
    "# input_dir_dvv is the file location for dvv data folder\n",
    "# input_dir_dv is the file location for dv data folder\n",
    "\n",
    "\n",
    "input_dir_dvv = \"/Users/jayashrijagannathan/Documents/chronus_project/AnalyzeDataSet2/Cell_A/DVV\"\n",
    "input_dir_dv = \"/Users/jayashrijagannathan/Documents/chronus_project/AnalyzeDataSet2/Cell_A/DV\"\n",
    "\n",
    "dvv_files = [f for f in os.listdir(input_dir_dvv)]\n",
    "dv_files = [f for f in os.listdir(input_dir_dv)]\n",
    "\n",
    "df_list = []  # initialize dataframes list\n",
    "\n",
    "for dvv_f, dv_f in zip(dvv_files, dv_files):\n",
    "    \n",
    "    \n",
    "    dvv_df = pd.read_csv(input_dir_dvv + \"/\" + dvv_f)\n",
    "    dv_df = pd.read_csv(input_dir_dv + \"/\" + dv_f)\n",
    "\n",
    "\n",
    "    # Here we combine the data of 106999 frequency dvv data with 27999999 dv data\n",
    "    dvv_df = dvv_df[[\"real_time_106999\",\"real_data_106999\",\"imag_data_106999\"]]\n",
    "    dv_df = dv_df[[\"real_data_27999999\",\"imag_data_27999999\"]]\n",
    "\n",
    "    # Scaling the dv data to match the dvv data\n",
    "    dv_df = dv_df.apply(lambda x: x * 10)\n",
    "\n",
    "    # Use the combined df data to proceed with analysis. \n",
    "    combined_df = pd.concat([dvv_df,dv_df], axis=1, sort=False)\n",
    "    df_list.append(combined_df)\n",
    "    \n",
    "concat_df = pd.concat(df_list, axis = 0)"
   ]
  },
  {
   "cell_type": "code",
   "execution_count": 3,
   "metadata": {},
   "outputs": [
    {
     "data": {
      "text/html": [
       "<div>\n",
       "<style scoped>\n",
       "    .dataframe tbody tr th:only-of-type {\n",
       "        vertical-align: middle;\n",
       "    }\n",
       "\n",
       "    .dataframe tbody tr th {\n",
       "        vertical-align: top;\n",
       "    }\n",
       "\n",
       "    .dataframe thead th {\n",
       "        text-align: right;\n",
       "    }\n",
       "</style>\n",
       "<table border=\"1\" class=\"dataframe\">\n",
       "  <thead>\n",
       "    <tr style=\"text-align: right;\">\n",
       "      <th></th>\n",
       "      <th>real_time_106999</th>\n",
       "      <th>real_data_106999</th>\n",
       "      <th>imag_data_106999</th>\n",
       "      <th>real_data_27999999</th>\n",
       "      <th>imag_data_27999999</th>\n",
       "    </tr>\n",
       "  </thead>\n",
       "  <tbody>\n",
       "    <tr>\n",
       "      <th>count</th>\n",
       "      <td>422382.000000</td>\n",
       "      <td>422382.000000</td>\n",
       "      <td>422382.000000</td>\n",
       "      <td>422382.000000</td>\n",
       "      <td>422382.000000</td>\n",
       "    </tr>\n",
       "    <tr>\n",
       "      <th>mean</th>\n",
       "      <td>5.120791</td>\n",
       "      <td>0.000078</td>\n",
       "      <td>0.000184</td>\n",
       "      <td>0.000429</td>\n",
       "      <td>0.000105</td>\n",
       "    </tr>\n",
       "    <tr>\n",
       "      <th>std</th>\n",
       "      <td>2.693977</td>\n",
       "      <td>0.001900</td>\n",
       "      <td>0.003402</td>\n",
       "      <td>0.002649</td>\n",
       "      <td>0.001517</td>\n",
       "    </tr>\n",
       "    <tr>\n",
       "      <th>min</th>\n",
       "      <td>0.009220</td>\n",
       "      <td>-0.008488</td>\n",
       "      <td>-0.013550</td>\n",
       "      <td>-0.011477</td>\n",
       "      <td>-0.006227</td>\n",
       "    </tr>\n",
       "    <tr>\n",
       "      <th>25%</th>\n",
       "      <td>3.108961</td>\n",
       "      <td>-0.000701</td>\n",
       "      <td>-0.000916</td>\n",
       "      <td>-0.000718</td>\n",
       "      <td>-0.000666</td>\n",
       "    </tr>\n",
       "    <tr>\n",
       "      <th>50%</th>\n",
       "      <td>5.176916</td>\n",
       "      <td>0.000006</td>\n",
       "      <td>0.000032</td>\n",
       "      <td>0.000013</td>\n",
       "      <td>0.000016</td>\n",
       "    </tr>\n",
       "    <tr>\n",
       "      <th>75%</th>\n",
       "      <td>7.345117</td>\n",
       "      <td>0.000725</td>\n",
       "      <td>0.000991</td>\n",
       "      <td>0.000807</td>\n",
       "      <td>0.000743</td>\n",
       "    </tr>\n",
       "    <tr>\n",
       "      <th>max</th>\n",
       "      <td>9.998788</td>\n",
       "      <td>0.008563</td>\n",
       "      <td>0.017257</td>\n",
       "      <td>0.019669</td>\n",
       "      <td>0.009021</td>\n",
       "    </tr>\n",
       "  </tbody>\n",
       "</table>\n",
       "</div>"
      ],
      "text/plain": [
       "       real_time_106999  real_data_106999  imag_data_106999  \\\n",
       "count     422382.000000     422382.000000     422382.000000   \n",
       "mean           5.120791          0.000078          0.000184   \n",
       "std            2.693977          0.001900          0.003402   \n",
       "min            0.009220         -0.008488         -0.013550   \n",
       "25%            3.108961         -0.000701         -0.000916   \n",
       "50%            5.176916          0.000006          0.000032   \n",
       "75%            7.345117          0.000725          0.000991   \n",
       "max            9.998788          0.008563          0.017257   \n",
       "\n",
       "       real_data_27999999  imag_data_27999999  \n",
       "count       422382.000000       422382.000000  \n",
       "mean             0.000429            0.000105  \n",
       "std              0.002649            0.001517  \n",
       "min             -0.011477           -0.006227  \n",
       "25%             -0.000718           -0.000666  \n",
       "50%              0.000013            0.000016  \n",
       "75%              0.000807            0.000743  \n",
       "max              0.019669            0.009021  "
      ]
     },
     "execution_count": 3,
     "metadata": {},
     "output_type": "execute_result"
    }
   ],
   "source": [
    "concat_df.describe()"
   ]
  },
  {
   "cell_type": "code",
   "execution_count": 4,
   "metadata": {},
   "outputs": [
    {
     "name": "stdout",
     "output_type": "stream",
     "text": [
      "422382\n"
     ]
    }
   ],
   "source": [
    "num_records = concat_df['real_time_106999'].count()\n",
    "print(num_records)"
   ]
  },
  {
   "cell_type": "code",
   "execution_count": 5,
   "metadata": {},
   "outputs": [
    {
     "data": {
      "text/html": [
       "<div>\n",
       "<style scoped>\n",
       "    .dataframe tbody tr th:only-of-type {\n",
       "        vertical-align: middle;\n",
       "    }\n",
       "\n",
       "    .dataframe tbody tr th {\n",
       "        vertical-align: top;\n",
       "    }\n",
       "\n",
       "    .dataframe thead th {\n",
       "        text-align: right;\n",
       "    }\n",
       "</style>\n",
       "<table border=\"1\" class=\"dataframe\">\n",
       "  <thead>\n",
       "    <tr style=\"text-align: right;\">\n",
       "      <th></th>\n",
       "      <th>real_time_106999</th>\n",
       "      <th>real_data_106999</th>\n",
       "      <th>imag_data_106999</th>\n",
       "      <th>real_data_27999999</th>\n",
       "      <th>imag_data_27999999</th>\n",
       "      <th>cell_type</th>\n",
       "    </tr>\n",
       "  </thead>\n",
       "  <tbody>\n",
       "    <tr>\n",
       "      <th>count</th>\n",
       "      <td>422382.000000</td>\n",
       "      <td>422382.000000</td>\n",
       "      <td>422382.000000</td>\n",
       "      <td>422382.000000</td>\n",
       "      <td>422382.000000</td>\n",
       "      <td>422382.0</td>\n",
       "    </tr>\n",
       "    <tr>\n",
       "      <th>mean</th>\n",
       "      <td>5.120791</td>\n",
       "      <td>0.000078</td>\n",
       "      <td>0.000184</td>\n",
       "      <td>0.000429</td>\n",
       "      <td>0.000105</td>\n",
       "      <td>0.0</td>\n",
       "    </tr>\n",
       "    <tr>\n",
       "      <th>std</th>\n",
       "      <td>2.693977</td>\n",
       "      <td>0.001900</td>\n",
       "      <td>0.003402</td>\n",
       "      <td>0.002649</td>\n",
       "      <td>0.001517</td>\n",
       "      <td>0.0</td>\n",
       "    </tr>\n",
       "    <tr>\n",
       "      <th>min</th>\n",
       "      <td>0.009220</td>\n",
       "      <td>-0.008488</td>\n",
       "      <td>-0.013550</td>\n",
       "      <td>-0.011477</td>\n",
       "      <td>-0.006227</td>\n",
       "      <td>0.0</td>\n",
       "    </tr>\n",
       "    <tr>\n",
       "      <th>25%</th>\n",
       "      <td>3.108961</td>\n",
       "      <td>-0.000701</td>\n",
       "      <td>-0.000916</td>\n",
       "      <td>-0.000718</td>\n",
       "      <td>-0.000666</td>\n",
       "      <td>0.0</td>\n",
       "    </tr>\n",
       "    <tr>\n",
       "      <th>50%</th>\n",
       "      <td>5.176916</td>\n",
       "      <td>0.000006</td>\n",
       "      <td>0.000032</td>\n",
       "      <td>0.000013</td>\n",
       "      <td>0.000016</td>\n",
       "      <td>0.0</td>\n",
       "    </tr>\n",
       "    <tr>\n",
       "      <th>75%</th>\n",
       "      <td>7.345117</td>\n",
       "      <td>0.000725</td>\n",
       "      <td>0.000991</td>\n",
       "      <td>0.000807</td>\n",
       "      <td>0.000743</td>\n",
       "      <td>0.0</td>\n",
       "    </tr>\n",
       "    <tr>\n",
       "      <th>max</th>\n",
       "      <td>9.998788</td>\n",
       "      <td>0.008563</td>\n",
       "      <td>0.017257</td>\n",
       "      <td>0.019669</td>\n",
       "      <td>0.009021</td>\n",
       "      <td>0.0</td>\n",
       "    </tr>\n",
       "  </tbody>\n",
       "</table>\n",
       "</div>"
      ],
      "text/plain": [
       "       real_time_106999  real_data_106999  imag_data_106999  \\\n",
       "count     422382.000000     422382.000000     422382.000000   \n",
       "mean           5.120791          0.000078          0.000184   \n",
       "std            2.693977          0.001900          0.003402   \n",
       "min            0.009220         -0.008488         -0.013550   \n",
       "25%            3.108961         -0.000701         -0.000916   \n",
       "50%            5.176916          0.000006          0.000032   \n",
       "75%            7.345117          0.000725          0.000991   \n",
       "max            9.998788          0.008563          0.017257   \n",
       "\n",
       "       real_data_27999999  imag_data_27999999  cell_type  \n",
       "count       422382.000000       422382.000000   422382.0  \n",
       "mean             0.000429            0.000105        0.0  \n",
       "std              0.002649            0.001517        0.0  \n",
       "min             -0.011477           -0.006227        0.0  \n",
       "25%             -0.000718           -0.000666        0.0  \n",
       "50%              0.000013            0.000016        0.0  \n",
       "75%              0.000807            0.000743        0.0  \n",
       "max              0.019669            0.009021        0.0  "
      ]
     },
     "execution_count": 5,
     "metadata": {},
     "output_type": "execute_result"
    }
   ],
   "source": [
    "concat_df['cell_type'] = [0 for x in range(num_records)]\n",
    "concat_df.describe()"
   ]
  },
  {
   "cell_type": "code",
   "execution_count": 6,
   "metadata": {},
   "outputs": [],
   "source": [
    "# Read the data for cell B\n",
    "\n",
    "# input_dir_dvv is the file location for dvv data folder\n",
    "# input_dir_dv is the file location for dv data folder\n",
    "\n",
    "\n",
    "input_dir_dvv = \"/Users/jayashrijagannathan/Documents/chronus_project/AnalyzeDataSet2/Cell_B/DVV\"\n",
    "input_dir_dv = \"/Users/jayashrijagannathan/Documents/chronus_project/AnalyzeDataSet2/Cell_B/DV\"\n",
    "\n",
    "dvv_files = [f for f in os.listdir(input_dir_dvv)]\n",
    "dv_files = [f for f in os.listdir(input_dir_dv)]\n",
    "\n",
    "df_list = []  # initialize dataframes list\n",
    "\n",
    "for dvv_f, dv_f in zip(dvv_files, dv_files):\n",
    "    \n",
    "    \n",
    "    dvv_df = pd.read_csv(input_dir_dvv + \"/\" + dvv_f)\n",
    "    dv_df = pd.read_csv(input_dir_dv + \"/\" + dv_f)\n",
    "\n",
    "\n",
    "    # Here we combine the data of 106999 frequency dvv data with 27999999 dv data\n",
    "    dvv_df = dvv_df[[\"real_time_106999\",\"real_data_106999\",\"imag_data_106999\"]]\n",
    "    dv_df = dv_df[[\"real_data_27999999\",\"imag_data_27999999\"]]\n",
    "\n",
    "    # Scaling the dv data to match the dvv data\n",
    "    dv_df = dv_df.apply(lambda x: x * 10)\n",
    "\n",
    "    # Use the combined df data to proceed with analysis. \n",
    "    combined_df = pd.concat([dvv_df,dv_df], axis=1, sort=False)\n",
    "    df_list.append(combined_df)\n",
    "    \n",
    "concat_df1 = pd.concat(df_list, axis = 0)"
   ]
  },
  {
   "cell_type": "code",
   "execution_count": 7,
   "metadata": {},
   "outputs": [
    {
     "data": {
      "text/html": [
       "<div>\n",
       "<style scoped>\n",
       "    .dataframe tbody tr th:only-of-type {\n",
       "        vertical-align: middle;\n",
       "    }\n",
       "\n",
       "    .dataframe tbody tr th {\n",
       "        vertical-align: top;\n",
       "    }\n",
       "\n",
       "    .dataframe thead th {\n",
       "        text-align: right;\n",
       "    }\n",
       "</style>\n",
       "<table border=\"1\" class=\"dataframe\">\n",
       "  <thead>\n",
       "    <tr style=\"text-align: right;\">\n",
       "      <th></th>\n",
       "      <th>real_time_106999</th>\n",
       "      <th>real_data_106999</th>\n",
       "      <th>imag_data_106999</th>\n",
       "      <th>real_data_27999999</th>\n",
       "      <th>imag_data_27999999</th>\n",
       "    </tr>\n",
       "  </thead>\n",
       "  <tbody>\n",
       "    <tr>\n",
       "      <th>count</th>\n",
       "      <td>389250.000000</td>\n",
       "      <td>389250.000000</td>\n",
       "      <td>389250.000000</td>\n",
       "      <td>389250.000000</td>\n",
       "      <td>389250.000000</td>\n",
       "    </tr>\n",
       "    <tr>\n",
       "      <th>mean</th>\n",
       "      <td>5.070524</td>\n",
       "      <td>0.000189</td>\n",
       "      <td>0.000651</td>\n",
       "      <td>0.001054</td>\n",
       "      <td>0.000027</td>\n",
       "    </tr>\n",
       "    <tr>\n",
       "      <th>std</th>\n",
       "      <td>2.815230</td>\n",
       "      <td>0.004440</td>\n",
       "      <td>0.007685</td>\n",
       "      <td>0.005316</td>\n",
       "      <td>0.004131</td>\n",
       "    </tr>\n",
       "    <tr>\n",
       "      <th>min</th>\n",
       "      <td>0.017045</td>\n",
       "      <td>-0.029131</td>\n",
       "      <td>-0.044101</td>\n",
       "      <td>-0.017850</td>\n",
       "      <td>-0.021769</td>\n",
       "    </tr>\n",
       "    <tr>\n",
       "      <th>25%</th>\n",
       "      <td>3.126056</td>\n",
       "      <td>-0.000842</td>\n",
       "      <td>-0.000998</td>\n",
       "      <td>-0.000743</td>\n",
       "      <td>-0.000703</td>\n",
       "    </tr>\n",
       "    <tr>\n",
       "      <th>50%</th>\n",
       "      <td>4.821506</td>\n",
       "      <td>-0.000002</td>\n",
       "      <td>0.000016</td>\n",
       "      <td>-0.000029</td>\n",
       "      <td>0.000032</td>\n",
       "    </tr>\n",
       "    <tr>\n",
       "      <th>75%</th>\n",
       "      <td>7.451487</td>\n",
       "      <td>0.000831</td>\n",
       "      <td>0.001055</td>\n",
       "      <td>0.000788</td>\n",
       "      <td>0.000786</td>\n",
       "    </tr>\n",
       "    <tr>\n",
       "      <th>max</th>\n",
       "      <td>9.999300</td>\n",
       "      <td>0.033728</td>\n",
       "      <td>0.062087</td>\n",
       "      <td>0.033611</td>\n",
       "      <td>0.019967</td>\n",
       "    </tr>\n",
       "  </tbody>\n",
       "</table>\n",
       "</div>"
      ],
      "text/plain": [
       "       real_time_106999  real_data_106999  imag_data_106999  \\\n",
       "count     389250.000000     389250.000000     389250.000000   \n",
       "mean           5.070524          0.000189          0.000651   \n",
       "std            2.815230          0.004440          0.007685   \n",
       "min            0.017045         -0.029131         -0.044101   \n",
       "25%            3.126056         -0.000842         -0.000998   \n",
       "50%            4.821506         -0.000002          0.000016   \n",
       "75%            7.451487          0.000831          0.001055   \n",
       "max            9.999300          0.033728          0.062087   \n",
       "\n",
       "       real_data_27999999  imag_data_27999999  \n",
       "count       389250.000000       389250.000000  \n",
       "mean             0.001054            0.000027  \n",
       "std              0.005316            0.004131  \n",
       "min             -0.017850           -0.021769  \n",
       "25%             -0.000743           -0.000703  \n",
       "50%             -0.000029            0.000032  \n",
       "75%              0.000788            0.000786  \n",
       "max              0.033611            0.019967  "
      ]
     },
     "execution_count": 7,
     "metadata": {},
     "output_type": "execute_result"
    }
   ],
   "source": [
    "concat_df1.describe()"
   ]
  },
  {
   "cell_type": "code",
   "execution_count": 8,
   "metadata": {},
   "outputs": [
    {
     "name": "stdout",
     "output_type": "stream",
     "text": [
      "389250\n"
     ]
    }
   ],
   "source": [
    "num_records = concat_df1['real_time_106999'].count()\n",
    "print(num_records)"
   ]
  },
  {
   "cell_type": "code",
   "execution_count": 9,
   "metadata": {},
   "outputs": [
    {
     "data": {
      "text/html": [
       "<div>\n",
       "<style scoped>\n",
       "    .dataframe tbody tr th:only-of-type {\n",
       "        vertical-align: middle;\n",
       "    }\n",
       "\n",
       "    .dataframe tbody tr th {\n",
       "        vertical-align: top;\n",
       "    }\n",
       "\n",
       "    .dataframe thead th {\n",
       "        text-align: right;\n",
       "    }\n",
       "</style>\n",
       "<table border=\"1\" class=\"dataframe\">\n",
       "  <thead>\n",
       "    <tr style=\"text-align: right;\">\n",
       "      <th></th>\n",
       "      <th>real_time_106999</th>\n",
       "      <th>real_data_106999</th>\n",
       "      <th>imag_data_106999</th>\n",
       "      <th>real_data_27999999</th>\n",
       "      <th>imag_data_27999999</th>\n",
       "      <th>cell_type</th>\n",
       "    </tr>\n",
       "  </thead>\n",
       "  <tbody>\n",
       "    <tr>\n",
       "      <th>count</th>\n",
       "      <td>389250.000000</td>\n",
       "      <td>389250.000000</td>\n",
       "      <td>389250.000000</td>\n",
       "      <td>389250.000000</td>\n",
       "      <td>389250.000000</td>\n",
       "      <td>389250.0</td>\n",
       "    </tr>\n",
       "    <tr>\n",
       "      <th>mean</th>\n",
       "      <td>5.070524</td>\n",
       "      <td>0.000189</td>\n",
       "      <td>0.000651</td>\n",
       "      <td>0.001054</td>\n",
       "      <td>0.000027</td>\n",
       "      <td>1.0</td>\n",
       "    </tr>\n",
       "    <tr>\n",
       "      <th>std</th>\n",
       "      <td>2.815230</td>\n",
       "      <td>0.004440</td>\n",
       "      <td>0.007685</td>\n",
       "      <td>0.005316</td>\n",
       "      <td>0.004131</td>\n",
       "      <td>0.0</td>\n",
       "    </tr>\n",
       "    <tr>\n",
       "      <th>min</th>\n",
       "      <td>0.017045</td>\n",
       "      <td>-0.029131</td>\n",
       "      <td>-0.044101</td>\n",
       "      <td>-0.017850</td>\n",
       "      <td>-0.021769</td>\n",
       "      <td>1.0</td>\n",
       "    </tr>\n",
       "    <tr>\n",
       "      <th>25%</th>\n",
       "      <td>3.126056</td>\n",
       "      <td>-0.000842</td>\n",
       "      <td>-0.000998</td>\n",
       "      <td>-0.000743</td>\n",
       "      <td>-0.000703</td>\n",
       "      <td>1.0</td>\n",
       "    </tr>\n",
       "    <tr>\n",
       "      <th>50%</th>\n",
       "      <td>4.821506</td>\n",
       "      <td>-0.000002</td>\n",
       "      <td>0.000016</td>\n",
       "      <td>-0.000029</td>\n",
       "      <td>0.000032</td>\n",
       "      <td>1.0</td>\n",
       "    </tr>\n",
       "    <tr>\n",
       "      <th>75%</th>\n",
       "      <td>7.451487</td>\n",
       "      <td>0.000831</td>\n",
       "      <td>0.001055</td>\n",
       "      <td>0.000788</td>\n",
       "      <td>0.000786</td>\n",
       "      <td>1.0</td>\n",
       "    </tr>\n",
       "    <tr>\n",
       "      <th>max</th>\n",
       "      <td>9.999300</td>\n",
       "      <td>0.033728</td>\n",
       "      <td>0.062087</td>\n",
       "      <td>0.033611</td>\n",
       "      <td>0.019967</td>\n",
       "      <td>1.0</td>\n",
       "    </tr>\n",
       "  </tbody>\n",
       "</table>\n",
       "</div>"
      ],
      "text/plain": [
       "       real_time_106999  real_data_106999  imag_data_106999  \\\n",
       "count     389250.000000     389250.000000     389250.000000   \n",
       "mean           5.070524          0.000189          0.000651   \n",
       "std            2.815230          0.004440          0.007685   \n",
       "min            0.017045         -0.029131         -0.044101   \n",
       "25%            3.126056         -0.000842         -0.000998   \n",
       "50%            4.821506         -0.000002          0.000016   \n",
       "75%            7.451487          0.000831          0.001055   \n",
       "max            9.999300          0.033728          0.062087   \n",
       "\n",
       "       real_data_27999999  imag_data_27999999  cell_type  \n",
       "count       389250.000000       389250.000000   389250.0  \n",
       "mean             0.001054            0.000027        1.0  \n",
       "std              0.005316            0.004131        0.0  \n",
       "min             -0.017850           -0.021769        1.0  \n",
       "25%             -0.000743           -0.000703        1.0  \n",
       "50%             -0.000029            0.000032        1.0  \n",
       "75%              0.000788            0.000786        1.0  \n",
       "max              0.033611            0.019967        1.0  "
      ]
     },
     "execution_count": 9,
     "metadata": {},
     "output_type": "execute_result"
    }
   ],
   "source": [
    "concat_df1['cell_type'] = [1 for x in range(num_records)]\n",
    "concat_df1.describe()"
   ]
  },
  {
   "cell_type": "code",
   "execution_count": 10,
   "metadata": {},
   "outputs": [],
   "source": [
    "# Read the data for cell C\n",
    "\n",
    "# input_dir_dvv is the file location for dvv data folder\n",
    "# input_dir_dv is the file location for dv data folder\n",
    "\n",
    "\n",
    "input_dir_dvv = \"/Users/jayashrijagannathan/Documents/chronus_project/AnalyzeDataSet2/Cell_C/DVV\"\n",
    "input_dir_dv = \"/Users/jayashrijagannathan/Documents/chronus_project/AnalyzeDataSet2/Cell_C/DV\"\n",
    "\n",
    "dvv_files = [f for f in os.listdir(input_dir_dvv)]\n",
    "dv_files = [f for f in os.listdir(input_dir_dv)]\n",
    "\n",
    "df_list = []  # initialize dataframes list\n",
    "\n",
    "for dvv_f, dv_f in zip(dvv_files, dv_files):\n",
    "    \n",
    "    \n",
    "    dvv_df = pd.read_csv(input_dir_dvv + \"/\" + dvv_f)\n",
    "    dv_df = pd.read_csv(input_dir_dv + \"/\" + dv_f)\n",
    "\n",
    "\n",
    "    # Here we combine the data of 106999 frequency dvv data with 27999999 dv data\n",
    "    dvv_df = dvv_df[[\"real_time_106999\",\"real_data_106999\",\"imag_data_106999\"]]\n",
    "    dv_df = dv_df[[\"real_data_27999999\",\"imag_data_27999999\"]]\n",
    "\n",
    "    # Scaling the dv data to match the dvv data\n",
    "    dv_df = dv_df.apply(lambda x: x * 10)\n",
    "\n",
    "    # Use the combined df data to proceed with analysis. \n",
    "    combined_df = pd.concat([dvv_df,dv_df], axis=1, sort=False)\n",
    "    df_list.append(combined_df)\n",
    "    \n",
    "concat_df2 = pd.concat(df_list, axis = 0)"
   ]
  },
  {
   "cell_type": "code",
   "execution_count": 13,
   "metadata": {},
   "outputs": [
    {
     "data": {
      "text/html": [
       "<div>\n",
       "<style scoped>\n",
       "    .dataframe tbody tr th:only-of-type {\n",
       "        vertical-align: middle;\n",
       "    }\n",
       "\n",
       "    .dataframe tbody tr th {\n",
       "        vertical-align: top;\n",
       "    }\n",
       "\n",
       "    .dataframe thead th {\n",
       "        text-align: right;\n",
       "    }\n",
       "</style>\n",
       "<table border=\"1\" class=\"dataframe\">\n",
       "  <thead>\n",
       "    <tr style=\"text-align: right;\">\n",
       "      <th></th>\n",
       "      <th>real_time_106999</th>\n",
       "      <th>real_data_106999</th>\n",
       "      <th>imag_data_106999</th>\n",
       "      <th>real_data_27999999</th>\n",
       "      <th>imag_data_27999999</th>\n",
       "    </tr>\n",
       "  </thead>\n",
       "  <tbody>\n",
       "    <tr>\n",
       "      <th>count</th>\n",
       "      <td>289621.000000</td>\n",
       "      <td>289621.000000</td>\n",
       "      <td>289621.000000</td>\n",
       "      <td>289621.000000</td>\n",
       "      <td>289621.000000</td>\n",
       "    </tr>\n",
       "    <tr>\n",
       "      <th>mean</th>\n",
       "      <td>5.187166</td>\n",
       "      <td>0.000329</td>\n",
       "      <td>0.000617</td>\n",
       "      <td>0.001723</td>\n",
       "      <td>0.000424</td>\n",
       "    </tr>\n",
       "    <tr>\n",
       "      <th>std</th>\n",
       "      <td>2.801033</td>\n",
       "      <td>0.007311</td>\n",
       "      <td>0.011412</td>\n",
       "      <td>0.009931</td>\n",
       "      <td>0.005745</td>\n",
       "    </tr>\n",
       "    <tr>\n",
       "      <th>min</th>\n",
       "      <td>0.012892</td>\n",
       "      <td>-0.043792</td>\n",
       "      <td>-0.067887</td>\n",
       "      <td>-0.039366</td>\n",
       "      <td>-0.041116</td>\n",
       "    </tr>\n",
       "    <tr>\n",
       "      <th>25%</th>\n",
       "      <td>2.402103</td>\n",
       "      <td>-0.000721</td>\n",
       "      <td>-0.000991</td>\n",
       "      <td>-0.000886</td>\n",
       "      <td>-0.000722</td>\n",
       "    </tr>\n",
       "    <tr>\n",
       "      <th>50%</th>\n",
       "      <td>5.394943</td>\n",
       "      <td>0.000015</td>\n",
       "      <td>-0.000007</td>\n",
       "      <td>-0.000117</td>\n",
       "      <td>0.000007</td>\n",
       "    </tr>\n",
       "    <tr>\n",
       "      <th>75%</th>\n",
       "      <td>7.749698</td>\n",
       "      <td>0.000770</td>\n",
       "      <td>0.001012</td>\n",
       "      <td>0.000717</td>\n",
       "      <td>0.000800</td>\n",
       "    </tr>\n",
       "    <tr>\n",
       "      <th>max</th>\n",
       "      <td>9.997930</td>\n",
       "      <td>0.052416</td>\n",
       "      <td>0.080439</td>\n",
       "      <td>0.073876</td>\n",
       "      <td>0.042112</td>\n",
       "    </tr>\n",
       "  </tbody>\n",
       "</table>\n",
       "</div>"
      ],
      "text/plain": [
       "       real_time_106999  real_data_106999  imag_data_106999  \\\n",
       "count     289621.000000     289621.000000     289621.000000   \n",
       "mean           5.187166          0.000329          0.000617   \n",
       "std            2.801033          0.007311          0.011412   \n",
       "min            0.012892         -0.043792         -0.067887   \n",
       "25%            2.402103         -0.000721         -0.000991   \n",
       "50%            5.394943          0.000015         -0.000007   \n",
       "75%            7.749698          0.000770          0.001012   \n",
       "max            9.997930          0.052416          0.080439   \n",
       "\n",
       "       real_data_27999999  imag_data_27999999  \n",
       "count       289621.000000       289621.000000  \n",
       "mean             0.001723            0.000424  \n",
       "std              0.009931            0.005745  \n",
       "min             -0.039366           -0.041116  \n",
       "25%             -0.000886           -0.000722  \n",
       "50%             -0.000117            0.000007  \n",
       "75%              0.000717            0.000800  \n",
       "max              0.073876            0.042112  "
      ]
     },
     "execution_count": 13,
     "metadata": {},
     "output_type": "execute_result"
    }
   ],
   "source": [
    "concat_df2.describe()"
   ]
  },
  {
   "cell_type": "code",
   "execution_count": 14,
   "metadata": {},
   "outputs": [
    {
     "name": "stdout",
     "output_type": "stream",
     "text": [
      "289621\n"
     ]
    }
   ],
   "source": [
    "num_records = concat_df2['real_time_106999'].count()\n",
    "print(num_records)"
   ]
  },
  {
   "cell_type": "code",
   "execution_count": 15,
   "metadata": {},
   "outputs": [
    {
     "data": {
      "text/html": [
       "<div>\n",
       "<style scoped>\n",
       "    .dataframe tbody tr th:only-of-type {\n",
       "        vertical-align: middle;\n",
       "    }\n",
       "\n",
       "    .dataframe tbody tr th {\n",
       "        vertical-align: top;\n",
       "    }\n",
       "\n",
       "    .dataframe thead th {\n",
       "        text-align: right;\n",
       "    }\n",
       "</style>\n",
       "<table border=\"1\" class=\"dataframe\">\n",
       "  <thead>\n",
       "    <tr style=\"text-align: right;\">\n",
       "      <th></th>\n",
       "      <th>real_time_106999</th>\n",
       "      <th>real_data_106999</th>\n",
       "      <th>imag_data_106999</th>\n",
       "      <th>real_data_27999999</th>\n",
       "      <th>imag_data_27999999</th>\n",
       "      <th>cell_type</th>\n",
       "    </tr>\n",
       "  </thead>\n",
       "  <tbody>\n",
       "    <tr>\n",
       "      <th>count</th>\n",
       "      <td>289621.000000</td>\n",
       "      <td>289621.000000</td>\n",
       "      <td>289621.000000</td>\n",
       "      <td>289621.000000</td>\n",
       "      <td>289621.000000</td>\n",
       "      <td>289621.0</td>\n",
       "    </tr>\n",
       "    <tr>\n",
       "      <th>mean</th>\n",
       "      <td>5.187166</td>\n",
       "      <td>0.000329</td>\n",
       "      <td>0.000617</td>\n",
       "      <td>0.001723</td>\n",
       "      <td>0.000424</td>\n",
       "      <td>2.0</td>\n",
       "    </tr>\n",
       "    <tr>\n",
       "      <th>std</th>\n",
       "      <td>2.801033</td>\n",
       "      <td>0.007311</td>\n",
       "      <td>0.011412</td>\n",
       "      <td>0.009931</td>\n",
       "      <td>0.005745</td>\n",
       "      <td>0.0</td>\n",
       "    </tr>\n",
       "    <tr>\n",
       "      <th>min</th>\n",
       "      <td>0.012892</td>\n",
       "      <td>-0.043792</td>\n",
       "      <td>-0.067887</td>\n",
       "      <td>-0.039366</td>\n",
       "      <td>-0.041116</td>\n",
       "      <td>2.0</td>\n",
       "    </tr>\n",
       "    <tr>\n",
       "      <th>25%</th>\n",
       "      <td>2.402103</td>\n",
       "      <td>-0.000721</td>\n",
       "      <td>-0.000991</td>\n",
       "      <td>-0.000886</td>\n",
       "      <td>-0.000722</td>\n",
       "      <td>2.0</td>\n",
       "    </tr>\n",
       "    <tr>\n",
       "      <th>50%</th>\n",
       "      <td>5.394943</td>\n",
       "      <td>0.000015</td>\n",
       "      <td>-0.000007</td>\n",
       "      <td>-0.000117</td>\n",
       "      <td>0.000007</td>\n",
       "      <td>2.0</td>\n",
       "    </tr>\n",
       "    <tr>\n",
       "      <th>75%</th>\n",
       "      <td>7.749698</td>\n",
       "      <td>0.000770</td>\n",
       "      <td>0.001012</td>\n",
       "      <td>0.000717</td>\n",
       "      <td>0.000800</td>\n",
       "      <td>2.0</td>\n",
       "    </tr>\n",
       "    <tr>\n",
       "      <th>max</th>\n",
       "      <td>9.997930</td>\n",
       "      <td>0.052416</td>\n",
       "      <td>0.080439</td>\n",
       "      <td>0.073876</td>\n",
       "      <td>0.042112</td>\n",
       "      <td>2.0</td>\n",
       "    </tr>\n",
       "  </tbody>\n",
       "</table>\n",
       "</div>"
      ],
      "text/plain": [
       "       real_time_106999  real_data_106999  imag_data_106999  \\\n",
       "count     289621.000000     289621.000000     289621.000000   \n",
       "mean           5.187166          0.000329          0.000617   \n",
       "std            2.801033          0.007311          0.011412   \n",
       "min            0.012892         -0.043792         -0.067887   \n",
       "25%            2.402103         -0.000721         -0.000991   \n",
       "50%            5.394943          0.000015         -0.000007   \n",
       "75%            7.749698          0.000770          0.001012   \n",
       "max            9.997930          0.052416          0.080439   \n",
       "\n",
       "       real_data_27999999  imag_data_27999999  cell_type  \n",
       "count       289621.000000       289621.000000   289621.0  \n",
       "mean             0.001723            0.000424        2.0  \n",
       "std              0.009931            0.005745        0.0  \n",
       "min             -0.039366           -0.041116        2.0  \n",
       "25%             -0.000886           -0.000722        2.0  \n",
       "50%             -0.000117            0.000007        2.0  \n",
       "75%              0.000717            0.000800        2.0  \n",
       "max              0.073876            0.042112        2.0  "
      ]
     },
     "execution_count": 15,
     "metadata": {},
     "output_type": "execute_result"
    }
   ],
   "source": [
    "concat_df2['cell_type'] = [2 for x in range(num_records)]\n",
    "concat_df2.describe()"
   ]
  },
  {
   "cell_type": "code",
   "execution_count": 16,
   "metadata": {},
   "outputs": [],
   "source": [
    "frames = [concat_df, concat_df1, concat_df2]\n",
    "final_df = pd.concat(frames)"
   ]
  },
  {
   "cell_type": "code",
   "execution_count": 17,
   "metadata": {},
   "outputs": [
    {
     "data": {
      "text/html": [
       "<div>\n",
       "<style scoped>\n",
       "    .dataframe tbody tr th:only-of-type {\n",
       "        vertical-align: middle;\n",
       "    }\n",
       "\n",
       "    .dataframe tbody tr th {\n",
       "        vertical-align: top;\n",
       "    }\n",
       "\n",
       "    .dataframe thead th {\n",
       "        text-align: right;\n",
       "    }\n",
       "</style>\n",
       "<table border=\"1\" class=\"dataframe\">\n",
       "  <thead>\n",
       "    <tr style=\"text-align: right;\">\n",
       "      <th></th>\n",
       "      <th>real_time_106999</th>\n",
       "      <th>real_data_106999</th>\n",
       "      <th>imag_data_106999</th>\n",
       "      <th>real_data_27999999</th>\n",
       "      <th>imag_data_27999999</th>\n",
       "      <th>cell_type</th>\n",
       "    </tr>\n",
       "  </thead>\n",
       "  <tbody>\n",
       "    <tr>\n",
       "      <th>count</th>\n",
       "      <td>1.101253e+06</td>\n",
       "      <td>1.101253e+06</td>\n",
       "      <td>1.101253e+06</td>\n",
       "      <td>1.101253e+06</td>\n",
       "      <td>1.101253e+06</td>\n",
       "      <td>1.101253e+06</td>\n",
       "    </tr>\n",
       "    <tr>\n",
       "      <th>mean</th>\n",
       "      <td>5.120479e+00</td>\n",
       "      <td>1.832169e-04</td>\n",
       "      <td>4.627595e-04</td>\n",
       "      <td>9.900060e-04</td>\n",
       "      <td>1.615819e-04</td>\n",
       "      <td>8.794455e-01</td>\n",
       "    </tr>\n",
       "    <tr>\n",
       "      <th>std</th>\n",
       "      <td>2.765931e+00</td>\n",
       "      <td>4.734893e-03</td>\n",
       "      <td>7.720983e-03</td>\n",
       "      <td>6.235154e-03</td>\n",
       "      <td>3.952023e-03</td>\n",
       "      <td>7.949882e-01</td>\n",
       "    </tr>\n",
       "    <tr>\n",
       "      <th>min</th>\n",
       "      <td>9.220000e-03</td>\n",
       "      <td>-4.379175e-02</td>\n",
       "      <td>-6.788670e-02</td>\n",
       "      <td>-3.936649e-02</td>\n",
       "      <td>-4.111566e-02</td>\n",
       "      <td>0.000000e+00</td>\n",
       "    </tr>\n",
       "    <tr>\n",
       "      <th>25%</th>\n",
       "      <td>2.946435e+00</td>\n",
       "      <td>-7.537055e-04</td>\n",
       "      <td>-9.647404e-04</td>\n",
       "      <td>-7.703195e-04</td>\n",
       "      <td>-6.926627e-04</td>\n",
       "      <td>0.000000e+00</td>\n",
       "    </tr>\n",
       "    <tr>\n",
       "      <th>50%</th>\n",
       "      <td>5.077063e+00</td>\n",
       "      <td>6.025665e-06</td>\n",
       "      <td>1.718565e-05</td>\n",
       "      <td>-3.546471e-05</td>\n",
       "      <td>1.925593e-05</td>\n",
       "      <td>1.000000e+00</td>\n",
       "    </tr>\n",
       "    <tr>\n",
       "      <th>75%</th>\n",
       "      <td>7.489495e+00</td>\n",
       "      <td>7.731317e-04</td>\n",
       "      <td>1.018462e-03</td>\n",
       "      <td>7.795763e-04</td>\n",
       "      <td>7.712545e-04</td>\n",
       "      <td>2.000000e+00</td>\n",
       "    </tr>\n",
       "    <tr>\n",
       "      <th>max</th>\n",
       "      <td>9.999300e+00</td>\n",
       "      <td>5.241596e-02</td>\n",
       "      <td>8.043873e-02</td>\n",
       "      <td>7.387561e-02</td>\n",
       "      <td>4.211157e-02</td>\n",
       "      <td>2.000000e+00</td>\n",
       "    </tr>\n",
       "  </tbody>\n",
       "</table>\n",
       "</div>"
      ],
      "text/plain": [
       "       real_time_106999  real_data_106999  imag_data_106999  \\\n",
       "count      1.101253e+06      1.101253e+06      1.101253e+06   \n",
       "mean       5.120479e+00      1.832169e-04      4.627595e-04   \n",
       "std        2.765931e+00      4.734893e-03      7.720983e-03   \n",
       "min        9.220000e-03     -4.379175e-02     -6.788670e-02   \n",
       "25%        2.946435e+00     -7.537055e-04     -9.647404e-04   \n",
       "50%        5.077063e+00      6.025665e-06      1.718565e-05   \n",
       "75%        7.489495e+00      7.731317e-04      1.018462e-03   \n",
       "max        9.999300e+00      5.241596e-02      8.043873e-02   \n",
       "\n",
       "       real_data_27999999  imag_data_27999999     cell_type  \n",
       "count        1.101253e+06        1.101253e+06  1.101253e+06  \n",
       "mean         9.900060e-04        1.615819e-04  8.794455e-01  \n",
       "std          6.235154e-03        3.952023e-03  7.949882e-01  \n",
       "min         -3.936649e-02       -4.111566e-02  0.000000e+00  \n",
       "25%         -7.703195e-04       -6.926627e-04  0.000000e+00  \n",
       "50%         -3.546471e-05        1.925593e-05  1.000000e+00  \n",
       "75%          7.795763e-04        7.712545e-04  2.000000e+00  \n",
       "max          7.387561e-02        4.211157e-02  2.000000e+00  "
      ]
     },
     "execution_count": 17,
     "metadata": {},
     "output_type": "execute_result"
    }
   ],
   "source": [
    "final_df.describe()"
   ]
  },
  {
   "cell_type": "code",
   "execution_count": 18,
   "metadata": {},
   "outputs": [
    {
     "name": "stdout",
     "output_type": "stream",
     "text": [
      "                    real_time_106999  real_data_106999  imag_data_106999  \\\n",
      "real_time_106999            1.000000         -0.000679         -0.001237   \n",
      "real_data_106999           -0.000679          1.000000          0.983339   \n",
      "imag_data_106999           -0.001237          0.983339          1.000000   \n",
      "real_data_27999999         -0.005224          0.933277          0.943511   \n",
      "imag_data_27999999         -0.003626         -0.953801         -0.957533   \n",
      "cell_type                   0.007922          0.020980          0.024067   \n",
      "\n",
      "                    real_data_27999999  imag_data_27999999  cell_type  \n",
      "real_time_106999             -0.005224           -0.003626   0.007922  \n",
      "real_data_106999              0.933277           -0.953801   0.020980  \n",
      "imag_data_106999              0.943511           -0.957533   0.024067  \n",
      "real_data_27999999            1.000000           -0.878623   0.082289  \n",
      "imag_data_27999999           -0.878623            1.000000   0.028896  \n",
      "cell_type                     0.082289            0.028896   1.000000  \n"
     ]
    }
   ],
   "source": [
    "# Get the correlation matrix\n",
    "corrMatrix = final_df.corr()\n",
    "print(corrMatrix)"
   ]
  },
  {
   "cell_type": "code",
   "execution_count": 19,
   "metadata": {},
   "outputs": [
    {
     "data": {
      "text/plain": [
       "<matplotlib.axes._subplots.AxesSubplot at 0x1a15ddf898>"
      ]
     },
     "execution_count": 19,
     "metadata": {},
     "output_type": "execute_result"
    },
    {
     "data": {
      "image/png": "[encoded data removed]",
      "text/plain": [
       "<Figure size 432x288 with 2 Axes>"
      ]
     },
     "metadata": {
      "needs_background": "light"
     },
     "output_type": "display_data"
    }
   ],
   "source": [
    "sns.heatmap(corrMatrix, annot = True, cmap = 'coolwarm')"
   ]
  },
  {
   "cell_type": "code",
   "execution_count": 20,
   "metadata": {},
   "outputs": [
    {
     "data": {
      "text/html": [
       "<div>\n",
       "<style scoped>\n",
       "    .dataframe tbody tr th:only-of-type {\n",
       "        vertical-align: middle;\n",
       "    }\n",
       "\n",
       "    .dataframe tbody tr th {\n",
       "        vertical-align: top;\n",
       "    }\n",
       "\n",
       "    .dataframe thead th {\n",
       "        text-align: right;\n",
       "    }\n",
       "</style>\n",
       "<table border=\"1\" class=\"dataframe\">\n",
       "  <thead>\n",
       "    <tr style=\"text-align: right;\">\n",
       "      <th></th>\n",
       "      <th>real_time_106999</th>\n",
       "      <th>real_data_106999</th>\n",
       "      <th>imag_data_106999</th>\n",
       "      <th>real_data_27999999</th>\n",
       "      <th>imag_data_27999999</th>\n",
       "      <th>cell_type</th>\n",
       "    </tr>\n",
       "  </thead>\n",
       "  <tbody>\n",
       "    <tr>\n",
       "      <th>0</th>\n",
       "      <td>9.797785</td>\n",
       "      <td>-0.001080</td>\n",
       "      <td>0.000197</td>\n",
       "      <td>-0.000086</td>\n",
       "      <td>-0.000215</td>\n",
       "      <td>0</td>\n",
       "    </tr>\n",
       "    <tr>\n",
       "      <th>1</th>\n",
       "      <td>9.797788</td>\n",
       "      <td>-0.001103</td>\n",
       "      <td>0.000159</td>\n",
       "      <td>-0.000018</td>\n",
       "      <td>-0.000275</td>\n",
       "      <td>0</td>\n",
       "    </tr>\n",
       "    <tr>\n",
       "      <th>2</th>\n",
       "      <td>9.797790</td>\n",
       "      <td>-0.001122</td>\n",
       "      <td>0.000124</td>\n",
       "      <td>0.000066</td>\n",
       "      <td>-0.000342</td>\n",
       "      <td>0</td>\n",
       "    </tr>\n",
       "    <tr>\n",
       "      <th>3</th>\n",
       "      <td>9.797793</td>\n",
       "      <td>-0.001135</td>\n",
       "      <td>0.000093</td>\n",
       "      <td>0.000161</td>\n",
       "      <td>-0.000413</td>\n",
       "      <td>0</td>\n",
       "    </tr>\n",
       "    <tr>\n",
       "      <th>4</th>\n",
       "      <td>9.797795</td>\n",
       "      <td>-0.001143</td>\n",
       "      <td>0.000070</td>\n",
       "      <td>0.000259</td>\n",
       "      <td>-0.000481</td>\n",
       "      <td>0</td>\n",
       "    </tr>\n",
       "  </tbody>\n",
       "</table>\n",
       "</div>"
      ],
      "text/plain": [
       "   real_time_106999  real_data_106999  imag_data_106999  real_data_27999999  \\\n",
       "0          9.797785         -0.001080          0.000197           -0.000086   \n",
       "1          9.797788         -0.001103          0.000159           -0.000018   \n",
       "2          9.797790         -0.001122          0.000124            0.000066   \n",
       "3          9.797793         -0.001135          0.000093            0.000161   \n",
       "4          9.797795         -0.001143          0.000070            0.000259   \n",
       "\n",
       "   imag_data_27999999  cell_type  \n",
       "0           -0.000215          0  \n",
       "1           -0.000275          0  \n",
       "2           -0.000342          0  \n",
       "3           -0.000413          0  \n",
       "4           -0.000481          0  "
      ]
     },
     "execution_count": 20,
     "metadata": {},
     "output_type": "execute_result"
    }
   ],
   "source": [
    "final_df.head()"
   ]
  },
  {
   "cell_type": "code",
   "execution_count": 21,
   "metadata": {},
   "outputs": [
    {
     "name": "stdout",
     "output_type": "stream",
     "text": [
      "real_time_106999      0\n",
      "real_data_106999      0\n",
      "imag_data_106999      0\n",
      "real_data_27999999    0\n",
      "imag_data_27999999    0\n",
      "cell_type             0\n",
      "dtype: int64\n"
     ]
    }
   ],
   "source": [
    "# Find out if there is missing data\n",
    "print(final_df.isnull().sum())"
   ]
  },
  {
   "cell_type": "markdown",
   "metadata": {},
   "source": [
    "### Observation: There is no missing data"
   ]
  },
  {
   "cell_type": "code",
   "execution_count": 22,
   "metadata": {},
   "outputs": [
    {
     "data": {
      "text/plain": [
       "Index(['real_time_106999', 'real_data_106999', 'imag_data_106999',\n",
       "       'real_data_27999999', 'imag_data_27999999', 'cell_type'],\n",
       "      dtype='object')"
      ]
     },
     "execution_count": 22,
     "metadata": {},
     "output_type": "execute_result"
    }
   ],
   "source": [
    "final_df.columns"
   ]
  },
  {
   "cell_type": "code",
   "execution_count": 23,
   "metadata": {},
   "outputs": [
    {
     "data": {
      "text/plain": [
       "<matplotlib.axes._subplots.AxesSubplot at 0x1a160449e8>"
      ]
     },
     "execution_count": 23,
     "metadata": {},
     "output_type": "execute_result"
    },
    {
     "data": {
      "image/png": "[encoded data removed]",
      "text/plain": [
       "<Figure size 432x288 with 1 Axes>"
      ]
     },
     "metadata": {
      "needs_background": "light"
     },
     "output_type": "display_data"
    }
   ],
   "source": [
    "final_df.plot.box()"
   ]
  },
  {
   "cell_type": "code",
   "execution_count": 24,
   "metadata": {},
   "outputs": [
    {
     "data": {
      "image/png": "[encoded data removed]",
      "text/plain": [
       "<Figure size 1440x720 with 1 Axes>"
      ]
     },
     "metadata": {
      "needs_background": "light"
     },
     "output_type": "display_data"
    }
   ],
   "source": [
    "# Drop real_time_106999\n",
    "\n",
    "boxplot = final_df.boxplot(column = ['real_data_106999', 'imag_data_106999','real_data_27999999', \n",
    "                    'imag_data_27999999', 'cell_type'], figsize = (20, 10))"
   ]
  },
  {
   "cell_type": "code",
   "execution_count": 25,
   "metadata": {},
   "outputs": [],
   "source": [
    "#Preprocessing for data\n",
    "from sklearn.preprocessing import StandardScaler\n",
    "scaler = StandardScaler()\n"
   ]
  },
  {
   "cell_type": "code",
   "execution_count": 26,
   "metadata": {},
   "outputs": [],
   "source": [
    "# Do the scaler fit for all variables except cell_type (i.e. the dependent variable)\n",
    "# and real_time_106999\n",
    "final_df = final_df[['real_data_106999', 'imag_data_106999','real_data_27999999', \n",
    "                    'imag_data_27999999', 'cell_type']]"
   ]
  },
  {
   "cell_type": "code",
   "execution_count": 27,
   "metadata": {},
   "outputs": [
    {
     "data": {
      "text/plain": [
       "Index(['real_data_106999', 'imag_data_106999', 'real_data_27999999',\n",
       "       'imag_data_27999999', 'cell_type'],\n",
       "      dtype='object')"
      ]
     },
     "execution_count": 27,
     "metadata": {},
     "output_type": "execute_result"
    }
   ],
   "source": [
    "final_df.columns"
   ]
  },
  {
   "cell_type": "code",
   "execution_count": 28,
   "metadata": {},
   "outputs": [],
   "source": [
    "# Separate the pandas dataframe into input and output components\n",
    "X = final_df[['real_data_106999', 'imag_data_106999', 'real_data_27999999','imag_data_27999999' ]]\n",
    "Y = final_df['cell_type']\n"
   ]
  },
  {
   "cell_type": "code",
   "execution_count": 29,
   "metadata": {},
   "outputs": [
    {
     "data": {
      "text/plain": [
       "StandardScaler(copy=True, with_mean=True, with_std=True)"
      ]
     },
     "execution_count": 29,
     "metadata": {},
     "output_type": "execute_result"
    }
   ],
   "source": [
    "scaler.fit(X)"
   ]
  },
  {
   "cell_type": "code",
   "execution_count": 30,
   "metadata": {},
   "outputs": [],
   "source": [
    "scaled_features = scaler.transform(final_df[['real_data_106999', 'imag_data_106999',\n",
    "                                             'real_data_27999999','imag_data_27999999']])"
   ]
  },
  {
   "cell_type": "code",
   "execution_count": 31,
   "metadata": {},
   "outputs": [
    {
     "data": {
      "text/html": [
       "<div>\n",
       "<style scoped>\n",
       "    .dataframe tbody tr th:only-of-type {\n",
       "        vertical-align: middle;\n",
       "    }\n",
       "\n",
       "    .dataframe tbody tr th {\n",
       "        vertical-align: top;\n",
       "    }\n",
       "\n",
       "    .dataframe thead th {\n",
       "        text-align: right;\n",
       "    }\n",
       "</style>\n",
       "<table border=\"1\" class=\"dataframe\">\n",
       "  <thead>\n",
       "    <tr style=\"text-align: right;\">\n",
       "      <th></th>\n",
       "      <th>real_data_106999</th>\n",
       "      <th>imag_data_106999</th>\n",
       "      <th>real_data_27999999</th>\n",
       "      <th>imag_data_27999999</th>\n",
       "    </tr>\n",
       "  </thead>\n",
       "  <tbody>\n",
       "    <tr>\n",
       "      <th>0</th>\n",
       "      <td>-0.266839</td>\n",
       "      <td>-0.034465</td>\n",
       "      <td>-0.172628</td>\n",
       "      <td>-0.095304</td>\n",
       "    </tr>\n",
       "    <tr>\n",
       "      <th>1</th>\n",
       "      <td>-0.271733</td>\n",
       "      <td>-0.039367</td>\n",
       "      <td>-0.161736</td>\n",
       "      <td>-0.110536</td>\n",
       "    </tr>\n",
       "    <tr>\n",
       "      <th>2</th>\n",
       "      <td>-0.275579</td>\n",
       "      <td>-0.043911</td>\n",
       "      <td>-0.148214</td>\n",
       "      <td>-0.127548</td>\n",
       "    </tr>\n",
       "    <tr>\n",
       "      <th>3</th>\n",
       "      <td>-0.278400</td>\n",
       "      <td>-0.047841</td>\n",
       "      <td>-0.132992</td>\n",
       "      <td>-0.145318</td>\n",
       "    </tr>\n",
       "    <tr>\n",
       "      <th>4</th>\n",
       "      <td>-0.280180</td>\n",
       "      <td>-0.050887</td>\n",
       "      <td>-0.117244</td>\n",
       "      <td>-0.162631</td>\n",
       "    </tr>\n",
       "  </tbody>\n",
       "</table>\n",
       "</div>"
      ],
      "text/plain": [
       "   real_data_106999  imag_data_106999  real_data_27999999  imag_data_27999999\n",
       "0         -0.266839         -0.034465           -0.172628           -0.095304\n",
       "1         -0.271733         -0.039367           -0.161736           -0.110536\n",
       "2         -0.275579         -0.043911           -0.148214           -0.127548\n",
       "3         -0.278400         -0.047841           -0.132992           -0.145318\n",
       "4         -0.280180         -0.050887           -0.117244           -0.162631"
      ]
     },
     "execution_count": 31,
     "metadata": {},
     "output_type": "execute_result"
    }
   ],
   "source": [
    "df_feat=pd.DataFrame(scaled_features, columns = final_df.columns[:-1] )\n",
    "df_feat.head()"
   ]
  },
  {
   "cell_type": "markdown",
   "metadata": {},
   "source": [
    "### Our data is fitted and scaled and now it is ready"
   ]
  },
  {
   "cell_type": "code",
   "execution_count": 32,
   "metadata": {},
   "outputs": [],
   "source": [
    "# Define X and Y\n",
    "X = df_feat\n",
    "y = final_df['cell_type']"
   ]
  },
  {
   "cell_type": "code",
   "execution_count": 33,
   "metadata": {},
   "outputs": [],
   "source": [
    "# import train test split and metrics for evaluation\n",
    "from sklearn.model_selection import train_test_split\n",
    "from sklearn.metrics import confusion_matrix, classification_report "
   ]
  },
  {
   "cell_type": "code",
   "execution_count": 34,
   "metadata": {},
   "outputs": [],
   "source": [
    "X_train, X_test, y_train, y_test = train_test_split(X, y, test_size=0.3, random_state=101)"
   ]
  },
  {
   "cell_type": "code",
   "execution_count": 35,
   "metadata": {},
   "outputs": [],
   "source": [
    "# Decision Tree Classifier\n",
    "from sklearn.tree import DecisionTreeClassifier\n",
    "classifier = DecisionTreeClassifier()"
   ]
  },
  {
   "cell_type": "code",
   "execution_count": 36,
   "metadata": {},
   "outputs": [
    {
     "data": {
      "text/plain": [
       "DecisionTreeClassifier(class_weight=None, criterion='gini', max_depth=None,\n",
       "                       max_features=None, max_leaf_nodes=None,\n",
       "                       min_impurity_decrease=0.0, min_impurity_split=None,\n",
       "                       min_samples_leaf=1, min_samples_split=2,\n",
       "                       min_weight_fraction_leaf=0.0, presort=False,\n",
       "                       random_state=None, splitter='best')"
      ]
     },
     "execution_count": 36,
     "metadata": {},
     "output_type": "execute_result"
    }
   ],
   "source": [
    "classifier.fit(X_train, y_train)"
   ]
  },
  {
   "cell_type": "code",
   "execution_count": 37,
   "metadata": {},
   "outputs": [],
   "source": [
    "y_pred = classifier.predict(X_test)"
   ]
  },
  {
   "cell_type": "code",
   "execution_count": 38,
   "metadata": {},
   "outputs": [
    {
     "name": "stdout",
     "output_type": "stream",
     "text": [
      "              precision    recall  f1-score   support\n",
      "\n",
      "           0       0.63      0.66      0.64    126569\n",
      "           1       0.57      0.55      0.56    116658\n",
      "           2       0.51      0.49      0.50     87149\n",
      "\n",
      "    accuracy                           0.58    330376\n",
      "   macro avg       0.57      0.57      0.57    330376\n",
      "weighted avg       0.58      0.58      0.58    330376\n",
      "\n"
     ]
    }
   ],
   "source": [
    "#Summary of predictions made by the Decision Tree Classifier\n",
    "print(classification_report(y_test, y_pred))"
   ]
  },
  {
   "cell_type": "code",
   "execution_count": 39,
   "metadata": {},
   "outputs": [
    {
     "name": "stdout",
     "output_type": "stream",
     "text": [
      "[[83022 24990 18557]\n",
      " [28713 64696 23249]\n",
      " [20956 23269 42924]]\n"
     ]
    }
   ],
   "source": [
    "print(confusion_matrix(y_test, y_pred))"
   ]
  },
  {
   "cell_type": "code",
   "execution_count": 40,
   "metadata": {},
   "outputs": [
    {
     "name": "stdout",
     "output_type": "stream",
     "text": [
      "accuracy =  0.5770455481027678\n"
     ]
    }
   ],
   "source": [
    "from sklearn.metrics import accuracy_score\n",
    "print('accuracy = ', accuracy_score(y_pred, y_test))"
   ]
  },
  {
   "cell_type": "code",
   "execution_count": 41,
   "metadata": {},
   "outputs": [
    {
     "data": {
      "text/plain": [
       "GaussianNB(priors=None, var_smoothing=1e-09)"
      ]
     },
     "execution_count": 41,
     "metadata": {},
     "output_type": "execute_result"
    }
   ],
   "source": [
    "#Naive Bayes\n",
    "from sklearn.naive_bayes import GaussianNB\n",
    "classifier = GaussianNB()\n",
    "classifier.fit(X_train, y_train)"
   ]
  },
  {
   "cell_type": "code",
   "execution_count": 42,
   "metadata": {},
   "outputs": [],
   "source": [
    "y_pred =classifier.predict(X_test)"
   ]
  },
  {
   "cell_type": "code",
   "execution_count": 43,
   "metadata": {},
   "outputs": [
    {
     "name": "stdout",
     "output_type": "stream",
     "text": [
      "              precision    recall  f1-score   support\n",
      "\n",
      "           0       0.42      0.81      0.55    126569\n",
      "           1       0.29      0.10      0.15    116658\n",
      "           2       0.48      0.24      0.32     87149\n",
      "\n",
      "    accuracy                           0.41    330376\n",
      "   macro avg       0.40      0.39      0.34    330376\n",
      "weighted avg       0.39      0.41      0.35    330376\n",
      "\n"
     ]
    }
   ],
   "source": [
    "#Summary of the predictions made by the classifier\n",
    "print(classification_report(y_test, y_pred))"
   ]
  },
  {
   "cell_type": "code",
   "execution_count": 44,
   "metadata": {},
   "outputs": [
    {
     "name": "stdout",
     "output_type": "stream",
     "text": [
      "[[103062  23174    333]\n",
      " [ 82654  11777  22227]\n",
      " [ 60104   5901  21144]]\n"
     ]
    }
   ],
   "source": [
    "print(confusion_matrix(y_test, y_pred))"
   ]
  },
  {
   "cell_type": "code",
   "execution_count": 45,
   "metadata": {},
   "outputs": [
    {
     "name": "stdout",
     "output_type": "stream",
     "text": [
      "accuracy =  0.4116007216020534\n"
     ]
    }
   ],
   "source": [
    "from sklearn.metrics import accuracy_score\n",
    "print('accuracy = ', accuracy_score(y_pred, y_test))"
   ]
  },
  {
   "cell_type": "code",
   "execution_count": 46,
   "metadata": {},
   "outputs": [
    {
     "name": "stdout",
     "output_type": "stream",
     "text": [
      "K-Nearest Neighbors\n",
      "n_neighbors =  10\n",
      "              precision    recall  f1-score   support\n",
      "\n",
      "           0       0.58      0.74      0.65    126569\n",
      "           1       0.60      0.56      0.58    116658\n",
      "           2       0.61      0.42      0.50     87149\n",
      "\n",
      "    accuracy                           0.59    330376\n",
      "   macro avg       0.60      0.57      0.58    330376\n",
      "weighted avg       0.60      0.59      0.58    330376\n",
      "\n",
      "[[93448 22362 10759]\n",
      " [38934 65591 12133]\n",
      " [28464 22157 36528]]\n",
      "-------------------------------------------\n",
      "n_neighbors =  20\n",
      "              precision    recall  f1-score   support\n",
      "\n",
      "           0       0.57      0.75      0.65    126569\n",
      "           1       0.59      0.56      0.57    116658\n",
      "           2       0.64      0.40      0.49     87149\n",
      "\n",
      "    accuracy                           0.59    330376\n",
      "   macro avg       0.60      0.57      0.57    330376\n",
      "weighted avg       0.60      0.59      0.58    330376\n",
      "\n",
      "[[94726 22751  9092]\n",
      " [41002 65058 10598]\n",
      " [30561 21955 34633]]\n",
      "-------------------------------------------\n",
      "n_neighbors =  30\n",
      "              precision    recall  f1-score   support\n",
      "\n",
      "           0       0.56      0.75      0.64    126569\n",
      "           1       0.59      0.55      0.57    116658\n",
      "           2       0.64      0.39      0.48     87149\n",
      "\n",
      "    accuracy                           0.58    330376\n",
      "   macro avg       0.60      0.56      0.56    330376\n",
      "weighted avg       0.59      0.58      0.57    330376\n",
      "\n",
      "[[94880 22885  8804]\n",
      " [42271 64356 10031]\n",
      " [31605 21934 33610]]\n",
      "-------------------------------------------\n",
      "n_neighbors =  40\n",
      "              precision    recall  f1-score   support\n",
      "\n",
      "           0       0.56      0.75      0.64    126569\n",
      "           1       0.59      0.55      0.57    116658\n",
      "           2       0.65      0.38      0.48     87149\n",
      "\n",
      "    accuracy                           0.58    330376\n",
      "   macro avg       0.60      0.56      0.56    330376\n",
      "weighted avg       0.59      0.58      0.57    330376\n",
      "\n",
      "[[95207 23179  8183]\n",
      " [42858 64375  9425]\n",
      " [32379 22087 32683]]\n",
      "-------------------------------------------\n",
      "n_neighbors =  50\n",
      "              precision    recall  f1-score   support\n",
      "\n",
      "           0       0.55      0.76      0.64    126569\n",
      "           1       0.59      0.55      0.57    116658\n",
      "           2       0.66      0.36      0.47     87149\n",
      "\n",
      "    accuracy                           0.58    330376\n",
      "   macro avg       0.60      0.56      0.56    330376\n",
      "weighted avg       0.59      0.58      0.57    330376\n",
      "\n",
      "[[96034 23034  7501]\n",
      " [43943 63921  8794]\n",
      " [33276 22125 31748]]\n",
      "-------------------------------------------\n",
      "n_neighbors =  60\n",
      "              precision    recall  f1-score   support\n",
      "\n",
      "           0       0.55      0.76      0.64    126569\n",
      "           1       0.58      0.54      0.56    116658\n",
      "           2       0.66      0.36      0.46     87149\n",
      "\n",
      "    accuracy                           0.58    330376\n",
      "   macro avg       0.60      0.55      0.56    330376\n",
      "weighted avg       0.59      0.58      0.57    330376\n",
      "\n",
      "[[96297 22926  7346]\n",
      " [44697 63430  8531]\n",
      " [33837 22155 31157]]\n",
      "-------------------------------------------\n",
      "n_neighbors =  70\n",
      "              precision    recall  f1-score   support\n",
      "\n",
      "           0       0.55      0.76      0.64    126569\n",
      "           1       0.58      0.54      0.56    116658\n",
      "           2       0.67      0.35      0.46     87149\n",
      "\n",
      "    accuracy                           0.58    330376\n",
      "   macro avg       0.60      0.55      0.55    330376\n",
      "weighted avg       0.59      0.58      0.56    330376\n",
      "\n",
      "[[96607 23033  6929]\n",
      " [45331 63212  8115]\n",
      " [34416 22093 30640]]\n",
      "-------------------------------------------\n",
      "n_neighbors =  80\n",
      "              precision    recall  f1-score   support\n",
      "\n",
      "           0       0.54      0.77      0.64    126569\n",
      "           1       0.58      0.54      0.56    116658\n",
      "           2       0.68      0.34      0.46     87149\n",
      "\n",
      "    accuracy                           0.57    330376\n",
      "   macro avg       0.60      0.55      0.55    330376\n",
      "weighted avg       0.59      0.57      0.56    330376\n",
      "\n",
      "[[97005 23013  6551]\n",
      " [45997 62868  7793]\n",
      " [35085 22025 30039]]\n",
      "-------------------------------------------\n",
      "n_neighbors =  100\n",
      "              precision    recall  f1-score   support\n",
      "\n",
      "           0       0.54      0.77      0.64    126569\n",
      "           1       0.58      0.53      0.56    116658\n",
      "           2       0.69      0.34      0.45     87149\n",
      "\n",
      "    accuracy                           0.57    330376\n",
      "   macro avg       0.60      0.55      0.55    330376\n",
      "weighted avg       0.59      0.57      0.56    330376\n",
      "\n",
      "[[97516 23033  6020]\n",
      " [47024 62373  7261]\n",
      " [35910 21953 29286]]\n",
      "-------------------------------------------\n"
     ]
    }
   ],
   "source": [
    "#K-Nearest Neighbors\n",
    "from sklearn.neighbors import KNeighborsClassifier\n",
    "\n",
    "neighbor_list = [10, 20, 30, 40, 50, 60, 70, 80, 100]\n",
    "accuracy_list = []\n",
    "\n",
    "print('K-Nearest Neighbors')\n",
    "for neighbor in neighbor_list:\n",
    "    knn_model = KNeighborsClassifier(n_neighbors = neighbor)\n",
    "    knn_model.fit(X_train, y_train)\n",
    "    y_pred = knn_model.predict(X_test)\n",
    "    \n",
    "    print(\"n_neighbors = \", neighbor)\n",
    "    print(classification_report(y_test, y_pred))\n",
    "    print(confusion_matrix(y_test, y_pred))\n",
    "    accuracy = accuracy_score(y_pred, y_test)\n",
    "    accuracy_list.append(accuracy_score)\n",
    "    print(\"-------------------------------------------\")\n"
   ]
  },
  {
   "cell_type": "code",
   "execution_count": 47,
   "metadata": {},
   "outputs": [
    {
     "name": "stdout",
     "output_type": "stream",
     "text": [
      "K_Nearest Neighbors Results\n",
      "n_neighbors accuracy\n",
      "10 0.5726051529166768\n",
      "20 0.5726051529166768\n",
      "30 0.5726051529166768\n",
      "40 0.5726051529166768\n",
      "50 0.5726051529166768\n",
      "60 0.5726051529166768\n",
      "70 0.5726051529166768\n",
      "80 0.5726051529166768\n",
      "100 0.5726051529166768\n"
     ]
    }
   ],
   "source": [
    "print('K_Nearest Neighbors Results')\n",
    "print('n_neighbors accuracy')\n",
    "n = len(neighbor_list)\n",
    "for i in range(n):\n",
    "    print(neighbor_list[i], accuracy)\n",
    "    "
   ]
  },
  {
   "cell_type": "markdown",
   "metadata": {},
   "source": [
    "### The accuracy seems to be the same for all values of n_neighbors.\n",
    "### Looking at the classification report, \n",
    "### n_neighbors = 10 seems to be have weighted average accuracy of 0.6.\n",
    "\n"
   ]
  },
  {
   "cell_type": "code",
   "execution_count": null,
   "metadata": {},
   "outputs": [
    {
     "name": "stdout",
     "output_type": "stream",
     "text": [
      "Gradient Boosting Regressor\n",
      "\n",
      "1 0.05 10 0.5005947771174909 0.4987953120081362\n",
      "\n",
      "2 0.1 10 0.5010942082848496 0.49925539385427514\n",
      "\n",
      "3 0.15 10 0.5006038576841702 0.4988225536963944\n",
      "\n",
      "4 0.2 10 0.5013627336137931 0.49945516623483543\n",
      "\n",
      "5 0.25 10 0.5027637353300203 0.5006931496234593\n",
      "\n",
      "6 0.05 20 0.501406839223378 0.49951570331985373\n",
      "\n",
      "7 0.1 20 0.5021255012148501 0.5001119936072839\n",
      "\n",
      "8 0.15 20 0.5060833310631917 0.5040680921132286\n",
      "\n",
      "9 0.2 20 0.5090500819196837 0.5068830665665787\n",
      "\n",
      "10 0.25 20 0.512130988471572 0.5099825653195147\n",
      "\n",
      "11 0.05 30 0.5016468256284725 0.4996186163643848\n",
      "\n",
      "12 0.1 30 0.5050792798332289 0.5028634041213648\n",
      "\n",
      "13 0.15 30 0.5104290308311183 0.5083601714410247\n",
      "\n",
      "14 0.2 30 0.5135851763640633 0.5112296292708913\n",
      "\n",
      "15 0.25 30 0.5212349051794255 0.5186121267888708\n",
      "\n",
      "16 0.05 40 0.5029440494397939 0.5008898951497688\n",
      "\n",
      "17 0.1 40 0.5085350840665891 0.5064260115746907\n",
      "\n",
      "18 0.15 40 0.5158695874958003 0.5135603070440952\n",
      "\n",
      "19 0.2 40 0.5201452371779155 0.5179492457079207\n",
      "\n",
      "20 0.25 40 0.5276613519407117 0.5248353391287502\n",
      "\n",
      "21 0.05 50 0.504857454561493 0.5027695716395865\n",
      "\n",
      "22 0.1 50 0.511150287270213 0.5088717098094293\n",
      "\n",
      "23 0.15 50 0.520138751058859 0.5173953313800034\n",
      "\n",
      "24 0.2 50 0.5254820159376917 0.5228073467806378\n",
      "\n",
      "25 0.25 50 0.5316295595795438 0.5285916652541347\n",
      "\n",
      "26 0.05 75 0.5085999452571551 0.5063866624694288\n",
      "\n",
      "27 0.1 75 0.5194551141102925 0.5167657456958132\n",
      "\n",
      "28 0.15 75 0.5297433961578825 0.5268784657481173\n",
      "\n",
      "29 0.2 75 0.5346806299837717 0.5314823110637577\n",
      "\n",
      "30 0.25 75 0.53819351206483 0.5349813545778144\n",
      "\n",
      "31 0.05 100 0.5116678795709303 0.5093620601980774\n",
      "\n",
      "32 0.1 100 0.5284786029418441 0.5258342010315519\n",
      "\n"
     ]
    }
   ],
   "source": [
    "from sklearn.ensemble import GradientBoostingClassifier\n",
    "\n",
    "learning_rate_list = [0.05, 0.1, 0.15, 0.2, 0.25]\n",
    "n_estimators_list = [10, 20, 30, 40, 50, 75, 100]\n",
    "\n",
    "#initialize result list\n",
    "res_learning_rate = []\n",
    "res_n_estimators = []\n",
    "res_train_accuracy = []\n",
    "res_test_accuracy = []\n",
    "count = 0\n",
    "\n",
    "print('Gradient Boosting Regressor\\n')\n",
    "for estimator in n_estimators_list:\n",
    "    for rate in learning_rate_list:\n",
    "        gb = GradientBoostingClassifier(n_estimators = estimator, learning_rate = rate,\n",
    "                                       max_features = 2, max_depth = 2, random_state = 101)\n",
    "        gb.fit(X_train, y_train)\n",
    "        res_learning_rate.append(rate)\n",
    "        res_n_estimators.append(estimator)\n",
    "        gb_train_score = gb.score(X_train, y_train)\n",
    "        res_train_accuracy.append(gb_train_score)\n",
    "        gb_test_score = gb.score(X_test, y_test)                         \n",
    "        res_test_accuracy.append(gb_test_score)\n",
    "        count += 1\n",
    "        print(count, rate, estimator, gb_train_score, gb_test_score)\n",
    "        print()\n",
    "                                  \n",
    "                                  \n",
    "        \n",
    "        "
   ]
  },
  {
   "cell_type": "code",
   "execution_count": null,
   "metadata": {},
   "outputs": [],
   "source": [
    "gb_result_df = pd.DataFrame({'n_estimators': res_n_estimators, \n",
    "                            'learning_rate': res_learning_rate,\n",
    "                            'train_accuracy': res_train_accuracy,\n",
    "                            'test_accuracy': res_test_accuracy})\n",
    "gb_result_df.head()"
   ]
  },
  {
   "cell_type": "code",
   "execution_count": null,
   "metadata": {},
   "outputs": [],
   "source": [
    "max_test_accuracy = gb_result_df['test_accuracy'].max()\n",
    "print(gb_result_df[gb_result_df['test_accuracy'] == max_test_accuracy])"
   ]
  },
  {
   "cell_type": "code",
   "execution_count": 106,
   "metadata": {},
   "outputs": [],
   "source": [
    "# Read the data for cell Mixed_Cells_Type_1\n",
    "\n",
    "# input_dir_dvv is the file location for dvv data folder\n",
    "# input_dir_dv is the file location for dv data folder\n",
    "\n",
    "\n",
    "input_dir_dvv = \"/Users/jayashrijagannathan/Documents/chronus_project/AnalyzeDataSet2/Mixed_Cells_Type_1/DVV\"\n",
    "input_dir_dv = \"/Users/jayashrijagannathan/Documents/chronus_project/AnalyzeDataSet2/Mixed_Cells_Type_1/DV\"\n",
    "\n",
    "dvv_files = [f for f in os.listdir(input_dir_dvv)]\n",
    "dv_files = [f for f in os.listdir(input_dir_dv)]\n",
    "\n",
    "df_list = []  # initialize dataframes list\n",
    "\n",
    "for dvv_f, dv_f in zip(dvv_files, dv_files):\n",
    "    \n",
    "    \n",
    "    dvv_df = pd.read_csv(input_dir_dvv + \"/\" + dvv_f)\n",
    "    dv_df = pd.read_csv(input_dir_dv + \"/\" + dv_f)\n",
    "\n",
    "\n",
    "    # Here we combine the data of 106999 frequency dvv data with 27999999 dv data\n",
    "    dvv_df = dvv_df[[\"real_time_106999\",\"real_data_106999\",\"imag_data_106999\"]]\n",
    "    dv_df = dv_df[[\"real_data_27999999\",\"imag_data_27999999\"]]\n",
    "\n",
    "    # Scaling the dv data to match the dvv data\n",
    "    dv_df = dv_df.apply(lambda x: x * 10)\n",
    "\n",
    "    # Use the combined df data to proceed with analysis. \n",
    "    combined_df = pd.concat([dvv_df,dv_df], axis=1, sort=False)\n",
    "    df_list.append(combined_df)\n",
    "    \n",
    "concat_mixed_df1 = pd.concat(df_list, axis = 0)"
   ]
  },
  {
   "cell_type": "code",
   "execution_count": 107,
   "metadata": {},
   "outputs": [],
   "source": [
    "# Read the data for cell Mixed_Cells_Type_2\n",
    "\n",
    "# input_dir_dvv is the file location for dvv data folder\n",
    "# input_dir_dv is the file location for dv data folder\n",
    "\n",
    "\n",
    "input_dir_dvv = \"/Users/jayashrijagannathan/Documents/chronus_project/AnalyzeDataSet2/Mixed_Cells_Type_2/DVV\"\n",
    "input_dir_dv = \"/Users/jayashrijagannathan/Documents/chronus_project/AnalyzeDataSet2/Mixed_Cells_Type_2/DV\"\n",
    "\n",
    "dvv_files = [f for f in os.listdir(input_dir_dvv)]\n",
    "dv_files = [f for f in os.listdir(input_dir_dv)]\n",
    "\n",
    "df_list = []  # initialize dataframes list\n",
    "\n",
    "for dvv_f, dv_f in zip(dvv_files, dv_files):\n",
    "    \n",
    "    \n",
    "    dvv_df = pd.read_csv(input_dir_dvv + \"/\" + dvv_f)\n",
    "    dv_df = pd.read_csv(input_dir_dv + \"/\" + dv_f)\n",
    "\n",
    "\n",
    "    # Here we combine the data of 106999 frequency dvv data with 27999999 dv data\n",
    "    dvv_df = dvv_df[[\"real_time_106999\",\"real_data_106999\",\"imag_data_106999\"]]\n",
    "    dv_df = dv_df[[\"real_data_27999999\",\"imag_data_27999999\"]]\n",
    "\n",
    "    # Scaling the dv data to match the dvv data\n",
    "    dv_df = dv_df.apply(lambda x: x * 10)\n",
    "\n",
    "    # Use the combined df data to proceed with analysis. \n",
    "    combined_df = pd.concat([dvv_df,dv_df], axis=1, sort=False)\n",
    "    df_list.append(combined_df)\n",
    "    \n",
    "concat_mixed_df2 = pd.concat(df_list, axis = 0)"
   ]
  },
  {
   "cell_type": "code",
   "execution_count": 108,
   "metadata": {},
   "outputs": [
    {
     "data": {
      "text/html": [
       "<div>\n",
       "<style scoped>\n",
       "    .dataframe tbody tr th:only-of-type {\n",
       "        vertical-align: middle;\n",
       "    }\n",
       "\n",
       "    .dataframe tbody tr th {\n",
       "        vertical-align: top;\n",
       "    }\n",
       "\n",
       "    .dataframe thead th {\n",
       "        text-align: right;\n",
       "    }\n",
       "</style>\n",
       "<table border=\"1\" class=\"dataframe\">\n",
       "  <thead>\n",
       "    <tr style=\"text-align: right;\">\n",
       "      <th></th>\n",
       "      <th>real_time_106999</th>\n",
       "      <th>real_data_106999</th>\n",
       "      <th>imag_data_106999</th>\n",
       "      <th>real_data_27999999</th>\n",
       "      <th>imag_data_27999999</th>\n",
       "    </tr>\n",
       "  </thead>\n",
       "  <tbody>\n",
       "    <tr>\n",
       "      <th>count</th>\n",
       "      <td>909420.000000</td>\n",
       "      <td>909420.000000</td>\n",
       "      <td>909420.000000</td>\n",
       "      <td>909420.000000</td>\n",
       "      <td>9.094200e+05</td>\n",
       "    </tr>\n",
       "    <tr>\n",
       "      <th>mean</th>\n",
       "      <td>4.828389</td>\n",
       "      <td>0.000087</td>\n",
       "      <td>0.000345</td>\n",
       "      <td>0.000783</td>\n",
       "      <td>1.203197e-04</td>\n",
       "    </tr>\n",
       "    <tr>\n",
       "      <th>std</th>\n",
       "      <td>2.834325</td>\n",
       "      <td>0.004388</td>\n",
       "      <td>0.007431</td>\n",
       "      <td>0.005996</td>\n",
       "      <td>3.845288e-03</td>\n",
       "    </tr>\n",
       "    <tr>\n",
       "      <th>min</th>\n",
       "      <td>0.012960</td>\n",
       "      <td>-0.038856</td>\n",
       "      <td>-0.062456</td>\n",
       "      <td>-0.030852</td>\n",
       "      <td>-3.604581e-02</td>\n",
       "    </tr>\n",
       "    <tr>\n",
       "      <th>25%</th>\n",
       "      <td>2.344528</td>\n",
       "      <td>-0.000741</td>\n",
       "      <td>-0.000900</td>\n",
       "      <td>-0.000749</td>\n",
       "      <td>-6.721350e-04</td>\n",
       "    </tr>\n",
       "    <tr>\n",
       "      <th>50%</th>\n",
       "      <td>4.556157</td>\n",
       "      <td>-0.000018</td>\n",
       "      <td>-0.000016</td>\n",
       "      <td>-0.000053</td>\n",
       "      <td>3.896078e-07</td>\n",
       "    </tr>\n",
       "    <tr>\n",
       "      <th>75%</th>\n",
       "      <td>7.463443</td>\n",
       "      <td>0.000705</td>\n",
       "      <td>0.000897</td>\n",
       "      <td>0.000699</td>\n",
       "      <td>6.956632e-04</td>\n",
       "    </tr>\n",
       "    <tr>\n",
       "      <th>max</th>\n",
       "      <td>9.988067</td>\n",
       "      <td>0.040986</td>\n",
       "      <td>0.071008</td>\n",
       "      <td>0.061863</td>\n",
       "      <td>3.488605e-02</td>\n",
       "    </tr>\n",
       "  </tbody>\n",
       "</table>\n",
       "</div>"
      ],
      "text/plain": [
       "       real_time_106999  real_data_106999  imag_data_106999  \\\n",
       "count     909420.000000     909420.000000     909420.000000   \n",
       "mean           4.828389          0.000087          0.000345   \n",
       "std            2.834325          0.004388          0.007431   \n",
       "min            0.012960         -0.038856         -0.062456   \n",
       "25%            2.344528         -0.000741         -0.000900   \n",
       "50%            4.556157         -0.000018         -0.000016   \n",
       "75%            7.463443          0.000705          0.000897   \n",
       "max            9.988067          0.040986          0.071008   \n",
       "\n",
       "       real_data_27999999  imag_data_27999999  \n",
       "count       909420.000000        9.094200e+05  \n",
       "mean             0.000783        1.203197e-04  \n",
       "std              0.005996        3.845288e-03  \n",
       "min             -0.030852       -3.604581e-02  \n",
       "25%             -0.000749       -6.721350e-04  \n",
       "50%             -0.000053        3.896078e-07  \n",
       "75%              0.000699        6.956632e-04  \n",
       "max              0.061863        3.488605e-02  "
      ]
     },
     "execution_count": 108,
     "metadata": {},
     "output_type": "execute_result"
    }
   ],
   "source": [
    "# Mixed Cell Type 1\n",
    "\n",
    "concat_mixed_df1.describe()"
   ]
  },
  {
   "cell_type": "code",
   "execution_count": 109,
   "metadata": {},
   "outputs": [],
   "source": [
    "#Decision Tree Model\n",
    "\n",
    "dtree = DecisionTreeClassifier()"
   ]
  },
  {
   "cell_type": "code",
   "execution_count": 110,
   "metadata": {},
   "outputs": [
    {
     "data": {
      "text/plain": [
       "DecisionTreeClassifier(class_weight=None, criterion='gini', max_depth=None,\n",
       "                       max_features=None, max_leaf_nodes=None,\n",
       "                       min_impurity_decrease=0.0, min_impurity_split=None,\n",
       "                       min_samples_leaf=1, min_samples_split=2,\n",
       "                       min_weight_fraction_leaf=0.0, presort=False,\n",
       "                       random_state=None, splitter='best')"
      ]
     },
     "execution_count": 110,
     "metadata": {},
     "output_type": "execute_result"
    }
   ],
   "source": [
    "dtree.fit(X_train, y_train)"
   ]
  },
  {
   "cell_type": "code",
   "execution_count": 111,
   "metadata": {},
   "outputs": [],
   "source": [
    "y_pred = dtree.predict(X_test)"
   ]
  }
 ],
 "metadata": {
  "kernelspec": {
   "display_name": "Python 3",
   "language": "python",
   "name": "python3"
  },
  "language_info": {
   "codemirror_mode": {
    "name": "ipython",
    "version": 3
   },
   "file_extension": ".py",
   "mimetype": "text/x-python",
   "name": "python",
   "nbconvert_exporter": "python",
   "pygments_lexer": "ipython3",
   "version": "3.7.3"
  }
 },
 "nbformat": 4,
 "nbformat_minor": 2
}
