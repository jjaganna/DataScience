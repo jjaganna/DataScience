{
 "cells": [
  {
   "cell_type": "code",
   "execution_count": 1,
   "id": "5def23e8",
   "metadata": {},
   "outputs": [],
   "source": [
    "import numpy as np\n",
    "import pandas as pd\n",
    "import matplotlib.pyplot as plt\n",
    "import seaborn as sns\n",
    "import pyforest\n",
    "import warnings\n",
    "warnings.filterwarnings(\"ignore\")\n",
    "%matplotlib inline"
   ]
  },
  {
   "cell_type": "code",
   "execution_count": 2,
   "id": "0df3050e",
   "metadata": {},
   "outputs": [
    {
     "name": "stdout",
     "output_type": "stream",
     "text": [
      "<class 'pandas.core.frame.DataFrame'>\n",
      "RangeIndex: 532 entries, 0 to 531\n",
      "Data columns (total 10 columns):\n",
      " #   Column                    Non-Null Count  Dtype  \n",
      "---  ------                    --------------  -----  \n",
      " 0   Unnamed: 0                532 non-null    int64  \n",
      " 1   Pregnancies               532 non-null    int64  \n",
      " 2   Glucose                   532 non-null    int64  \n",
      " 3   BloodPressure             532 non-null    int64  \n",
      " 4   SkinThickness             532 non-null    int64  \n",
      " 5   Insulin                   532 non-null    int64  \n",
      " 6   BMI                       532 non-null    float64\n",
      " 7   DiabetesPedigreeFunction  532 non-null    float64\n",
      " 8   Age                       532 non-null    int64  \n",
      " 9   Outcome                   532 non-null    int64  \n",
      "dtypes: float64(2), int64(8)\n",
      "memory usage: 41.7 KB\n"
     ]
    }
   ],
   "source": [
    "# Read data from cleaned file\n",
    "\n",
    "df = pd.read_csv('../data/clean_Diabetes.csv')\n",
    "df.info()"
   ]
  },
  {
   "cell_type": "code",
   "execution_count": 3,
   "id": "986a50a2",
   "metadata": {},
   "outputs": [
    {
     "data": {
      "text/html": [
       "<div>\n",
       "<style scoped>\n",
       "    .dataframe tbody tr th:only-of-type {\n",
       "        vertical-align: middle;\n",
       "    }\n",
       "\n",
       "    .dataframe tbody tr th {\n",
       "        vertical-align: top;\n",
       "    }\n",
       "\n",
       "    .dataframe thead th {\n",
       "        text-align: right;\n",
       "    }\n",
       "</style>\n",
       "<table border=\"1\" class=\"dataframe\">\n",
       "  <thead>\n",
       "    <tr style=\"text-align: right;\">\n",
       "      <th></th>\n",
       "      <th>Unnamed: 0</th>\n",
       "      <th>Pregnancies</th>\n",
       "      <th>Glucose</th>\n",
       "      <th>BloodPressure</th>\n",
       "      <th>SkinThickness</th>\n",
       "      <th>Insulin</th>\n",
       "      <th>BMI</th>\n",
       "      <th>DiabetesPedigreeFunction</th>\n",
       "      <th>Age</th>\n",
       "      <th>Outcome</th>\n",
       "    </tr>\n",
       "  </thead>\n",
       "  <tbody>\n",
       "    <tr>\n",
       "      <th>0</th>\n",
       "      <td>0</td>\n",
       "      <td>6</td>\n",
       "      <td>148</td>\n",
       "      <td>72</td>\n",
       "      <td>35</td>\n",
       "      <td>0</td>\n",
       "      <td>33.6</td>\n",
       "      <td>0.627</td>\n",
       "      <td>50</td>\n",
       "      <td>1</td>\n",
       "    </tr>\n",
       "    <tr>\n",
       "      <th>1</th>\n",
       "      <td>1</td>\n",
       "      <td>1</td>\n",
       "      <td>85</td>\n",
       "      <td>66</td>\n",
       "      <td>29</td>\n",
       "      <td>0</td>\n",
       "      <td>26.6</td>\n",
       "      <td>0.351</td>\n",
       "      <td>31</td>\n",
       "      <td>0</td>\n",
       "    </tr>\n",
       "    <tr>\n",
       "      <th>2</th>\n",
       "      <td>3</td>\n",
       "      <td>1</td>\n",
       "      <td>89</td>\n",
       "      <td>66</td>\n",
       "      <td>23</td>\n",
       "      <td>94</td>\n",
       "      <td>28.1</td>\n",
       "      <td>0.167</td>\n",
       "      <td>21</td>\n",
       "      <td>0</td>\n",
       "    </tr>\n",
       "    <tr>\n",
       "      <th>3</th>\n",
       "      <td>4</td>\n",
       "      <td>0</td>\n",
       "      <td>137</td>\n",
       "      <td>40</td>\n",
       "      <td>35</td>\n",
       "      <td>168</td>\n",
       "      <td>43.1</td>\n",
       "      <td>2.288</td>\n",
       "      <td>33</td>\n",
       "      <td>1</td>\n",
       "    </tr>\n",
       "    <tr>\n",
       "      <th>4</th>\n",
       "      <td>6</td>\n",
       "      <td>3</td>\n",
       "      <td>78</td>\n",
       "      <td>50</td>\n",
       "      <td>32</td>\n",
       "      <td>88</td>\n",
       "      <td>31.0</td>\n",
       "      <td>0.248</td>\n",
       "      <td>26</td>\n",
       "      <td>1</td>\n",
       "    </tr>\n",
       "  </tbody>\n",
       "</table>\n",
       "</div>"
      ],
      "text/plain": [
       "   Unnamed: 0  Pregnancies  Glucose  BloodPressure  SkinThickness  Insulin  \\\n",
       "0           0            6      148             72             35        0   \n",
       "1           1            1       85             66             29        0   \n",
       "2           3            1       89             66             23       94   \n",
       "3           4            0      137             40             35      168   \n",
       "4           6            3       78             50             32       88   \n",
       "\n",
       "    BMI  DiabetesPedigreeFunction  Age  Outcome  \n",
       "0  33.6                     0.627   50        1  \n",
       "1  26.6                     0.351   31        0  \n",
       "2  28.1                     0.167   21        0  \n",
       "3  43.1                     2.288   33        1  \n",
       "4  31.0                     0.248   26        1  "
      ]
     },
     "execution_count": 3,
     "metadata": {},
     "output_type": "execute_result"
    }
   ],
   "source": [
    "df.head()"
   ]
  },
  {
   "cell_type": "code",
   "execution_count": 4,
   "id": "e3062f30",
   "metadata": {},
   "outputs": [
    {
     "data": {
      "text/plain": [
       "Index(['Unnamed: 0', 'Pregnancies', 'Glucose', 'BloodPressure',\n",
       "       'SkinThickness', 'Insulin', 'BMI', 'DiabetesPedigreeFunction', 'Age',\n",
       "       'Outcome'],\n",
       "      dtype='object')"
      ]
     },
     "execution_count": 4,
     "metadata": {},
     "output_type": "execute_result"
    }
   ],
   "source": [
    "df.columns"
   ]
  },
  {
   "cell_type": "code",
   "execution_count": 5,
   "id": "db74aaf2",
   "metadata": {},
   "outputs": [],
   "source": [
    "df.drop('Unnamed: 0', axis = 1, inplace = True)"
   ]
  },
  {
   "cell_type": "code",
   "execution_count": 6,
   "id": "33eb5b5f",
   "metadata": {},
   "outputs": [
    {
     "data": {
      "text/plain": [
       "Index(['Pregnancies', 'Glucose', 'BloodPressure', 'SkinThickness', 'Insulin',\n",
       "       'BMI', 'DiabetesPedigreeFunction', 'Age', 'Outcome'],\n",
       "      dtype='object')"
      ]
     },
     "execution_count": 6,
     "metadata": {},
     "output_type": "execute_result"
    }
   ],
   "source": [
    "df.columns"
   ]
  },
  {
   "cell_type": "markdown",
   "id": "9ba94920",
   "metadata": {},
   "source": [
    "### Lazy Predict"
   ]
  },
  {
   "cell_type": "code",
   "execution_count": 7,
   "id": "3531aebf",
   "metadata": {},
   "outputs": [],
   "source": [
    "# Define X and y\n",
    "\n",
    "X = df[['Pregnancies', 'Glucose', 'BloodPressure', 'SkinThickness', 'Insulin',\n",
    "       'BMI', 'DiabetesPedigreeFunction', 'Age']]\n",
    "y = df['Outcome']"
   ]
  },
  {
   "cell_type": "code",
   "execution_count": 8,
   "id": "c7cee723",
   "metadata": {},
   "outputs": [],
   "source": [
    "# Split the data into training and testing datasets\n",
    "\n",
    "from sklearn.model_selection import train_test_split\n",
    "\n",
    "X_train, X_test, y_train, y_test = train_test_split(X, y, test_size = 0.3, random_state = 101)"
   ]
  },
  {
   "cell_type": "code",
   "execution_count": 9,
   "id": "970b4bad",
   "metadata": {},
   "outputs": [],
   "source": [
    "# Modeling with LazyPredict\n",
    "\n",
    "import lazypredict\n",
    "from lazypredict.Supervised import LazyClassifier\n",
    "\n",
    "clf = LazyClassifier()"
   ]
  },
  {
   "cell_type": "code",
   "execution_count": 10,
   "id": "1a430df5",
   "metadata": {},
   "outputs": [
    {
     "name": "stderr",
     "output_type": "stream",
     "text": [
      "100%|███████████████████████████████████████████████████████████████████████████████████████████████████| 29/29 [00:00<00:00, 33.19it/s]\n"
     ]
    }
   ],
   "source": [
    "# Fit the models and do predictions\n",
    "\n",
    "models, predictions = clf.fit(X_train, X_test, y_train, y_test)"
   ]
  },
  {
   "cell_type": "code",
   "execution_count": 11,
   "id": "3b0e22a8",
   "metadata": {},
   "outputs": [
    {
     "name": "stdout",
     "output_type": "stream",
     "text": [
      "                               Accuracy  Balanced Accuracy  ROC AUC  F1 Score  \\\n",
      "Model                                                                           \n",
      "NearestCentroid                    0.77               0.75     0.75      0.77   \n",
      "AdaBoostClassifier                 0.79               0.74     0.74      0.79   \n",
      "GaussianNB                         0.78               0.74     0.74      0.78   \n",
      "LGBMClassifier                     0.79               0.73     0.73      0.78   \n",
      "CalibratedClassifierCV             0.78               0.72     0.72      0.78   \n",
      "BernoulliNB                        0.75               0.72     0.72      0.75   \n",
      "LinearDiscriminantAnalysis         0.78               0.72     0.72      0.77   \n",
      "SVC                                0.78               0.72     0.72      0.77   \n",
      "RidgeClassifierCV                  0.78               0.72     0.72      0.77   \n",
      "RidgeClassifier                    0.78               0.72     0.72      0.77   \n",
      "QuadraticDiscriminantAnalysis      0.78               0.72     0.72      0.77   \n",
      "RandomForestClassifier             0.78               0.72     0.72      0.77   \n",
      "LinearSVC                          0.77               0.72     0.72      0.76   \n",
      "NuSVC                              0.78               0.71     0.71      0.77   \n",
      "LogisticRegression                 0.76               0.71     0.71      0.76   \n",
      "Perceptron                         0.74               0.71     0.71      0.74   \n",
      "ExtraTreesClassifier               0.78               0.70     0.70      0.76   \n",
      "KNeighborsClassifier               0.77               0.70     0.70      0.76   \n",
      "BaggingClassifier                  0.76               0.70     0.70      0.75   \n",
      "DecisionTreeClassifier             0.76               0.69     0.69      0.75   \n",
      "XGBClassifier                      0.74               0.68     0.68      0.73   \n",
      "LabelSpreading                     0.71               0.67     0.67      0.71   \n",
      "LabelPropagation                   0.71               0.67     0.67      0.71   \n",
      "ExtraTreeClassifier                0.70               0.66     0.66      0.70   \n",
      "PassiveAggressiveClassifier        0.66               0.66     0.66      0.67   \n",
      "SGDClassifier                      0.69               0.64     0.64      0.69   \n",
      "DummyClassifier                    0.68               0.50     0.50      0.55   \n",
      "\n",
      "                               Time Taken  \n",
      "Model                                      \n",
      "NearestCentroid                      0.01  \n",
      "AdaBoostClassifier                   0.12  \n",
      "GaussianNB                           0.01  \n",
      "LGBMClassifier                       0.04  \n",
      "CalibratedClassifierCV               0.07  \n",
      "BernoulliNB                          0.01  \n",
      "LinearDiscriminantAnalysis           0.01  \n",
      "SVC                                  0.02  \n",
      "RidgeClassifierCV                    0.01  \n",
      "RidgeClassifier                      0.01  \n",
      "QuadraticDiscriminantAnalysis        0.01  \n",
      "RandomForestClassifier               0.14  \n",
      "LinearSVC                            0.02  \n",
      "NuSVC                                0.02  \n",
      "LogisticRegression                   0.01  \n",
      "Perceptron                           0.01  \n",
      "ExtraTreesClassifier                 0.12  \n",
      "KNeighborsClassifier                 0.01  \n",
      "BaggingClassifier                    0.04  \n",
      "DecisionTreeClassifier               0.01  \n",
      "XGBClassifier                        0.08  \n",
      "LabelSpreading                       0.01  \n",
      "LabelPropagation                     0.01  \n",
      "ExtraTreeClassifier                  0.01  \n",
      "PassiveAggressiveClassifier          0.01  \n",
      "SGDClassifier                        0.01  \n",
      "DummyClassifier                      0.01  \n"
     ]
    }
   ],
   "source": [
    "print(models)"
   ]
  },
  {
   "cell_type": "code",
   "execution_count": 12,
   "id": "e6291ee1",
   "metadata": {},
   "outputs": [],
   "source": [
    "# Observation: Best is AdaBoostClassifier followed closely by LightGradientBoostingMachineClassifier (LGBMClassfier)\n",
    "# Random Forest Classifer and SVC have done well too!"
   ]
  },
  {
   "cell_type": "markdown",
   "id": "f60f5f9e",
   "metadata": {},
   "source": [
    "### Ada Boost Classifier with Default values"
   ]
  },
  {
   "cell_type": "code",
   "execution_count": 13,
   "id": "4e78e4b2",
   "metadata": {},
   "outputs": [],
   "source": [
    "# Ada Boost classifier with default (Decision Tree)\n",
    "\n",
    "from sklearn.ensemble import AdaBoostClassifier\n",
    "from sklearn import metrics"
   ]
  },
  {
   "cell_type": "code",
   "execution_count": 14,
   "id": "338a5371",
   "metadata": {},
   "outputs": [],
   "source": [
    "# Create adaboost classifier object with default values -- Decision Tree, n_estimators = 50, learning_rate - 1\n",
    "\n",
    "abc = AdaBoostClassifier(n_estimators=50, learning_rate=1)"
   ]
  },
  {
   "cell_type": "code",
   "execution_count": 15,
   "id": "e03ded04",
   "metadata": {},
   "outputs": [],
   "source": [
    "# Train Adaboost classifier\n",
    "\n",
    "model = abc.fit(X_train, y_train)"
   ]
  },
  {
   "cell_type": "code",
   "execution_count": 16,
   "id": "2b0a429a",
   "metadata": {},
   "outputs": [],
   "source": [
    "# Predict response for the test dataset\n",
    "\n",
    "y_pred = model.predict(X_test)"
   ]
  },
  {
   "cell_type": "code",
   "execution_count": 17,
   "id": "084ca822",
   "metadata": {},
   "outputs": [
    {
     "name": "stdout",
     "output_type": "stream",
     "text": [
      "Accuracy:  0.79375\n"
     ]
    }
   ],
   "source": [
    "# Model accuracy\n",
    "\n",
    "print(\"Accuracy: \", metrics.accuracy_score(y_test, y_pred))"
   ]
  },
  {
   "cell_type": "code",
   "execution_count": null,
   "id": "5ce598da",
   "metadata": {},
   "outputs": [],
   "source": []
  },
  {
   "cell_type": "code",
   "execution_count": null,
   "id": "9c088865",
   "metadata": {},
   "outputs": [],
   "source": []
  },
  {
   "cell_type": "code",
   "execution_count": null,
   "id": "68019367",
   "metadata": {},
   "outputs": [],
   "source": []
  }
 ],
 "metadata": {
  "kernelspec": {
   "display_name": "Python 3 (ipykernel)",
   "language": "python",
   "name": "python3"
  },
  "language_info": {
   "codemirror_mode": {
    "name": "ipython",
    "version": 3
   },
   "file_extension": ".py",
   "mimetype": "text/x-python",
   "name": "python",
   "nbconvert_exporter": "python",
   "pygments_lexer": "ipython3",
   "version": "3.9.12"
  }
 },
 "nbformat": 4,
 "nbformat_minor": 5
}
