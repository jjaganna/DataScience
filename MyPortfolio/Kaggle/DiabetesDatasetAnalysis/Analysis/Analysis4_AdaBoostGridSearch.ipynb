{
 "cells": [
  {
   "cell_type": "markdown",
   "id": "5f3cd56a",
   "metadata": {},
   "source": [
    "### AdaBoost Hyperparameters Grid Search with default Decision Tree Learner"
   ]
  },
  {
   "cell_type": "code",
   "execution_count": 1,
   "id": "5def23e8",
   "metadata": {},
   "outputs": [],
   "source": [
    "import numpy as np\n",
    "import pandas as pd"
   ]
  },
  {
   "cell_type": "code",
   "execution_count": 2,
   "id": "0df3050e",
   "metadata": {},
   "outputs": [
    {
     "name": "stdout",
     "output_type": "stream",
     "text": [
      "<class 'pandas.core.frame.DataFrame'>\n",
      "RangeIndex: 532 entries, 0 to 531\n",
      "Data columns (total 10 columns):\n",
      " #   Column                    Non-Null Count  Dtype  \n",
      "---  ------                    --------------  -----  \n",
      " 0   Unnamed: 0                532 non-null    int64  \n",
      " 1   Pregnancies               532 non-null    int64  \n",
      " 2   Glucose                   532 non-null    int64  \n",
      " 3   BloodPressure             532 non-null    int64  \n",
      " 4   SkinThickness             532 non-null    int64  \n",
      " 5   Insulin                   532 non-null    int64  \n",
      " 6   BMI                       532 non-null    float64\n",
      " 7   DiabetesPedigreeFunction  532 non-null    float64\n",
      " 8   Age                       532 non-null    int64  \n",
      " 9   Outcome                   532 non-null    int64  \n",
      "dtypes: float64(2), int64(8)\n",
      "memory usage: 41.7 KB\n"
     ]
    }
   ],
   "source": [
    "# Read data from cleaned file\n",
    "\n",
    "df = pd.read_csv('../data/clean_Diabetes.csv')\n",
    "df.info()"
   ]
  },
  {
   "cell_type": "code",
   "execution_count": 3,
   "id": "986a50a2",
   "metadata": {},
   "outputs": [
    {
     "data": {
      "text/html": [
       "<div>\n",
       "<style scoped>\n",
       "    .dataframe tbody tr th:only-of-type {\n",
       "        vertical-align: middle;\n",
       "    }\n",
       "\n",
       "    .dataframe tbody tr th {\n",
       "        vertical-align: top;\n",
       "    }\n",
       "\n",
       "    .dataframe thead th {\n",
       "        text-align: right;\n",
       "    }\n",
       "</style>\n",
       "<table border=\"1\" class=\"dataframe\">\n",
       "  <thead>\n",
       "    <tr style=\"text-align: right;\">\n",
       "      <th></th>\n",
       "      <th>Unnamed: 0</th>\n",
       "      <th>Pregnancies</th>\n",
       "      <th>Glucose</th>\n",
       "      <th>BloodPressure</th>\n",
       "      <th>SkinThickness</th>\n",
       "      <th>Insulin</th>\n",
       "      <th>BMI</th>\n",
       "      <th>DiabetesPedigreeFunction</th>\n",
       "      <th>Age</th>\n",
       "      <th>Outcome</th>\n",
       "    </tr>\n",
       "  </thead>\n",
       "  <tbody>\n",
       "    <tr>\n",
       "      <th>0</th>\n",
       "      <td>0</td>\n",
       "      <td>6</td>\n",
       "      <td>148</td>\n",
       "      <td>72</td>\n",
       "      <td>35</td>\n",
       "      <td>0</td>\n",
       "      <td>33.6</td>\n",
       "      <td>0.627</td>\n",
       "      <td>50</td>\n",
       "      <td>1</td>\n",
       "    </tr>\n",
       "    <tr>\n",
       "      <th>1</th>\n",
       "      <td>1</td>\n",
       "      <td>1</td>\n",
       "      <td>85</td>\n",
       "      <td>66</td>\n",
       "      <td>29</td>\n",
       "      <td>0</td>\n",
       "      <td>26.6</td>\n",
       "      <td>0.351</td>\n",
       "      <td>31</td>\n",
       "      <td>0</td>\n",
       "    </tr>\n",
       "    <tr>\n",
       "      <th>2</th>\n",
       "      <td>3</td>\n",
       "      <td>1</td>\n",
       "      <td>89</td>\n",
       "      <td>66</td>\n",
       "      <td>23</td>\n",
       "      <td>94</td>\n",
       "      <td>28.1</td>\n",
       "      <td>0.167</td>\n",
       "      <td>21</td>\n",
       "      <td>0</td>\n",
       "    </tr>\n",
       "    <tr>\n",
       "      <th>3</th>\n",
       "      <td>4</td>\n",
       "      <td>0</td>\n",
       "      <td>137</td>\n",
       "      <td>40</td>\n",
       "      <td>35</td>\n",
       "      <td>168</td>\n",
       "      <td>43.1</td>\n",
       "      <td>2.288</td>\n",
       "      <td>33</td>\n",
       "      <td>1</td>\n",
       "    </tr>\n",
       "    <tr>\n",
       "      <th>4</th>\n",
       "      <td>6</td>\n",
       "      <td>3</td>\n",
       "      <td>78</td>\n",
       "      <td>50</td>\n",
       "      <td>32</td>\n",
       "      <td>88</td>\n",
       "      <td>31.0</td>\n",
       "      <td>0.248</td>\n",
       "      <td>26</td>\n",
       "      <td>1</td>\n",
       "    </tr>\n",
       "  </tbody>\n",
       "</table>\n",
       "</div>"
      ],
      "text/plain": [
       "   Unnamed: 0  Pregnancies  Glucose  BloodPressure  SkinThickness  Insulin  \\\n",
       "0           0            6      148             72             35        0   \n",
       "1           1            1       85             66             29        0   \n",
       "2           3            1       89             66             23       94   \n",
       "3           4            0      137             40             35      168   \n",
       "4           6            3       78             50             32       88   \n",
       "\n",
       "    BMI  DiabetesPedigreeFunction  Age  Outcome  \n",
       "0  33.6                     0.627   50        1  \n",
       "1  26.6                     0.351   31        0  \n",
       "2  28.1                     0.167   21        0  \n",
       "3  43.1                     2.288   33        1  \n",
       "4  31.0                     0.248   26        1  "
      ]
     },
     "execution_count": 3,
     "metadata": {},
     "output_type": "execute_result"
    }
   ],
   "source": [
    "df.head()"
   ]
  },
  {
   "cell_type": "code",
   "execution_count": 4,
   "id": "e3062f30",
   "metadata": {},
   "outputs": [
    {
     "data": {
      "text/plain": [
       "Index(['Unnamed: 0', 'Pregnancies', 'Glucose', 'BloodPressure',\n",
       "       'SkinThickness', 'Insulin', 'BMI', 'DiabetesPedigreeFunction', 'Age',\n",
       "       'Outcome'],\n",
       "      dtype='object')"
      ]
     },
     "execution_count": 4,
     "metadata": {},
     "output_type": "execute_result"
    }
   ],
   "source": [
    "df.columns"
   ]
  },
  {
   "cell_type": "code",
   "execution_count": 5,
   "id": "db74aaf2",
   "metadata": {},
   "outputs": [],
   "source": [
    "df.drop('Unnamed: 0', axis = 1, inplace = True)"
   ]
  },
  {
   "cell_type": "code",
   "execution_count": 6,
   "id": "33eb5b5f",
   "metadata": {},
   "outputs": [
    {
     "data": {
      "text/plain": [
       "Index(['Pregnancies', 'Glucose', 'BloodPressure', 'SkinThickness', 'Insulin',\n",
       "       'BMI', 'DiabetesPedigreeFunction', 'Age', 'Outcome'],\n",
       "      dtype='object')"
      ]
     },
     "execution_count": 6,
     "metadata": {},
     "output_type": "execute_result"
    }
   ],
   "source": [
    "df.columns"
   ]
  },
  {
   "cell_type": "code",
   "execution_count": 7,
   "id": "3531aebf",
   "metadata": {},
   "outputs": [],
   "source": [
    "# Define X and y\n",
    "\n",
    "X = df[['Pregnancies', 'Glucose', 'BloodPressure', 'SkinThickness', 'Insulin',\n",
    "       'BMI', 'DiabetesPedigreeFunction', 'Age']]\n",
    "y = df['Outcome']"
   ]
  },
  {
   "cell_type": "code",
   "execution_count": 8,
   "id": "2568ba2d",
   "metadata": {},
   "outputs": [],
   "source": [
    "from sklearn.datasets import make_classification\n",
    "from sklearn.model_selection import RepeatedStratifiedKFold\n",
    "from sklearn.model_selection import GridSearchCV\n",
    "from sklearn.ensemble import AdaBoostClassifier"
   ]
  },
  {
   "cell_type": "code",
   "execution_count": 9,
   "id": "19a72dac",
   "metadata": {},
   "outputs": [
    {
     "name": "stdout",
     "output_type": "stream",
     "text": [
      "Best: 0.7869322152341022 using {'learning_rate': 0.1, 'n_estimators': 100}\n",
      "\n",
      "\n",
      "\n",
      "0.7337293268110879 (0.04074309135563268) with : {'learning_rate': 0.001, 'n_estimators': 10}\n",
      "0.7324714651758678 (0.038867533924231513) with : {'learning_rate': 0.001, 'n_estimators': 50}\n",
      "0.7312136035406476 (0.03749230505721391) with : {'learning_rate': 0.001, 'n_estimators': 100}\n",
      "0.7443745632424879 (0.046650923474466206) with : {'learning_rate': 0.001, 'n_estimators': 500}\n",
      "0.7324598183088751 (0.037100178455760024) with : {'learning_rate': 0.01, 'n_estimators': 10}\n",
      "0.7450034940600979 (0.04640390694893394) with : {'learning_rate': 0.01, 'n_estimators': 50}\n",
      "0.7593873747961799 (0.049529086212512875) with : {'learning_rate': 0.01, 'n_estimators': 100}\n",
      "0.7800722105753551 (0.037432097376760495) with : {'learning_rate': 0.01, 'n_estimators': 500}\n",
      "0.7600046587467971 (0.047197042750231746) with : {'learning_rate': 0.1, 'n_estimators': 10}\n",
      "0.7787910552061496 (0.03868881830700726) with : {'learning_rate': 0.1, 'n_estimators': 50}\n",
      "0.7869322152341022 (0.04096079762722798) with : {'learning_rate': 0.1, 'n_estimators': 100}\n",
      "0.77640344747263 (0.04078601783198152) with : {'learning_rate': 0.1, 'n_estimators': 500}\n",
      "0.7675285348241322 (0.045854116199841616) with : {'learning_rate': 0.25, 'n_estimators': 10}\n",
      "0.7813766596785465 (0.03784387549426149) with : {'learning_rate': 0.25, 'n_estimators': 50}\n",
      "0.7763801537386444 (0.039168813698579656) with : {'learning_rate': 0.25, 'n_estimators': 100}\n",
      "0.7619846261355697 (0.040700166265292395) with : {'learning_rate': 0.25, 'n_estimators': 500}\n",
      "0.7776496622408573 (0.047288759905090606) with : {'learning_rate': 0.5, 'n_estimators': 10}\n",
      "0.7745283018867924 (0.04500933067900908) with : {'learning_rate': 0.5, 'n_estimators': 50}\n",
      "0.7601211274167251 (0.05287116277767877) with : {'learning_rate': 0.5, 'n_estimators': 100}\n",
      "0.7607384113673422 (0.04343635142082818) with : {'learning_rate': 0.5, 'n_estimators': 500}\n",
      "0.7694153272769626 (0.037824491196385625) with : {'learning_rate': 1, 'n_estimators': 10}\n",
      "0.7670160726764501 (0.049748790378532554) with : {'learning_rate': 1, 'n_estimators': 50}\n",
      "0.7475541579315166 (0.04284300458646225) with : {'learning_rate': 1, 'n_estimators': 100}\n",
      "0.7425925925925927 (0.04596879711650496) with : {'learning_rate': 1, 'n_estimators': 500}\n"
     ]
    }
   ],
   "source": [
    "# Define the model with default hyperparameters\n",
    "\n",
    "model = AdaBoostClassifier()\n",
    "\n",
    "# Define grid values to search\n",
    "\n",
    "n_estimators = [10, 50, 100, 500]\n",
    "learning_rate = [0.001, 0.01, 0.1, 0.25, 0.5, 1]\n",
    "\n",
    "grid = {'n_estimators' : n_estimators, 'learning_rate': learning_rate}\n",
    "\n",
    "# Define evaluation procedure\n",
    "cv = RepeatedStratifiedKFold(n_splits=10, n_repeats=3, random_state=101)\n",
    "\n",
    "# Define the grid values for search\n",
    "grid_search = GridSearchCV(estimator=model, param_grid=grid, n_jobs=-1, cv=cv, scoring = 'accuracy')\n",
    "\n",
    "# execute grid search\n",
    "\n",
    "grid_result = grid_search.fit(X, y)\n",
    "\n",
    "# summarize the best score and configuration\n",
    "\n",
    "print(\"Best: {} using {}\".format(grid_result.best_score_, \n",
    "                                                                               grid_result.best_params_))\n",
    "print(\"\\n\\n\")\n",
    "# summarize all the scores that were evaluated\n",
    "\n",
    "means = grid_result.cv_results_['mean_test_score']\n",
    "stds = grid_result.cv_results_['std_test_score']\n",
    "params = grid_result.cv_results_['params']\n",
    "\n",
    "for mean, stddev, param in zip(means, stds, params):\n",
    "    print(\"{} ({}) with : {}\".format(mean, stddev, param))"
   ]
  },
  {
   "cell_type": "code",
   "execution_count": null,
   "id": "5ce598da",
   "metadata": {},
   "outputs": [],
   "source": []
  },
  {
   "cell_type": "code",
   "execution_count": null,
   "id": "9c088865",
   "metadata": {},
   "outputs": [],
   "source": []
  },
  {
   "cell_type": "code",
   "execution_count": null,
   "id": "68019367",
   "metadata": {},
   "outputs": [],
   "source": []
  }
 ],
 "metadata": {
  "kernelspec": {
   "display_name": "Python 3 (ipykernel)",
   "language": "python",
   "name": "python3"
  },
  "language_info": {
   "codemirror_mode": {
    "name": "ipython",
    "version": 3
   },
   "file_extension": ".py",
   "mimetype": "text/x-python",
   "name": "python",
   "nbconvert_exporter": "python",
   "pygments_lexer": "ipython3",
   "version": "3.9.12"
  }
 },
 "nbformat": 4,
 "nbformat_minor": 5
}
